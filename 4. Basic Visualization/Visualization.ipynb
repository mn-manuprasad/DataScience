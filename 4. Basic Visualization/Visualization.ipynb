{
 "cells": [
  {
   "cell_type": "code",
   "execution_count": 1,
   "id": "f9ecff45",
   "metadata": {},
   "outputs": [],
   "source": [
    "import pandas as pd\n",
    "import numpy as np\n",
    "import seaborn\n",
    "from matplotlib import pyplot as plt"
   ]
  },
  {
   "cell_type": "markdown",
   "id": "3eb1df8d",
   "metadata": {},
   "source": [
    "# Visualization"
   ]
  },
  {
   "cell_type": "markdown",
   "id": "70de1fcb",
   "metadata": {},
   "source": [
    "Representing the data in a graph to analyze it easily"
   ]
  },
  {
   "cell_type": "markdown",
   "id": "8f75a5ff",
   "metadata": {},
   "source": [
    "### Libraries For Visualization\n",
    "\n",
    "1. matplotlib \n",
    "          mat -> Matrix \n",
    "          plot -> Plotting  \n",
    "          lib -> Library \n",
    " \n",
    "   matplotlib has 2 packages \n",
    "\n",
    "   1.1 pyplot  --> All the plotting functions \n",
    "   \n",
    "   1.2 pylab   --> pyplot + numpy \n",
    "   \n",
    " 2. seaborn (Used for advanced visualization)\n",
    " \n",
    " "
   ]
  },
  {
   "cell_type": "code",
   "execution_count": 2,
   "id": "1b331fbf",
   "metadata": {},
   "outputs": [
    {
     "data": {
      "text/html": [
       "<div>\n",
       "<style scoped>\n",
       "    .dataframe tbody tr th:only-of-type {\n",
       "        vertical-align: middle;\n",
       "    }\n",
       "\n",
       "    .dataframe tbody tr th {\n",
       "        vertical-align: top;\n",
       "    }\n",
       "\n",
       "    .dataframe thead th {\n",
       "        text-align: right;\n",
       "    }\n",
       "</style>\n",
       "<table border=\"1\" class=\"dataframe\">\n",
       "  <thead>\n",
       "    <tr style=\"text-align: right;\">\n",
       "      <th></th>\n",
       "      <th>Country</th>\n",
       "      <th>Age</th>\n",
       "      <th>Salary</th>\n",
       "      <th>Purchased</th>\n",
       "    </tr>\n",
       "  </thead>\n",
       "  <tbody>\n",
       "    <tr>\n",
       "      <th>0</th>\n",
       "      <td>France</td>\n",
       "      <td>44.0</td>\n",
       "      <td>72000.0</td>\n",
       "      <td>No</td>\n",
       "    </tr>\n",
       "    <tr>\n",
       "      <th>1</th>\n",
       "      <td>Spain</td>\n",
       "      <td>27.0</td>\n",
       "      <td>48000.0</td>\n",
       "      <td>Yes</td>\n",
       "    </tr>\n",
       "    <tr>\n",
       "      <th>2</th>\n",
       "      <td>Germany</td>\n",
       "      <td>30.0</td>\n",
       "      <td>54000.0</td>\n",
       "      <td>No</td>\n",
       "    </tr>\n",
       "    <tr>\n",
       "      <th>3</th>\n",
       "      <td>Spain</td>\n",
       "      <td>38.0</td>\n",
       "      <td>61000.0</td>\n",
       "      <td>No</td>\n",
       "    </tr>\n",
       "    <tr>\n",
       "      <th>4</th>\n",
       "      <td>Germany</td>\n",
       "      <td>40.0</td>\n",
       "      <td>NaN</td>\n",
       "      <td>Yes</td>\n",
       "    </tr>\n",
       "    <tr>\n",
       "      <th>5</th>\n",
       "      <td>France</td>\n",
       "      <td>35.0</td>\n",
       "      <td>58000.0</td>\n",
       "      <td>Yes</td>\n",
       "    </tr>\n",
       "    <tr>\n",
       "      <th>6</th>\n",
       "      <td>Spain</td>\n",
       "      <td>NaN</td>\n",
       "      <td>52000.0</td>\n",
       "      <td>No</td>\n",
       "    </tr>\n",
       "    <tr>\n",
       "      <th>7</th>\n",
       "      <td>France</td>\n",
       "      <td>48.0</td>\n",
       "      <td>79000.0</td>\n",
       "      <td>Yes</td>\n",
       "    </tr>\n",
       "    <tr>\n",
       "      <th>8</th>\n",
       "      <td>Germany</td>\n",
       "      <td>50.0</td>\n",
       "      <td>83000.0</td>\n",
       "      <td>No</td>\n",
       "    </tr>\n",
       "    <tr>\n",
       "      <th>9</th>\n",
       "      <td>France</td>\n",
       "      <td>37.0</td>\n",
       "      <td>67000.0</td>\n",
       "      <td>Yes</td>\n",
       "    </tr>\n",
       "  </tbody>\n",
       "</table>\n",
       "</div>"
      ],
      "text/plain": [
       "   Country   Age   Salary Purchased\n",
       "0   France  44.0  72000.0        No\n",
       "1    Spain  27.0  48000.0       Yes\n",
       "2  Germany  30.0  54000.0        No\n",
       "3    Spain  38.0  61000.0        No\n",
       "4  Germany  40.0      NaN       Yes\n",
       "5   France  35.0  58000.0       Yes\n",
       "6    Spain   NaN  52000.0        No\n",
       "7   France  48.0  79000.0       Yes\n",
       "8  Germany  50.0  83000.0        No\n",
       "9   France  37.0  67000.0       Yes"
      ]
     },
     "execution_count": 2,
     "metadata": {},
     "output_type": "execute_result"
    }
   ],
   "source": [
    "data = pd.read_csv(r\"Data.csv\")\n",
    "data"
   ]
  },
  {
   "cell_type": "markdown",
   "id": "893431d9",
   "metadata": {},
   "source": [
    "# Bar Chart"
   ]
  },
  {
   "cell_type": "markdown",
   "id": "60341321",
   "metadata": {},
   "source": [
    "#### The best way to represent categorical data with frequencies is bar chart"
   ]
  },
  {
   "cell_type": "code",
   "execution_count": 3,
   "id": "8c764cf3",
   "metadata": {},
   "outputs": [
    {
     "data": {
      "text/plain": [
       "France     4\n",
       "Spain      3\n",
       "Germany    3\n",
       "Name: Country, dtype: int64"
      ]
     },
     "execution_count": 3,
     "metadata": {},
     "output_type": "execute_result"
    }
   ],
   "source": [
    "data[\"Country\"].value_counts() # FDT of country"
   ]
  },
  {
   "cell_type": "code",
   "execution_count": 4,
   "id": "a5f4a700",
   "metadata": {},
   "outputs": [
    {
     "data": {
      "text/plain": [
       "No     5\n",
       "Yes    5\n",
       "Name: Purchased, dtype: int64"
      ]
     },
     "execution_count": 4,
     "metadata": {},
     "output_type": "execute_result"
    }
   ],
   "source": [
    "data[\"Purchased\"].value_counts() # FDT of Purchased"
   ]
  },
  {
   "cell_type": "code",
   "execution_count": 5,
   "id": "5e9a80c8",
   "metadata": {},
   "outputs": [],
   "source": [
    "fdt_c = data[\"Country\"].value_counts()\n",
    "fdt_p = data[\"Purchased\"].value_counts()"
   ]
  },
  {
   "cell_type": "code",
   "execution_count": 6,
   "id": "3adfe2ad",
   "metadata": {},
   "outputs": [
    {
     "data": {
      "text/plain": [
       "Index(['France', 'Spain', 'Germany'], dtype='object')"
      ]
     },
     "execution_count": 6,
     "metadata": {},
     "output_type": "execute_result"
    }
   ],
   "source": [
    "fdt_c.index "
   ]
  },
  {
   "cell_type": "code",
   "execution_count": 7,
   "id": "0fb7983a",
   "metadata": {},
   "outputs": [
    {
     "data": {
      "text/plain": [
       "array([4, 3, 3], dtype=int64)"
      ]
     },
     "execution_count": 7,
     "metadata": {},
     "output_type": "execute_result"
    }
   ],
   "source": [
    "fdt_c.values"
   ]
  },
  {
   "cell_type": "code",
   "execution_count": 8,
   "id": "da2f9f8a",
   "metadata": {},
   "outputs": [
    {
     "data": {
      "text/plain": [
       "<BarContainer object of 3 artists>"
      ]
     },
     "execution_count": 8,
     "metadata": {},
     "output_type": "execute_result"
    },
    {
     "data": {
      "image/png": "[encoded data removed]",
      "text/plain": [
       "<Figure size 432x288 with 1 Axes>"
      ]
     },
     "metadata": {
      "needs_background": "light"
     },
     "output_type": "display_data"
    }
   ],
   "source": [
    "plt.bar(fdt_c.index,fdt_c.values) # Categories on x-axis and value on y axis"
   ]
  },
  {
   "cell_type": "markdown",
   "id": "4c8ff04f",
   "metadata": {},
   "source": [
    "###### We can change the width of the bar width argument. By default it will be 0.8. Width ranges from 0 to 1"
   ]
  },
  {
   "cell_type": "code",
   "execution_count": 9,
   "id": "2f99f5e5",
   "metadata": {},
   "outputs": [
    {
     "data": {
      "text/plain": [
       "<BarContainer object of 3 artists>"
      ]
     },
     "execution_count": 9,
     "metadata": {},
     "output_type": "execute_result"
    },
    {
     "data": {
      "image/png": "[encoded data removed]",
      "text/plain": [
       "<Figure size 432x288 with 1 Axes>"
      ]
     },
     "metadata": {
      "needs_background": "light"
     },
     "output_type": "display_data"
    }
   ],
   "source": [
    "plt.bar(fdt_c.index,fdt_c.values,width=0.4)"
   ]
  },
  {
   "cell_type": "markdown",
   "id": "74f1e0a0",
   "metadata": {},
   "source": [
    "######  We can give labels on x and y axis using x-label() and y-label()"
   ]
  },
  {
   "cell_type": "code",
   "execution_count": 10,
   "id": "1bd583b3",
   "metadata": {},
   "outputs": [
    {
     "data": {
      "text/plain": [
       "<BarContainer object of 3 artists>"
      ]
     },
     "execution_count": 10,
     "metadata": {},
     "output_type": "execute_result"
    },
    {
     "data": {
      "image/png": "[encoded data removed]",
      "text/plain": [
       "<Figure size 432x288 with 1 Axes>"
      ]
     },
     "metadata": {
      "needs_background": "light"
     },
     "output_type": "display_data"
    }
   ],
   "source": [
    "plt.xlabel(\"Country\")\n",
    "plt.ylabel(\"Frequncy\")\n",
    "plt.title(\"Count of customers in each country\")\n",
    "plt.bar(fdt_c.index,fdt_c.values,width=0.6)"
   ]
  },
  {
   "cell_type": "markdown",
   "id": "e9aa27b4",
   "metadata": {},
   "source": [
    "######  If you want to show only the graph without \"<BarContainer object of 3 artists>\" these kinds of texts then we should use plt.show(). Without using plt.show() we won't be getting graph( Jupyter by default gives the graph even if we don't use plt.show(). But it doesn't work on all editors)"
   ]
  },
  {
   "cell_type": "code",
   "execution_count": 11,
   "id": "e19a73e8",
   "metadata": {},
   "outputs": [
    {
     "data": {
      "image/png": "[encoded data removed]",
      "text/plain": [
       "<Figure size 432x288 with 1 Axes>"
      ]
     },
     "metadata": {
      "needs_background": "light"
     },
     "output_type": "display_data"
    }
   ],
   "source": [
    "plt.xlabel(\"Country\")\n",
    "plt.ylabel(\"Frequncy\")\n",
    "plt.title(\"Count of customers in each country\")\n",
    "plt.bar(fdt_c.index,fdt_c.values,width=0.6)\n",
    "plt.show()"
   ]
  },
  {
   "cell_type": "markdown",
   "id": "75a74d8b",
   "metadata": {},
   "source": [
    "###### For changing the color of bars we can use the color argument"
   ]
  },
  {
   "cell_type": "code",
   "execution_count": 12,
   "id": "77d3acf1",
   "metadata": {},
   "outputs": [
    {
     "data": {
      "text/plain": [
       "<BarContainer object of 3 artists>"
      ]
     },
     "execution_count": 12,
     "metadata": {},
     "output_type": "execute_result"
    },
    {
     "data": {
      "image/png": "[encoded data removed]",
      "text/plain": [
       "<Figure size 432x288 with 1 Axes>"
      ]
     },
     "metadata": {
      "needs_background": "light"
     },
     "output_type": "display_data"
    }
   ],
   "source": [
    "plt.bar(fdt_c.index,fdt_c.values,width=0.6,color=\"Blue\") "
   ]
  },
  {
   "cell_type": "code",
   "execution_count": 13,
   "id": "0d885b70",
   "metadata": {},
   "outputs": [
    {
     "data": {
      "text/plain": [
       "<BarContainer object of 3 artists>"
      ]
     },
     "execution_count": 13,
     "metadata": {},
     "output_type": "execute_result"
    },
    {
     "data": {
      "image/png": "[encoded data removed]",
      "text/plain": [
       "<Figure size 432x288 with 1 Axes>"
      ]
     },
     "metadata": {
      "needs_background": "light"
     },
     "output_type": "display_data"
    }
   ],
   "source": [
    "plt.bar(fdt_c.index,fdt_c.values,width=0.6,color=[\"Blue\",\"Green\",\"#A52A2A\"]) "
   ]
  },
  {
   "cell_type": "markdown",
   "id": "114e96e2",
   "metadata": {},
   "source": [
    "## Pie Chart"
   ]
  },
  {
   "cell_type": "markdown",
   "id": "f893d9db",
   "metadata": {},
   "source": [
    "###### It is used for identifying the share (Percentage) of each category"
   ]
  },
  {
   "cell_type": "code",
   "execution_count": 14,
   "id": "58e2763c",
   "metadata": {},
   "outputs": [
    {
     "data": {
      "text/plain": [
       "Index(['France', 'Spain', 'Germany'], dtype='object')"
      ]
     },
     "execution_count": 14,
     "metadata": {},
     "output_type": "execute_result"
    }
   ],
   "source": [
    "fdt_c.index"
   ]
  },
  {
   "cell_type": "code",
   "execution_count": 15,
   "id": "e4163f43",
   "metadata": {},
   "outputs": [
    {
     "data": {
      "text/plain": [
       "array([4, 3, 3], dtype=int64)"
      ]
     },
     "execution_count": 15,
     "metadata": {},
     "output_type": "execute_result"
    }
   ],
   "source": [
    "fdt_c.values"
   ]
  },
  {
   "cell_type": "code",
   "execution_count": 16,
   "id": "072ce4a2",
   "metadata": {},
   "outputs": [
    {
     "data": {
      "text/plain": [
       "([<matplotlib.patches.Wedge at 0x1dbabed6580>,\n",
       "  <matplotlib.patches.Wedge at 0x1dbabed6af0>,\n",
       "  <matplotlib.patches.Wedge at 0x1dbabed6fd0>],\n",
       " [Text(0.33991867422268784, 1.0461621742897658, ''),\n",
       "  Text(-1.0461621424642782, -0.3399187721714579, ''),\n",
       "  Text(0.646563910834035, -0.8899185969553609, '')])"
      ]
     },
     "execution_count": 16,
     "metadata": {},
     "output_type": "execute_result"
    },
    {
     "data": {
      "image/png": "[encoded data removed]",
      "text/plain": [
       "<Figure size 432x288 with 1 Axes>"
      ]
     },
     "metadata": {},
     "output_type": "display_data"
    }
   ],
   "source": [
    "plt.pie(fdt_c.values)"
   ]
  },
  {
   "cell_type": "code",
   "execution_count": 17,
   "id": "5eb51e32",
   "metadata": {},
   "outputs": [
    {
     "data": {
      "image/png": "[encoded data removed]",
      "text/plain": [
       "<Figure size 432x288 with 1 Axes>"
      ]
     },
     "metadata": {},
     "output_type": "display_data"
    }
   ],
   "source": [
    "plt.pie(fdt_c.values)\n",
    "plt.show()"
   ]
  },
  {
   "cell_type": "markdown",
   "id": "48474594",
   "metadata": {},
   "source": [
    "#### Labeling the chart"
   ]
  },
  {
   "cell_type": "code",
   "execution_count": 18,
   "id": "abfeb1cc",
   "metadata": {},
   "outputs": [
    {
     "data": {
      "image/png": "[encoded data removed]",
      "text/plain": [
       "<Figure size 432x288 with 1 Axes>"
      ]
     },
     "metadata": {},
     "output_type": "display_data"
    }
   ],
   "source": [
    "plt.pie(fdt_c.values,labels=fdt_c.index)\n",
    "plt.show()"
   ]
  },
  {
   "cell_type": "markdown",
   "id": "281a8146",
   "metadata": {},
   "source": [
    "#### Showing Percentage"
   ]
  },
  {
   "cell_type": "code",
   "execution_count": 19,
   "id": "60aa9272",
   "metadata": {},
   "outputs": [
    {
     "data": {
      "image/png": "[encoded data removed]",
      "text/plain": [
       "<Figure size 432x288 with 1 Axes>"
      ]
     },
     "metadata": {},
     "output_type": "display_data"
    }
   ],
   "source": [
    "plt.pie(fdt_c.values,labels=fdt_c.index,autopct=\"%.2f%%\")\n",
    "plt.show()"
   ]
  },
  {
   "cell_type": "markdown",
   "id": "fe2ddcec",
   "metadata": {},
   "source": [
    "autopct  -> Automatic Percentage Calculation\n",
    "Here we are giving a format for displaying the percentage"
   ]
  },
  {
   "cell_type": "markdown",
   "id": "3cfd2e65",
   "metadata": {},
   "source": [
    "autopct = \" % .2f %%\" means,\n",
    "\n",
    "  .2f - > Means 2 Points after decimal\n",
    "  \n",
    "  %% -> To Show the percentage symbol"
   ]
  },
  {
   "cell_type": "code",
   "execution_count": 20,
   "id": "fb5108ac",
   "metadata": {},
   "outputs": [
    {
     "data": {
      "image/png": "[encoded data removed]",
      "text/plain": [
       "<Figure size 432x288 with 1 Axes>"
      ]
     },
     "metadata": {},
     "output_type": "display_data"
    }
   ],
   "source": [
    "plt.pie(fdt_c.values,labels=fdt_c.index,autopct=\"%.f\")\n",
    "plt.show()"
   ]
  },
  {
   "cell_type": "markdown",
   "id": "6b902e96",
   "metadata": {},
   "source": [
    "#### Colors"
   ]
  },
  {
   "cell_type": "code",
   "execution_count": 21,
   "id": "7aaee902",
   "metadata": {},
   "outputs": [
    {
     "data": {
      "image/png": "[encoded data removed]",
      "text/plain": [
       "<Figure size 432x288 with 1 Axes>"
      ]
     },
     "metadata": {},
     "output_type": "display_data"
    }
   ],
   "source": [
    "plt.pie(fdt_c.values,labels=fdt_c.index,autopct=\"%.2f%%\",colors=[\"#108e98\",\"#10DFEE\",\"#09F8FF\"])\n",
    "plt.show()"
   ]
  },
  {
   "cell_type": "markdown",
   "id": "ecf74539",
   "metadata": {},
   "source": [
    "#### Explode"
   ]
  },
  {
   "cell_type": "code",
   "execution_count": 22,
   "id": "07f2771a",
   "metadata": {},
   "outputs": [
    {
     "data": {
      "image/png": "[encoded data removed]",
      "text/plain": [
       "<Figure size 432x288 with 1 Axes>"
      ]
     },
     "metadata": {},
     "output_type": "display_data"
    }
   ],
   "source": [
    "plt.pie(fdt_c.values,labels=fdt_c.index,explode=[0.1,0,0])\n",
    "plt.show()"
   ]
  },
  {
   "cell_type": "markdown",
   "id": "9f7a96af",
   "metadata": {},
   "source": [
    "explode value ranges from 0 to 1"
   ]
  },
  {
   "cell_type": "code",
   "execution_count": 23,
   "id": "d94038dd",
   "metadata": {},
   "outputs": [
    {
     "data": {
      "image/png": "[encoded data removed]",
      "text/plain": [
       "<Figure size 432x288 with 1 Axes>"
      ]
     },
     "metadata": {},
     "output_type": "display_data"
    }
   ],
   "source": [
    "plt.pie(fdt_c.values,labels=fdt_c.index,explode=[0.3,0.2,0.5])\n",
    "plt.show()"
   ]
  },
  {
   "cell_type": "code",
   "execution_count": 24,
   "id": "691e0b0c",
   "metadata": {},
   "outputs": [
    {
     "data": {
      "image/png": "[encoded data removed]",
      "text/plain": [
       "<Figure size 432x288 with 1 Axes>"
      ]
     },
     "metadata": {},
     "output_type": "display_data"
    }
   ],
   "source": [
    "plt.pie(fdt_c.values,labels=fdt_c.index,explode=[0.1,0.1,0.1])\n",
    "plt.show()"
   ]
  },
  {
   "cell_type": "markdown",
   "id": "c1b33326",
   "metadata": {},
   "source": [
    "#### How to only explode the highest share category ?"
   ]
  },
  {
   "cell_type": "markdown",
   "id": "4ec6c8a6",
   "metadata": {},
   "source": [
    "1. First We have to sort the values in data in Descending order so that the highest value comes on the 0th index(1st value)"
   ]
  },
  {
   "cell_type": "code",
   "execution_count": 33,
   "id": "5de934db",
   "metadata": {},
   "outputs": [
    {
     "data": {
      "text/plain": [
       "France     4\n",
       "Spain      3\n",
       "Germany    3\n",
       "Name: Country, dtype: int64"
      ]
     },
     "execution_count": 33,
     "metadata": {},
     "output_type": "execute_result"
    }
   ],
   "source": [
    "data[\"Country\"].value_counts()"
   ]
  },
  {
   "cell_type": "code",
   "execution_count": 38,
   "id": "caf95ddc",
   "metadata": {},
   "outputs": [
    {
     "data": {
      "text/plain": [
       "France     4\n",
       "Spain      3\n",
       "Germany    3\n",
       "Name: Country, dtype: int64"
      ]
     },
     "execution_count": 38,
     "metadata": {},
     "output_type": "execute_result"
    }
   ],
   "source": [
    "d = data[\"Country\"].value_counts()\n",
    "d.sort_values(ascending=False,inplace=True)\n",
    "d"
   ]
  },
  {
   "cell_type": "markdown",
   "id": "068695cf",
   "metadata": {},
   "source": [
    "2. We have to make the explode list only the first index should have the explode value . remaining should be zero. So we uses zeros function of numpy to make a list of zeros"
   ]
  },
  {
   "cell_type": "code",
   "execution_count": 41,
   "id": "1a921318",
   "metadata": {},
   "outputs": [
    {
     "data": {
      "text/plain": [
       "array([0., 0., 0.])"
      ]
     },
     "execution_count": 41,
     "metadata": {},
     "output_type": "execute_result"
    }
   ],
   "source": [
    "Explode = np.zeros(len(d))\n",
    "Explode"
   ]
  },
  {
   "cell_type": "markdown",
   "id": "fcd1781c",
   "metadata": {},
   "source": [
    "3. Now assign a explode value only for the first index"
   ]
  },
  {
   "cell_type": "code",
   "execution_count": 44,
   "id": "1a1433a9",
   "metadata": {},
   "outputs": [
    {
     "data": {
      "text/plain": [
       "array([0.2, 0. , 0. ])"
      ]
     },
     "execution_count": 44,
     "metadata": {},
     "output_type": "execute_result"
    }
   ],
   "source": [
    "Explode[0] = 0.2\n",
    "Explode"
   ]
  },
  {
   "cell_type": "code",
   "execution_count": 46,
   "id": "9eb43ebe",
   "metadata": {},
   "outputs": [
    {
     "data": {
      "image/png": "[encoded data removed]",
      "text/plain": [
       "<Figure size 432x288 with 1 Axes>"
      ]
     },
     "metadata": {},
     "output_type": "display_data"
    }
   ],
   "source": [
    "plt.pie(fdt_c.values,labels=fdt_c.index,explode=Explode)\n",
    "plt.show()"
   ]
  },
  {
   "cell_type": "markdown",
   "id": "9ba2906e",
   "metadata": {},
   "source": [
    "######  We  can also use the argmax() function which returns the index of the highest value in a series. Then we can create an array of zeros as the explode values and then change the index that the argmax() returns to a specific value between 0 -1 to only explode the highest percentage(value)"
   ]
  },
  {
   "cell_type": "code",
   "execution_count": 53,
   "id": "d5e22488",
   "metadata": {},
   "outputs": [
    {
     "data": {
      "text/plain": [
       "0"
      ]
     },
     "execution_count": 53,
     "metadata": {},
     "output_type": "execute_result"
    }
   ],
   "source": [
    "data[\"Country\"].value_counts().argmax()"
   ]
  },
  {
   "cell_type": "markdown",
   "id": "522e09ef",
   "metadata": {},
   "source": [
    "####  shadow"
   ]
  },
  {
   "cell_type": "code",
   "execution_count": 54,
   "id": "7407f260",
   "metadata": {},
   "outputs": [
    {
     "data": {
      "image/png": "[encoded data removed]",
      "text/plain": [
       "<Figure size 432x288 with 1 Axes>"
      ]
     },
     "metadata": {},
     "output_type": "display_data"
    }
   ],
   "source": [
    "plt.pie(fdt_c.values,labels=fdt_c.index,explode=[0.1,0.1,0.1],shadow=True)\n",
    "plt.show()"
   ]
  },
  {
   "cell_type": "markdown",
   "id": "7102f0f0",
   "metadata": {},
   "source": [
    "#### Adjusting the label distance"
   ]
  },
  {
   "cell_type": "code",
   "execution_count": 55,
   "id": "0a953352",
   "metadata": {},
   "outputs": [
    {
     "data": {
      "image/png": "[encoded data removed]",
      "text/plain": [
       "<Figure size 432x288 with 1 Axes>"
      ]
     },
     "metadata": {},
     "output_type": "display_data"
    }
   ],
   "source": [
    "plt.pie(fdt_c.values,labels=fdt_c.index,labeldistance=0.5)\n",
    "plt.show()"
   ]
  }
 ],
 "metadata": {
  "kernelspec": {
   "display_name": "Python 3 (ipykernel)",
   "language": "python",
   "name": "python3"
  },
  "language_info": {
   "codemirror_mode": {
    "name": "ipython",
    "version": 3
   },
   "file_extension": ".py",
   "mimetype": "text/x-python",
   "name": "python",
   "nbconvert_exporter": "python",
   "pygments_lexer": "ipython3",
   "version": "3.9.7"
  }
 },
 "nbformat": 4,
 "nbformat_minor": 5
}
