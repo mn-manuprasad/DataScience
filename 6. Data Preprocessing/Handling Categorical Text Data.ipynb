{
 "cells": [
  {
   "cell_type": "code",
   "execution_count": 1,
   "id": "f0d8f0f6",
   "metadata": {},
   "outputs": [],
   "source": [
    "import pandas as pd"
   ]
  },
  {
   "cell_type": "markdown",
   "id": "e6d833b8",
   "metadata": {},
   "source": [
    "# Handling Categorical Text Data\n",
    "\n",
    "Data which is divided among various classes, categories or groups is knows as categorical data"
   ]
  },
  {
   "cell_type": "markdown",
   "id": "e6905a26",
   "metadata": {},
   "source": [
    "What ?\n",
    "\n",
    "why ?\n",
    "\n",
    "How ?"
   ]
  },
  {
   "cell_type": "code",
   "execution_count": 2,
   "id": "9ef82b97",
   "metadata": {},
   "outputs": [
    {
     "data": {
      "text/html": [
       "<div>\n",
       "<style scoped>\n",
       "    .dataframe tbody tr th:only-of-type {\n",
       "        vertical-align: middle;\n",
       "    }\n",
       "\n",
       "    .dataframe tbody tr th {\n",
       "        vertical-align: top;\n",
       "    }\n",
       "\n",
       "    .dataframe thead th {\n",
       "        text-align: right;\n",
       "    }\n",
       "</style>\n",
       "<table border=\"1\" class=\"dataframe\">\n",
       "  <thead>\n",
       "    <tr style=\"text-align: right;\">\n",
       "      <th></th>\n",
       "      <th>User ID</th>\n",
       "      <th>Date</th>\n",
       "      <th>Country</th>\n",
       "      <th>Gender</th>\n",
       "      <th>Age</th>\n",
       "      <th>EstimatedSalary</th>\n",
       "      <th>Purchased</th>\n",
       "    </tr>\n",
       "  </thead>\n",
       "  <tbody>\n",
       "    <tr>\n",
       "      <th>0</th>\n",
       "      <td>15624510</td>\n",
       "      <td>01-03-2012</td>\n",
       "      <td>France</td>\n",
       "      <td>Male</td>\n",
       "      <td>19</td>\n",
       "      <td>19000.0</td>\n",
       "      <td>0</td>\n",
       "    </tr>\n",
       "    <tr>\n",
       "      <th>1</th>\n",
       "      <td>15810944</td>\n",
       "      <td>01-04-2012</td>\n",
       "      <td>Italy</td>\n",
       "      <td>Male</td>\n",
       "      <td>35</td>\n",
       "      <td>20000.0</td>\n",
       "      <td>0</td>\n",
       "    </tr>\n",
       "    <tr>\n",
       "      <th>2</th>\n",
       "      <td>15668575</td>\n",
       "      <td>01-05-2012</td>\n",
       "      <td>France</td>\n",
       "      <td>Female</td>\n",
       "      <td>26</td>\n",
       "      <td>43000.0</td>\n",
       "      <td>0</td>\n",
       "    </tr>\n",
       "    <tr>\n",
       "      <th>3</th>\n",
       "      <td>15603246</td>\n",
       "      <td>01-06-2012</td>\n",
       "      <td>Germany</td>\n",
       "      <td>Female</td>\n",
       "      <td>27</td>\n",
       "      <td>57000.0</td>\n",
       "      <td>0</td>\n",
       "    </tr>\n",
       "    <tr>\n",
       "      <th>4</th>\n",
       "      <td>15804002</td>\n",
       "      <td>01-09-2012</td>\n",
       "      <td>France</td>\n",
       "      <td>Male</td>\n",
       "      <td>19</td>\n",
       "      <td>76000.0</td>\n",
       "      <td>0</td>\n",
       "    </tr>\n",
       "    <tr>\n",
       "      <th>...</th>\n",
       "      <td>...</td>\n",
       "      <td>...</td>\n",
       "      <td>...</td>\n",
       "      <td>...</td>\n",
       "      <td>...</td>\n",
       "      <td>...</td>\n",
       "      <td>...</td>\n",
       "    </tr>\n",
       "    <tr>\n",
       "      <th>398</th>\n",
       "      <td>15691863</td>\n",
       "      <td>08-05-2013</td>\n",
       "      <td>France</td>\n",
       "      <td>Female</td>\n",
       "      <td>46</td>\n",
       "      <td>41000.0</td>\n",
       "      <td>1</td>\n",
       "    </tr>\n",
       "    <tr>\n",
       "      <th>399</th>\n",
       "      <td>15706071</td>\n",
       "      <td>08-06-2013</td>\n",
       "      <td>Italy</td>\n",
       "      <td>Male</td>\n",
       "      <td>51</td>\n",
       "      <td>23000.0</td>\n",
       "      <td>1</td>\n",
       "    </tr>\n",
       "    <tr>\n",
       "      <th>400</th>\n",
       "      <td>15654296</td>\n",
       "      <td>08-07-2013</td>\n",
       "      <td>Italy</td>\n",
       "      <td>Female</td>\n",
       "      <td>50</td>\n",
       "      <td>20000.0</td>\n",
       "      <td>1</td>\n",
       "    </tr>\n",
       "    <tr>\n",
       "      <th>401</th>\n",
       "      <td>15755018</td>\n",
       "      <td>08-08-2013</td>\n",
       "      <td>Germany</td>\n",
       "      <td>Male</td>\n",
       "      <td>36</td>\n",
       "      <td>33000.0</td>\n",
       "      <td>0</td>\n",
       "    </tr>\n",
       "    <tr>\n",
       "      <th>402</th>\n",
       "      <td>15594041</td>\n",
       "      <td>08-09-2013</td>\n",
       "      <td>Germany&amp;</td>\n",
       "      <td>Female</td>\n",
       "      <td>49</td>\n",
       "      <td>36000.0</td>\n",
       "      <td>1</td>\n",
       "    </tr>\n",
       "  </tbody>\n",
       "</table>\n",
       "<p>403 rows × 7 columns</p>\n",
       "</div>"
      ],
      "text/plain": [
       "      User ID        Date   Country  Gender  Age  EstimatedSalary  Purchased\n",
       "0    15624510  01-03-2012    France    Male   19          19000.0          0\n",
       "1    15810944  01-04-2012     Italy    Male   35          20000.0          0\n",
       "2    15668575  01-05-2012    France  Female   26          43000.0          0\n",
       "3    15603246  01-06-2012   Germany  Female   27          57000.0          0\n",
       "4    15804002  01-09-2012    France    Male   19          76000.0          0\n",
       "..        ...         ...       ...     ...  ...              ...        ...\n",
       "398  15691863  08-05-2013    France  Female   46          41000.0          1\n",
       "399  15706071  08-06-2013     Italy    Male   51          23000.0          1\n",
       "400  15654296  08-07-2013     Italy  Female   50          20000.0          1\n",
       "401  15755018  08-08-2013   Germany    Male   36          33000.0          0\n",
       "402  15594041  08-09-2013  Germany&  Female   49          36000.0          1\n",
       "\n",
       "[403 rows x 7 columns]"
      ]
     },
     "execution_count": 2,
     "metadata": {},
     "output_type": "execute_result"
    }
   ],
   "source": [
    "data = pd.read_csv(\"Social_Network_Ads_1.csv\")\n",
    "data"
   ]
  },
  {
   "cell_type": "markdown",
   "id": "20036fa1",
   "metadata": {},
   "source": [
    "Here , Gender, Country and Purchased are categorical data"
   ]
  },
  {
   "cell_type": "code",
   "execution_count": 3,
   "id": "55561b55",
   "metadata": {},
   "outputs": [
    {
     "data": {
      "text/plain": [
       "6"
      ]
     },
     "execution_count": 3,
     "metadata": {},
     "output_type": "execute_result"
    }
   ],
   "source": [
    "data[\"Country\"].nunique() # Gives the no.oF unique values of country"
   ]
  },
  {
   "cell_type": "markdown",
   "id": "bb37e65c",
   "metadata": {},
   "source": [
    "If the data is categorical in nature and the unique values is almost equal to the no of rows then we can drop that column. For example UserID"
   ]
  },
  {
   "cell_type": "code",
   "execution_count": 4,
   "id": "a0b4151d",
   "metadata": {},
   "outputs": [
    {
     "data": {
      "text/plain": [
       "402"
      ]
     },
     "execution_count": 4,
     "metadata": {},
     "output_type": "execute_result"
    }
   ],
   "source": [
    "data[\"User ID\"].nunique()"
   ]
  },
  {
   "cell_type": "code",
   "execution_count": 5,
   "id": "c0ddf403",
   "metadata": {},
   "outputs": [],
   "source": [
    "data.drop(\"User ID\",axis=1,inplace=True)"
   ]
  },
  {
   "cell_type": "code",
   "execution_count": 6,
   "id": "53e2ba05",
   "metadata": {},
   "outputs": [
    {
     "data": {
      "text/html": [
       "<div>\n",
       "<style scoped>\n",
       "    .dataframe tbody tr th:only-of-type {\n",
       "        vertical-align: middle;\n",
       "    }\n",
       "\n",
       "    .dataframe tbody tr th {\n",
       "        vertical-align: top;\n",
       "    }\n",
       "\n",
       "    .dataframe thead th {\n",
       "        text-align: right;\n",
       "    }\n",
       "</style>\n",
       "<table border=\"1\" class=\"dataframe\">\n",
       "  <thead>\n",
       "    <tr style=\"text-align: right;\">\n",
       "      <th></th>\n",
       "      <th>Date</th>\n",
       "      <th>Country</th>\n",
       "      <th>Gender</th>\n",
       "      <th>Age</th>\n",
       "      <th>EstimatedSalary</th>\n",
       "      <th>Purchased</th>\n",
       "    </tr>\n",
       "  </thead>\n",
       "  <tbody>\n",
       "    <tr>\n",
       "      <th>0</th>\n",
       "      <td>01-03-2012</td>\n",
       "      <td>France</td>\n",
       "      <td>Male</td>\n",
       "      <td>19</td>\n",
       "      <td>19000.0</td>\n",
       "      <td>0</td>\n",
       "    </tr>\n",
       "    <tr>\n",
       "      <th>1</th>\n",
       "      <td>01-04-2012</td>\n",
       "      <td>Italy</td>\n",
       "      <td>Male</td>\n",
       "      <td>35</td>\n",
       "      <td>20000.0</td>\n",
       "      <td>0</td>\n",
       "    </tr>\n",
       "    <tr>\n",
       "      <th>2</th>\n",
       "      <td>01-05-2012</td>\n",
       "      <td>France</td>\n",
       "      <td>Female</td>\n",
       "      <td>26</td>\n",
       "      <td>43000.0</td>\n",
       "      <td>0</td>\n",
       "    </tr>\n",
       "    <tr>\n",
       "      <th>3</th>\n",
       "      <td>01-06-2012</td>\n",
       "      <td>Germany</td>\n",
       "      <td>Female</td>\n",
       "      <td>27</td>\n",
       "      <td>57000.0</td>\n",
       "      <td>0</td>\n",
       "    </tr>\n",
       "    <tr>\n",
       "      <th>4</th>\n",
       "      <td>01-09-2012</td>\n",
       "      <td>France</td>\n",
       "      <td>Male</td>\n",
       "      <td>19</td>\n",
       "      <td>76000.0</td>\n",
       "      <td>0</td>\n",
       "    </tr>\n",
       "    <tr>\n",
       "      <th>...</th>\n",
       "      <td>...</td>\n",
       "      <td>...</td>\n",
       "      <td>...</td>\n",
       "      <td>...</td>\n",
       "      <td>...</td>\n",
       "      <td>...</td>\n",
       "    </tr>\n",
       "    <tr>\n",
       "      <th>398</th>\n",
       "      <td>08-05-2013</td>\n",
       "      <td>France</td>\n",
       "      <td>Female</td>\n",
       "      <td>46</td>\n",
       "      <td>41000.0</td>\n",
       "      <td>1</td>\n",
       "    </tr>\n",
       "    <tr>\n",
       "      <th>399</th>\n",
       "      <td>08-06-2013</td>\n",
       "      <td>Italy</td>\n",
       "      <td>Male</td>\n",
       "      <td>51</td>\n",
       "      <td>23000.0</td>\n",
       "      <td>1</td>\n",
       "    </tr>\n",
       "    <tr>\n",
       "      <th>400</th>\n",
       "      <td>08-07-2013</td>\n",
       "      <td>Italy</td>\n",
       "      <td>Female</td>\n",
       "      <td>50</td>\n",
       "      <td>20000.0</td>\n",
       "      <td>1</td>\n",
       "    </tr>\n",
       "    <tr>\n",
       "      <th>401</th>\n",
       "      <td>08-08-2013</td>\n",
       "      <td>Germany</td>\n",
       "      <td>Male</td>\n",
       "      <td>36</td>\n",
       "      <td>33000.0</td>\n",
       "      <td>0</td>\n",
       "    </tr>\n",
       "    <tr>\n",
       "      <th>402</th>\n",
       "      <td>08-09-2013</td>\n",
       "      <td>Germany&amp;</td>\n",
       "      <td>Female</td>\n",
       "      <td>49</td>\n",
       "      <td>36000.0</td>\n",
       "      <td>1</td>\n",
       "    </tr>\n",
       "  </tbody>\n",
       "</table>\n",
       "<p>403 rows × 6 columns</p>\n",
       "</div>"
      ],
      "text/plain": [
       "           Date   Country  Gender  Age  EstimatedSalary  Purchased\n",
       "0    01-03-2012    France    Male   19          19000.0          0\n",
       "1    01-04-2012     Italy    Male   35          20000.0          0\n",
       "2    01-05-2012    France  Female   26          43000.0          0\n",
       "3    01-06-2012   Germany  Female   27          57000.0          0\n",
       "4    01-09-2012    France    Male   19          76000.0          0\n",
       "..          ...       ...     ...  ...              ...        ...\n",
       "398  08-05-2013    France  Female   46          41000.0          1\n",
       "399  08-06-2013     Italy    Male   51          23000.0          1\n",
       "400  08-07-2013     Italy  Female   50          20000.0          1\n",
       "401  08-08-2013   Germany    Male   36          33000.0          0\n",
       "402  08-09-2013  Germany&  Female   49          36000.0          1\n",
       "\n",
       "[403 rows x 6 columns]"
      ]
     },
     "execution_count": 6,
     "metadata": {},
     "output_type": "execute_result"
    }
   ],
   "source": [
    "data"
   ]
  },
  {
   "cell_type": "markdown",
   "id": "cf211e4d",
   "metadata": {},
   "source": [
    "###### What is meant by handling categorical data ?\n",
    "\n",
    "If the categorical data is in text format like Gender, Country in the above data . In this case , If our data is applied to a mathematical machine learning model. It makes errors( Because we can't perform mathematical operations on text data ). So we need to convert this data into numerical format"
   ]
  },
  {
   "cell_type": "markdown",
   "id": "cb183ae2",
   "metadata": {},
   "source": [
    "There are  many machine learning models which work even if don't handle  missing values or outliers. But there is no machine learning model which works if we don't handle the categorical text data "
   ]
  },
  {
   "cell_type": "markdown",
   "id": "195185c5",
   "metadata": {},
   "source": [
    "Here purchased is fine \n",
    "\n",
    "In which, \n",
    "\n",
    "0-> Not Purchased\n",
    "\n",
    "1-> Purchased"
   ]
  },
  {
   "cell_type": "markdown",
   "id": "8c20d665",
   "metadata": {},
   "source": [
    "Here we have to handle the Country and Gender"
   ]
  },
  {
   "cell_type": "code",
   "execution_count": 7,
   "id": "ae61600b",
   "metadata": {},
   "outputs": [
    {
     "data": {
      "text/plain": [
       "array(['France', 'Italy', 'Germany', ']Italy&', ']Germany&', 'Germany&'],\n",
       "      dtype=object)"
      ]
     },
     "execution_count": 7,
     "metadata": {},
     "output_type": "execute_result"
    }
   ],
   "source": [
    "data[\"Country\"].unique() # Gives the uniques values from country columns"
   ]
  },
  {
   "cell_type": "markdown",
   "id": "fb7e7e82",
   "metadata": {},
   "source": [
    "Here we can see that Because of some garbage value , some country names are repeating"
   ]
  },
  {
   "cell_type": "markdown",
   "id": "5f6ca13e",
   "metadata": {},
   "source": [
    "### Handling Garbage Values"
   ]
  },
  {
   "cell_type": "markdown",
   "id": "6a47f87e",
   "metadata": {},
   "source": [
    "     1. Using Regex Patterns (Regular Expression)"
   ]
  },
  {
   "cell_type": "code",
   "execution_count": 8,
   "id": "b12eab12",
   "metadata": {},
   "outputs": [],
   "source": [
    "import re"
   ]
  },
  {
   "cell_type": "markdown",
   "id": "1d10816c",
   "metadata": {},
   "source": [
    "$Syntax : re.sub(Pattern,Replacement String,String To Apply Regex)$"
   ]
  },
  {
   "cell_type": "code",
   "execution_count": 9,
   "id": "04ded872",
   "metadata": {},
   "outputs": [
    {
     "data": {
      "text/plain": [
       "'Italy'"
      ]
     },
     "execution_count": 9,
     "metadata": {},
     "output_type": "execute_result"
    }
   ],
   "source": [
    "re.sub(\"[^A-Za-z0-9]+\",\"\",\"]Italy&\") # Anything other than Letters or numbers will be replaced with an empty string"
   ]
  },
  {
   "cell_type": "code",
   "execution_count": 10,
   "id": "40c22e0f",
   "metadata": {},
   "outputs": [
    {
     "data": {
      "text/plain": [
       "'Germany'"
      ]
     },
     "execution_count": 10,
     "metadata": {},
     "output_type": "execute_result"
    }
   ],
   "source": [
    "re.sub(\"[^A-Za-z0-9]+\",\"\",\"]Germany&\") "
   ]
  },
  {
   "cell_type": "code",
   "execution_count": 11,
   "id": "86be71a3",
   "metadata": {},
   "outputs": [],
   "source": [
    "data[\"Country\"] = data[\"Country\"].apply(lambda x: re.sub(\"[^A-Za-z0-9]+\",\"\",x) )"
   ]
  },
  {
   "cell_type": "code",
   "execution_count": 12,
   "id": "71a0b802",
   "metadata": {},
   "outputs": [
    {
     "data": {
      "text/plain": [
       "array(['France', 'Italy', 'Germany'], dtype=object)"
      ]
     },
     "execution_count": 12,
     "metadata": {},
     "output_type": "execute_result"
    }
   ],
   "source": [
    "data[\"Country\"].unique()"
   ]
  },
  {
   "cell_type": "code",
   "execution_count": 13,
   "id": "d7979d00",
   "metadata": {},
   "outputs": [
    {
     "data": {
      "text/plain": [
       "array(['Male', 'Female'], dtype=object)"
      ]
     },
     "execution_count": 13,
     "metadata": {},
     "output_type": "execute_result"
    }
   ],
   "source": [
    "data[\"Gender\"].unique() # Doesn't have any garbage values"
   ]
  },
  {
   "cell_type": "markdown",
   "id": "cb6f982b",
   "metadata": {},
   "source": [
    "Now the data is perfect for conversion (Conversion to numeric data)\n",
    "Converting(Encoding) categorical data into Numeric data"
   ]
  },
  {
   "cell_type": "markdown",
   "id": "f1c71362",
   "metadata": {},
   "source": [
    "### Types of categorical data(Based on levels of measurement)"
   ]
  },
  {
   "cell_type": "markdown",
   "id": "116fabb7",
   "metadata": {},
   "source": [
    "       1. Ordinal\n",
    "    \n",
    "       2. Nominal"
   ]
  },
  {
   "cell_type": "markdown",
   "id": "9366c985",
   "metadata": {},
   "source": [
    "####  Nominal Categorical Data"
   ]
  },
  {
   "cell_type": "markdown",
   "id": "503dde25",
   "metadata": {},
   "source": [
    "If the categorical data is representing categories without any priorities or order. All the categories having equal priorities and there is no specific order for the data is a nominal data\n",
    "\n",
    "Example : Country, Gender \n",
    "\n",
    "'France', 'Italy', 'Germany'\n",
    "\n",
    "Here all the categories have equal priorities and have no specific order "
   ]
  },
  {
   "cell_type": "markdown",
   "id": "6bcfb7e1",
   "metadata": {},
   "source": [
    "#### Ordinal Categorical Data"
   ]
  },
  {
   "cell_type": "markdown",
   "id": "ad0ca826",
   "metadata": {},
   "source": [
    "Data in which categories are having priorities is called ordinal data(We can order the data)\n",
    "\n",
    "For example lets assume that we have a column for feedback. and in that we have categories\n",
    "\n",
    "bad,good,worst,best\n",
    "\n",
    "can be arrange this data in a proper order ? Yes\n",
    "\n",
    "Worst,Bad,Good,Best\n",
    "\n",
    "     or\n",
    "     \n",
    "Best,Good,Bad,Worst\n",
    "\n",
    "These kinds of data where categories can be ordered is nothing but the ordinal data\n",
    "\n",
    "Another Example :\n",
    "\n",
    "For Recruitment Process \n",
    "\n",
    "Qualification Column with categories\n",
    "\n",
    "School,SSLC,,Plus Two,UG,PG,PHD\n",
    "\n",
    "Here each categorical will have a priority "
   ]
  },
  {
   "cell_type": "markdown",
   "id": "5e2258b2",
   "metadata": {},
   "source": [
    "###### If the data is nominal  we apply a technique called OneHot Ecnoding"
   ]
  },
  {
   "cell_type": "markdown",
   "id": "42e0be11",
   "metadata": {},
   "source": [
    "###### If the data is ordinal we apply Mapping technique or  Ordinal Encoding"
   ]
  },
  {
   "cell_type": "markdown",
   "id": "018592b8",
   "metadata": {},
   "source": [
    "######  If we have large number of categories , we call it as high cardinality feature. We handle it differently"
   ]
  },
  {
   "cell_type": "markdown",
   "id": "207d1e87",
   "metadata": {},
   "source": [
    "### One Hot Encoding"
   ]
  },
  {
   "cell_type": "markdown",
   "id": "82072a3a",
   "metadata": {},
   "source": [
    "In Country we have three categories \n",
    "\n",
    "    France \n",
    "    Italy\n",
    "    Germany\n",
    "  \n",
    "  If we encode like this\n",
    "  \n",
    "       France  -0\n",
    "       Italy   -1\n",
    "       Germany -2. \n",
    "       \n",
    "       Here what happens is , Here data is converted and it is in numerical format. But the problem is we are giving an order  or priorities to the nominal data (Nominal data doesn't have any order or priorities). Here we are telling the model that Germany have more importance or priority than France or Italy. SO the model treat France with lower priority and Germany with a higher priority. To avoid this problem . we do One hot encoding"
   ]
  },
  {
   "cell_type": "markdown",
   "id": "bf24b750",
   "metadata": {},
   "source": [
    "So in One Hot Encoding . We create a new column for every unique category. Here, A new Column for , Germany, Italy and France."
   ]
  },
  {
   "cell_type": "markdown",
   "id": "3510c173",
   "metadata": {},
   "source": [
    "Then we start iterating through the data set. and for each customer with a particular country we give 1 to that particular country column and set zero to other two country columns. Here We are turning on and turning off the Three Country columns(France, Germany and Italy ) Based on the country of the user\n",
    "\n",
    "Fro example if the country of the customer is France then ,\n",
    "\n",
    "      France     Italy    Germany\n",
    "      \n",
    "        1         0          0\n",
    "        \n",
    "\n",
    "If the country if Customer is Germany then,\n",
    "\n",
    "      France     Italy    Germany\n",
    "      \n",
    "        0          0         1"
   ]
  },
  {
   "cell_type": "markdown",
   "id": "88aeaf0e",
   "metadata": {},
   "source": [
    "#### $In \\ Pandas$ get_dummies() $is \\ used \\ to \\ do \\ One \\ Hot \\ Encoding$"
   ]
  },
  {
   "cell_type": "markdown",
   "id": "390c9084",
   "metadata": {},
   "source": [
    "     Syntax : pd.getdummies(data,columns=Columns_To_Apply_One_Hot_Encoding)"
   ]
  },
  {
   "cell_type": "code",
   "execution_count": 14,
   "id": "a67e9deb",
   "metadata": {},
   "outputs": [
    {
     "data": {
      "text/html": [
       "<div>\n",
       "<style scoped>\n",
       "    .dataframe tbody tr th:only-of-type {\n",
       "        vertical-align: middle;\n",
       "    }\n",
       "\n",
       "    .dataframe tbody tr th {\n",
       "        vertical-align: top;\n",
       "    }\n",
       "\n",
       "    .dataframe thead th {\n",
       "        text-align: right;\n",
       "    }\n",
       "</style>\n",
       "<table border=\"1\" class=\"dataframe\">\n",
       "  <thead>\n",
       "    <tr style=\"text-align: right;\">\n",
       "      <th></th>\n",
       "      <th>Date</th>\n",
       "      <th>Age</th>\n",
       "      <th>EstimatedSalary</th>\n",
       "      <th>Purchased</th>\n",
       "      <th>Country_France</th>\n",
       "      <th>Country_Germany</th>\n",
       "      <th>Country_Italy</th>\n",
       "      <th>Gender_Female</th>\n",
       "      <th>Gender_Male</th>\n",
       "    </tr>\n",
       "  </thead>\n",
       "  <tbody>\n",
       "    <tr>\n",
       "      <th>0</th>\n",
       "      <td>01-03-2012</td>\n",
       "      <td>19</td>\n",
       "      <td>19000.0</td>\n",
       "      <td>0</td>\n",
       "      <td>1</td>\n",
       "      <td>0</td>\n",
       "      <td>0</td>\n",
       "      <td>0</td>\n",
       "      <td>1</td>\n",
       "    </tr>\n",
       "    <tr>\n",
       "      <th>1</th>\n",
       "      <td>01-04-2012</td>\n",
       "      <td>35</td>\n",
       "      <td>20000.0</td>\n",
       "      <td>0</td>\n",
       "      <td>0</td>\n",
       "      <td>0</td>\n",
       "      <td>1</td>\n",
       "      <td>0</td>\n",
       "      <td>1</td>\n",
       "    </tr>\n",
       "    <tr>\n",
       "      <th>2</th>\n",
       "      <td>01-05-2012</td>\n",
       "      <td>26</td>\n",
       "      <td>43000.0</td>\n",
       "      <td>0</td>\n",
       "      <td>1</td>\n",
       "      <td>0</td>\n",
       "      <td>0</td>\n",
       "      <td>1</td>\n",
       "      <td>0</td>\n",
       "    </tr>\n",
       "    <tr>\n",
       "      <th>3</th>\n",
       "      <td>01-06-2012</td>\n",
       "      <td>27</td>\n",
       "      <td>57000.0</td>\n",
       "      <td>0</td>\n",
       "      <td>0</td>\n",
       "      <td>1</td>\n",
       "      <td>0</td>\n",
       "      <td>1</td>\n",
       "      <td>0</td>\n",
       "    </tr>\n",
       "    <tr>\n",
       "      <th>4</th>\n",
       "      <td>01-09-2012</td>\n",
       "      <td>19</td>\n",
       "      <td>76000.0</td>\n",
       "      <td>0</td>\n",
       "      <td>1</td>\n",
       "      <td>0</td>\n",
       "      <td>0</td>\n",
       "      <td>0</td>\n",
       "      <td>1</td>\n",
       "    </tr>\n",
       "    <tr>\n",
       "      <th>...</th>\n",
       "      <td>...</td>\n",
       "      <td>...</td>\n",
       "      <td>...</td>\n",
       "      <td>...</td>\n",
       "      <td>...</td>\n",
       "      <td>...</td>\n",
       "      <td>...</td>\n",
       "      <td>...</td>\n",
       "      <td>...</td>\n",
       "    </tr>\n",
       "    <tr>\n",
       "      <th>398</th>\n",
       "      <td>08-05-2013</td>\n",
       "      <td>46</td>\n",
       "      <td>41000.0</td>\n",
       "      <td>1</td>\n",
       "      <td>1</td>\n",
       "      <td>0</td>\n",
       "      <td>0</td>\n",
       "      <td>1</td>\n",
       "      <td>0</td>\n",
       "    </tr>\n",
       "    <tr>\n",
       "      <th>399</th>\n",
       "      <td>08-06-2013</td>\n",
       "      <td>51</td>\n",
       "      <td>23000.0</td>\n",
       "      <td>1</td>\n",
       "      <td>0</td>\n",
       "      <td>0</td>\n",
       "      <td>1</td>\n",
       "      <td>0</td>\n",
       "      <td>1</td>\n",
       "    </tr>\n",
       "    <tr>\n",
       "      <th>400</th>\n",
       "      <td>08-07-2013</td>\n",
       "      <td>50</td>\n",
       "      <td>20000.0</td>\n",
       "      <td>1</td>\n",
       "      <td>0</td>\n",
       "      <td>0</td>\n",
       "      <td>1</td>\n",
       "      <td>1</td>\n",
       "      <td>0</td>\n",
       "    </tr>\n",
       "    <tr>\n",
       "      <th>401</th>\n",
       "      <td>08-08-2013</td>\n",
       "      <td>36</td>\n",
       "      <td>33000.0</td>\n",
       "      <td>0</td>\n",
       "      <td>0</td>\n",
       "      <td>1</td>\n",
       "      <td>0</td>\n",
       "      <td>0</td>\n",
       "      <td>1</td>\n",
       "    </tr>\n",
       "    <tr>\n",
       "      <th>402</th>\n",
       "      <td>08-09-2013</td>\n",
       "      <td>49</td>\n",
       "      <td>36000.0</td>\n",
       "      <td>1</td>\n",
       "      <td>0</td>\n",
       "      <td>1</td>\n",
       "      <td>0</td>\n",
       "      <td>1</td>\n",
       "      <td>0</td>\n",
       "    </tr>\n",
       "  </tbody>\n",
       "</table>\n",
       "<p>403 rows × 9 columns</p>\n",
       "</div>"
      ],
      "text/plain": [
       "           Date  Age  EstimatedSalary  Purchased  Country_France  \\\n",
       "0    01-03-2012   19          19000.0          0               1   \n",
       "1    01-04-2012   35          20000.0          0               0   \n",
       "2    01-05-2012   26          43000.0          0               1   \n",
       "3    01-06-2012   27          57000.0          0               0   \n",
       "4    01-09-2012   19          76000.0          0               1   \n",
       "..          ...  ...              ...        ...             ...   \n",
       "398  08-05-2013   46          41000.0          1               1   \n",
       "399  08-06-2013   51          23000.0          1               0   \n",
       "400  08-07-2013   50          20000.0          1               0   \n",
       "401  08-08-2013   36          33000.0          0               0   \n",
       "402  08-09-2013   49          36000.0          1               0   \n",
       "\n",
       "     Country_Germany  Country_Italy  Gender_Female  Gender_Male  \n",
       "0                  0              0              0            1  \n",
       "1                  0              1              0            1  \n",
       "2                  0              0              1            0  \n",
       "3                  1              0              1            0  \n",
       "4                  0              0              0            1  \n",
       "..               ...            ...            ...          ...  \n",
       "398                0              0              1            0  \n",
       "399                0              1              0            1  \n",
       "400                0              1              1            0  \n",
       "401                1              0              0            1  \n",
       "402                1              0              1            0  \n",
       "\n",
       "[403 rows x 9 columns]"
      ]
     },
     "execution_count": 14,
     "metadata": {},
     "output_type": "execute_result"
    }
   ],
   "source": [
    "pd.get_dummies(data,columns = [\"Country\",\"Gender\"])"
   ]
  },
  {
   "cell_type": "code",
   "execution_count": 15,
   "id": "c7d8463d",
   "metadata": {},
   "outputs": [],
   "source": [
    "data = pd.get_dummies(data,columns = [\"Country\",\"Gender\"])"
   ]
  },
  {
   "cell_type": "code",
   "execution_count": null,
   "id": "feef8ef4",
   "metadata": {},
   "outputs": [],
   "source": []
  },
  {
   "cell_type": "markdown",
   "id": "dcc25915",
   "metadata": {},
   "source": [
    "### Mapping Technique / Ordinal Encoding"
   ]
  },
  {
   "cell_type": "code",
   "execution_count": 19,
   "id": "1b07d4a5",
   "metadata": {},
   "outputs": [
    {
     "data": {
      "text/html": [
       "<div>\n",
       "<style scoped>\n",
       "    .dataframe tbody tr th:only-of-type {\n",
       "        vertical-align: middle;\n",
       "    }\n",
       "\n",
       "    .dataframe tbody tr th {\n",
       "        vertical-align: top;\n",
       "    }\n",
       "\n",
       "    .dataframe thead th {\n",
       "        text-align: right;\n",
       "    }\n",
       "</style>\n",
       "<table border=\"1\" class=\"dataframe\">\n",
       "  <thead>\n",
       "    <tr style=\"text-align: right;\">\n",
       "      <th></th>\n",
       "      <th>Name</th>\n",
       "      <th>college</th>\n",
       "      <th>Gender</th>\n",
       "      <th>Education</th>\n",
       "    </tr>\n",
       "  </thead>\n",
       "  <tbody>\n",
       "    <tr>\n",
       "      <th>0</th>\n",
       "      <td>Manu</td>\n",
       "      <td>SS College</td>\n",
       "      <td>Male</td>\n",
       "      <td>UG</td>\n",
       "    </tr>\n",
       "    <tr>\n",
       "      <th>1</th>\n",
       "      <td>Manas</td>\n",
       "      <td>Govt HSS</td>\n",
       "      <td>Male</td>\n",
       "      <td>SSLC</td>\n",
       "    </tr>\n",
       "    <tr>\n",
       "      <th>2</th>\n",
       "      <td>Platty</td>\n",
       "      <td>SS College</td>\n",
       "      <td>Male</td>\n",
       "      <td>PG</td>\n",
       "    </tr>\n",
       "    <tr>\n",
       "      <th>3</th>\n",
       "      <td>Punnara</td>\n",
       "      <td>SS College</td>\n",
       "      <td>Male</td>\n",
       "      <td>PHD</td>\n",
       "    </tr>\n",
       "    <tr>\n",
       "      <th>4</th>\n",
       "      <td>AKshay</td>\n",
       "      <td>U C College</td>\n",
       "      <td>Male</td>\n",
       "      <td>UG</td>\n",
       "    </tr>\n",
       "    <tr>\n",
       "      <th>5</th>\n",
       "      <td>Ajmal</td>\n",
       "      <td>U C College</td>\n",
       "      <td>Male</td>\n",
       "      <td>PG</td>\n",
       "    </tr>\n",
       "    <tr>\n",
       "      <th>6</th>\n",
       "      <td>Vikas</td>\n",
       "      <td>U C College</td>\n",
       "      <td>Male</td>\n",
       "      <td>UG</td>\n",
       "    </tr>\n",
       "    <tr>\n",
       "      <th>7</th>\n",
       "      <td>Shaji</td>\n",
       "      <td>MKM</td>\n",
       "      <td>Male</td>\n",
       "      <td>PLUS TWO</td>\n",
       "    </tr>\n",
       "    <tr>\n",
       "      <th>8</th>\n",
       "      <td>Sneha</td>\n",
       "      <td>U C College</td>\n",
       "      <td>Female</td>\n",
       "      <td>UG</td>\n",
       "    </tr>\n",
       "    <tr>\n",
       "      <th>9</th>\n",
       "      <td>Fousiya</td>\n",
       "      <td>U C College</td>\n",
       "      <td>Female</td>\n",
       "      <td>UG</td>\n",
       "    </tr>\n",
       "    <tr>\n",
       "      <th>10</th>\n",
       "      <td>Renjitha</td>\n",
       "      <td>CMS</td>\n",
       "      <td>Female</td>\n",
       "      <td>PHD</td>\n",
       "    </tr>\n",
       "    <tr>\n",
       "      <th>11</th>\n",
       "      <td>Mahi</td>\n",
       "      <td>U C College</td>\n",
       "      <td>Male</td>\n",
       "      <td>PG</td>\n",
       "    </tr>\n",
       "    <tr>\n",
       "      <th>12</th>\n",
       "      <td>Tharun</td>\n",
       "      <td>Nirmala</td>\n",
       "      <td>Male</td>\n",
       "      <td>PLUS TWO</td>\n",
       "    </tr>\n",
       "    <tr>\n",
       "      <th>13</th>\n",
       "      <td>Kannan</td>\n",
       "      <td>U C College</td>\n",
       "      <td>Male</td>\n",
       "      <td>UG</td>\n",
       "    </tr>\n",
       "    <tr>\n",
       "      <th>14</th>\n",
       "      <td>Negil</td>\n",
       "      <td>Govt HSS Kannur</td>\n",
       "      <td>Male</td>\n",
       "      <td>SSLC</td>\n",
       "    </tr>\n",
       "    <tr>\n",
       "      <th>15</th>\n",
       "      <td>Jithu</td>\n",
       "      <td>U C College</td>\n",
       "      <td>Male</td>\n",
       "      <td>PG</td>\n",
       "    </tr>\n",
       "    <tr>\n",
       "      <th>16</th>\n",
       "      <td>Githu</td>\n",
       "      <td>St. Joseph</td>\n",
       "      <td>Male</td>\n",
       "      <td>SSLC</td>\n",
       "    </tr>\n",
       "    <tr>\n",
       "      <th>17</th>\n",
       "      <td>Anandhu</td>\n",
       "      <td>U C College</td>\n",
       "      <td>Male</td>\n",
       "      <td>PHD</td>\n",
       "    </tr>\n",
       "  </tbody>\n",
       "</table>\n",
       "</div>"
      ],
      "text/plain": [
       "        Name          college  Gender Education\n",
       "0       Manu       SS College    Male        UG\n",
       "1      Manas         Govt HSS    Male      SSLC\n",
       "2     Platty       SS College    Male        PG\n",
       "3    Punnara       SS College    Male       PHD\n",
       "4     AKshay      U C College    Male        UG\n",
       "5      Ajmal      U C College    Male        PG\n",
       "6      Vikas      U C College    Male        UG\n",
       "7      Shaji              MKM    Male  PLUS TWO\n",
       "8      Sneha      U C College  Female        UG\n",
       "9    Fousiya      U C College  Female        UG\n",
       "10  Renjitha              CMS  Female       PHD\n",
       "11      Mahi      U C College    Male        PG\n",
       "12    Tharun          Nirmala    Male  PLUS TWO\n",
       "13    Kannan      U C College    Male        UG\n",
       "14     Negil  Govt HSS Kannur    Male      SSLC\n",
       "15     Jithu      U C College    Male        PG\n",
       "16     Githu       St. Joseph    Male      SSLC\n",
       "17   Anandhu      U C College    Male       PHD"
      ]
     },
     "execution_count": 19,
     "metadata": {},
     "output_type": "execute_result"
    }
   ],
   "source": [
    "data1 = pd.read_excel(\"drive.xlsx\")\n",
    "data1"
   ]
  },
  {
   "cell_type": "code",
   "execution_count": 17,
   "id": "e57e78ed",
   "metadata": {},
   "outputs": [
    {
     "data": {
      "text/plain": [
       "array(['UG', 'SSLC', 'PG', 'PHD', 'PLUS TWO'], dtype=object)"
      ]
     },
     "execution_count": 17,
     "metadata": {},
     "output_type": "execute_result"
    }
   ],
   "source": [
    "data1[\"Education\"].unique() # Ordinal data in which each category have a priority"
   ]
  },
  {
   "cell_type": "code",
   "execution_count": 18,
   "id": "4f3d1a6f",
   "metadata": {},
   "outputs": [],
   "source": [
    "edu_dict = {'SSLC':0,'PLUS TWO':1,'UG':2,'PG':3,'PHD':4}"
   ]
  },
  {
   "cell_type": "code",
   "execution_count": 21,
   "id": "607afe47",
   "metadata": {},
   "outputs": [],
   "source": [
    "data1[\"Education\"] = data1[\"Education\"].map(edu_dict)"
   ]
  },
  {
   "cell_type": "code",
   "execution_count": 22,
   "id": "d20b9bc8",
   "metadata": {},
   "outputs": [
    {
     "data": {
      "text/html": [
       "<div>\n",
       "<style scoped>\n",
       "    .dataframe tbody tr th:only-of-type {\n",
       "        vertical-align: middle;\n",
       "    }\n",
       "\n",
       "    .dataframe tbody tr th {\n",
       "        vertical-align: top;\n",
       "    }\n",
       "\n",
       "    .dataframe thead th {\n",
       "        text-align: right;\n",
       "    }\n",
       "</style>\n",
       "<table border=\"1\" class=\"dataframe\">\n",
       "  <thead>\n",
       "    <tr style=\"text-align: right;\">\n",
       "      <th></th>\n",
       "      <th>Name</th>\n",
       "      <th>college</th>\n",
       "      <th>Gender</th>\n",
       "      <th>Education</th>\n",
       "    </tr>\n",
       "  </thead>\n",
       "  <tbody>\n",
       "    <tr>\n",
       "      <th>0</th>\n",
       "      <td>Manu</td>\n",
       "      <td>SS College</td>\n",
       "      <td>Male</td>\n",
       "      <td>2</td>\n",
       "    </tr>\n",
       "    <tr>\n",
       "      <th>1</th>\n",
       "      <td>Manas</td>\n",
       "      <td>Govt HSS</td>\n",
       "      <td>Male</td>\n",
       "      <td>0</td>\n",
       "    </tr>\n",
       "    <tr>\n",
       "      <th>2</th>\n",
       "      <td>Platty</td>\n",
       "      <td>SS College</td>\n",
       "      <td>Male</td>\n",
       "      <td>3</td>\n",
       "    </tr>\n",
       "    <tr>\n",
       "      <th>3</th>\n",
       "      <td>Punnara</td>\n",
       "      <td>SS College</td>\n",
       "      <td>Male</td>\n",
       "      <td>4</td>\n",
       "    </tr>\n",
       "    <tr>\n",
       "      <th>4</th>\n",
       "      <td>AKshay</td>\n",
       "      <td>U C College</td>\n",
       "      <td>Male</td>\n",
       "      <td>2</td>\n",
       "    </tr>\n",
       "    <tr>\n",
       "      <th>5</th>\n",
       "      <td>Ajmal</td>\n",
       "      <td>U C College</td>\n",
       "      <td>Male</td>\n",
       "      <td>3</td>\n",
       "    </tr>\n",
       "    <tr>\n",
       "      <th>6</th>\n",
       "      <td>Vikas</td>\n",
       "      <td>U C College</td>\n",
       "      <td>Male</td>\n",
       "      <td>2</td>\n",
       "    </tr>\n",
       "    <tr>\n",
       "      <th>7</th>\n",
       "      <td>Shaji</td>\n",
       "      <td>MKM</td>\n",
       "      <td>Male</td>\n",
       "      <td>1</td>\n",
       "    </tr>\n",
       "    <tr>\n",
       "      <th>8</th>\n",
       "      <td>Sneha</td>\n",
       "      <td>U C College</td>\n",
       "      <td>Female</td>\n",
       "      <td>2</td>\n",
       "    </tr>\n",
       "    <tr>\n",
       "      <th>9</th>\n",
       "      <td>Fousiya</td>\n",
       "      <td>U C College</td>\n",
       "      <td>Female</td>\n",
       "      <td>2</td>\n",
       "    </tr>\n",
       "    <tr>\n",
       "      <th>10</th>\n",
       "      <td>Renjitha</td>\n",
       "      <td>CMS</td>\n",
       "      <td>Female</td>\n",
       "      <td>4</td>\n",
       "    </tr>\n",
       "    <tr>\n",
       "      <th>11</th>\n",
       "      <td>Mahi</td>\n",
       "      <td>U C College</td>\n",
       "      <td>Male</td>\n",
       "      <td>3</td>\n",
       "    </tr>\n",
       "    <tr>\n",
       "      <th>12</th>\n",
       "      <td>Tharun</td>\n",
       "      <td>Nirmala</td>\n",
       "      <td>Male</td>\n",
       "      <td>1</td>\n",
       "    </tr>\n",
       "    <tr>\n",
       "      <th>13</th>\n",
       "      <td>Kannan</td>\n",
       "      <td>U C College</td>\n",
       "      <td>Male</td>\n",
       "      <td>2</td>\n",
       "    </tr>\n",
       "    <tr>\n",
       "      <th>14</th>\n",
       "      <td>Negil</td>\n",
       "      <td>Govt HSS Kannur</td>\n",
       "      <td>Male</td>\n",
       "      <td>0</td>\n",
       "    </tr>\n",
       "    <tr>\n",
       "      <th>15</th>\n",
       "      <td>Jithu</td>\n",
       "      <td>U C College</td>\n",
       "      <td>Male</td>\n",
       "      <td>3</td>\n",
       "    </tr>\n",
       "    <tr>\n",
       "      <th>16</th>\n",
       "      <td>Githu</td>\n",
       "      <td>St. Joseph</td>\n",
       "      <td>Male</td>\n",
       "      <td>0</td>\n",
       "    </tr>\n",
       "    <tr>\n",
       "      <th>17</th>\n",
       "      <td>Anandhu</td>\n",
       "      <td>U C College</td>\n",
       "      <td>Male</td>\n",
       "      <td>4</td>\n",
       "    </tr>\n",
       "  </tbody>\n",
       "</table>\n",
       "</div>"
      ],
      "text/plain": [
       "        Name          college  Gender  Education\n",
       "0       Manu       SS College    Male          2\n",
       "1      Manas         Govt HSS    Male          0\n",
       "2     Platty       SS College    Male          3\n",
       "3    Punnara       SS College    Male          4\n",
       "4     AKshay      U C College    Male          2\n",
       "5      Ajmal      U C College    Male          3\n",
       "6      Vikas      U C College    Male          2\n",
       "7      Shaji              MKM    Male          1\n",
       "8      Sneha      U C College  Female          2\n",
       "9    Fousiya      U C College  Female          2\n",
       "10  Renjitha              CMS  Female          4\n",
       "11      Mahi      U C College    Male          3\n",
       "12    Tharun          Nirmala    Male          1\n",
       "13    Kannan      U C College    Male          2\n",
       "14     Negil  Govt HSS Kannur    Male          0\n",
       "15     Jithu      U C College    Male          3\n",
       "16     Githu       St. Joseph    Male          0\n",
       "17   Anandhu      U C College    Male          4"
      ]
     },
     "execution_count": 22,
     "metadata": {},
     "output_type": "execute_result"
    }
   ],
   "source": [
    "data1"
   ]
  },
  {
   "cell_type": "code",
   "execution_count": null,
   "id": "fcf97e7f",
   "metadata": {},
   "outputs": [],
   "source": []
  }
 ],
 "metadata": {
  "kernelspec": {
   "display_name": "Python 3 (ipykernel)",
   "language": "python",
   "name": "python3"
  },
  "language_info": {
   "codemirror_mode": {
    "name": "ipython",
    "version": 3
   },
   "file_extension": ".py",
   "mimetype": "text/x-python",
   "name": "python",
   "nbconvert_exporter": "python",
   "pygments_lexer": "ipython3",
   "version": "3.9.7"
  }
 },
 "nbformat": 4,
 "nbformat_minor": 5
}
