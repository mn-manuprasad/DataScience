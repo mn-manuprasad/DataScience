{
 "cells": [
  {
   "cell_type": "code",
   "execution_count": 3,
   "id": "b67d5c3a",
   "metadata": {},
   "outputs": [],
   "source": [
    "import pandas as pd\n",
    "import numpy as np\n",
    "import matplotlib as plt\n",
    "import seaborn as sns "
   ]
  },
  {
   "cell_type": "markdown",
   "id": "d2492831",
   "metadata": {},
   "source": [
    "# Data Preprocessing"
   ]
  },
  {
   "cell_type": "markdown",
   "id": "7edc0d57",
   "metadata": {},
   "source": [
    "For Data Preprocessing here we are using Social_Network_Ads_1 Data Set. It is talking about the customers information. A particular company is displaying lots of ads to the customers through social media(Company is trying to show ads only the customers who purchased the product) . What is our task is , Here we have a particular variable $ purchased $. It is our target variable . Here based on various other information(Country,Gender,Salary etc..). Here we are trying to estimate whether he is purchased the product or not or ideally is there is any chance that a particular customer purchases the product"
   ]
  },
  {
   "cell_type": "code",
   "execution_count": 4,
   "id": "139c3c41",
   "metadata": {},
   "outputs": [],
   "source": [
    "data = pd.read_csv(r\"Social_Network_Ads_1.csv\")"
   ]
  },
  {
   "cell_type": "code",
   "execution_count": 5,
   "id": "bca9e58c",
   "metadata": {},
   "outputs": [
    {
     "data": {
      "text/html": [
       "<div>\n",
       "<style scoped>\n",
       "    .dataframe tbody tr th:only-of-type {\n",
       "        vertical-align: middle;\n",
       "    }\n",
       "\n",
       "    .dataframe tbody tr th {\n",
       "        vertical-align: top;\n",
       "    }\n",
       "\n",
       "    .dataframe thead th {\n",
       "        text-align: right;\n",
       "    }\n",
       "</style>\n",
       "<table border=\"1\" class=\"dataframe\">\n",
       "  <thead>\n",
       "    <tr style=\"text-align: right;\">\n",
       "      <th></th>\n",
       "      <th>User ID</th>\n",
       "      <th>Date</th>\n",
       "      <th>Country</th>\n",
       "      <th>Gender</th>\n",
       "      <th>Age</th>\n",
       "      <th>EstimatedSalary</th>\n",
       "      <th>Purchased</th>\n",
       "    </tr>\n",
       "  </thead>\n",
       "  <tbody>\n",
       "    <tr>\n",
       "      <th>0</th>\n",
       "      <td>15624510</td>\n",
       "      <td>01-03-2012</td>\n",
       "      <td>France</td>\n",
       "      <td>Male</td>\n",
       "      <td>19</td>\n",
       "      <td>19000.0</td>\n",
       "      <td>0</td>\n",
       "    </tr>\n",
       "    <tr>\n",
       "      <th>1</th>\n",
       "      <td>15810944</td>\n",
       "      <td>01-04-2012</td>\n",
       "      <td>Italy</td>\n",
       "      <td>Male</td>\n",
       "      <td>35</td>\n",
       "      <td>20000.0</td>\n",
       "      <td>0</td>\n",
       "    </tr>\n",
       "    <tr>\n",
       "      <th>2</th>\n",
       "      <td>15668575</td>\n",
       "      <td>01-05-2012</td>\n",
       "      <td>France</td>\n",
       "      <td>Female</td>\n",
       "      <td>26</td>\n",
       "      <td>43000.0</td>\n",
       "      <td>0</td>\n",
       "    </tr>\n",
       "    <tr>\n",
       "      <th>3</th>\n",
       "      <td>15603246</td>\n",
       "      <td>01-06-2012</td>\n",
       "      <td>Germany</td>\n",
       "      <td>Female</td>\n",
       "      <td>27</td>\n",
       "      <td>57000.0</td>\n",
       "      <td>0</td>\n",
       "    </tr>\n",
       "    <tr>\n",
       "      <th>4</th>\n",
       "      <td>15804002</td>\n",
       "      <td>01-09-2012</td>\n",
       "      <td>France</td>\n",
       "      <td>Male</td>\n",
       "      <td>19</td>\n",
       "      <td>76000.0</td>\n",
       "      <td>0</td>\n",
       "    </tr>\n",
       "    <tr>\n",
       "      <th>...</th>\n",
       "      <td>...</td>\n",
       "      <td>...</td>\n",
       "      <td>...</td>\n",
       "      <td>...</td>\n",
       "      <td>...</td>\n",
       "      <td>...</td>\n",
       "      <td>...</td>\n",
       "    </tr>\n",
       "    <tr>\n",
       "      <th>398</th>\n",
       "      <td>15691863</td>\n",
       "      <td>08-05-2013</td>\n",
       "      <td>France</td>\n",
       "      <td>Female</td>\n",
       "      <td>46</td>\n",
       "      <td>41000.0</td>\n",
       "      <td>1</td>\n",
       "    </tr>\n",
       "    <tr>\n",
       "      <th>399</th>\n",
       "      <td>15706071</td>\n",
       "      <td>08-06-2013</td>\n",
       "      <td>Italy</td>\n",
       "      <td>Male</td>\n",
       "      <td>51</td>\n",
       "      <td>23000.0</td>\n",
       "      <td>1</td>\n",
       "    </tr>\n",
       "    <tr>\n",
       "      <th>400</th>\n",
       "      <td>15654296</td>\n",
       "      <td>08-07-2013</td>\n",
       "      <td>Italy</td>\n",
       "      <td>Female</td>\n",
       "      <td>50</td>\n",
       "      <td>20000.0</td>\n",
       "      <td>1</td>\n",
       "    </tr>\n",
       "    <tr>\n",
       "      <th>401</th>\n",
       "      <td>15755018</td>\n",
       "      <td>08-08-2013</td>\n",
       "      <td>Germany</td>\n",
       "      <td>Male</td>\n",
       "      <td>36</td>\n",
       "      <td>33000.0</td>\n",
       "      <td>0</td>\n",
       "    </tr>\n",
       "    <tr>\n",
       "      <th>402</th>\n",
       "      <td>15594041</td>\n",
       "      <td>08-09-2013</td>\n",
       "      <td>Germany&amp;</td>\n",
       "      <td>Female</td>\n",
       "      <td>49</td>\n",
       "      <td>36000.0</td>\n",
       "      <td>1</td>\n",
       "    </tr>\n",
       "  </tbody>\n",
       "</table>\n",
       "<p>403 rows × 7 columns</p>\n",
       "</div>"
      ],
      "text/plain": [
       "      User ID        Date   Country  Gender  Age  EstimatedSalary  Purchased\n",
       "0    15624510  01-03-2012    France    Male   19          19000.0          0\n",
       "1    15810944  01-04-2012     Italy    Male   35          20000.0          0\n",
       "2    15668575  01-05-2012    France  Female   26          43000.0          0\n",
       "3    15603246  01-06-2012   Germany  Female   27          57000.0          0\n",
       "4    15804002  01-09-2012    France    Male   19          76000.0          0\n",
       "..        ...         ...       ...     ...  ...              ...        ...\n",
       "398  15691863  08-05-2013    France  Female   46          41000.0          1\n",
       "399  15706071  08-06-2013     Italy    Male   51          23000.0          1\n",
       "400  15654296  08-07-2013     Italy  Female   50          20000.0          1\n",
       "401  15755018  08-08-2013   Germany    Male   36          33000.0          0\n",
       "402  15594041  08-09-2013  Germany&  Female   49          36000.0          1\n",
       "\n",
       "[403 rows x 7 columns]"
      ]
     },
     "execution_count": 5,
     "metadata": {},
     "output_type": "execute_result"
    }
   ],
   "source": [
    "data"
   ]
  },
  {
   "cell_type": "code",
   "execution_count": 7,
   "id": "8389f019",
   "metadata": {},
   "outputs": [
    {
     "data": {
      "text/plain": [
       "(403, 7)"
      ]
     },
     "execution_count": 7,
     "metadata": {},
     "output_type": "execute_result"
    }
   ],
   "source": [
    "data.shape"
   ]
  },
  {
   "cell_type": "markdown",
   "id": "26af7740",
   "metadata": {},
   "source": [
    "## Checking for any missing values"
   ]
  },
  {
   "cell_type": "markdown",
   "id": "bb5511c7",
   "metadata": {},
   "source": [
    "What ? --> What is the missing value\n",
    "\n",
    "Why ? ---> Why do we need to handle this\n",
    "\n",
    "Example -: Let's assume that our data is --> 200,400,nan,500,750\n",
    "\n",
    "So we know that our machine learning model is a mathematical model. Let's assume that our machine is doing something like this,\n",
    "\n",
    "200+400+nan+500+750 -> Is this valid ? No. We can't add nan value with numbers\n",
    "\n",
    "ie, we can't use nan value for calculations in a machine learning model\n",
    "   \n",
    "\n",
    "How ? How to handle the missing value \n",
    "\n",
    "Either fill the missing value\n",
    "\n",
    "    --- 1. Fill With mean or median or mode\n",
    "    \n",
    "    ----2. Fill by analyzing the data\n",
    "    \n",
    "           -----2.1 GroupBy Analysis\n",
    "           \n",
    "           -----2.2 Stats analysis\n",
    "           \n",
    "    ----3. Fill with random selection in the variable\n",
    "    \n",
    "    ----4. Fill with some relevant value\n",
    "    \n",
    "    ----5. Predict the missing value\n",
    "           \n",
    "\n",
    "OR drop the missing value\n",
    "\n",
    "    ---- 1. Drop a row ( When you have a huge data set)\n",
    "    \n",
    "    ---- 2. Drop the entire column (When there is 30%-40% of missing values in the column)"
   ]
  },
  {
   "cell_type": "code",
   "execution_count": 13,
   "id": "1286a1c1",
   "metadata": {},
   "outputs": [
    {
     "data": {
      "text/plain": [
       "User ID            False\n",
       "Date               False\n",
       "Country            False\n",
       "Gender             False\n",
       "Age                False\n",
       "EstimatedSalary     True\n",
       "Purchased          False\n",
       "dtype: bool"
      ]
     },
     "execution_count": 13,
     "metadata": {},
     "output_type": "execute_result"
    }
   ],
   "source": [
    "data.isnull().any()"
   ]
  },
  {
   "cell_type": "code",
   "execution_count": 15,
   "id": "6b177356",
   "metadata": {},
   "outputs": [
    {
     "data": {
      "text/plain": [
       "1"
      ]
     },
     "execution_count": 15,
     "metadata": {},
     "output_type": "execute_result"
    }
   ],
   "source": [
    "data.isnull().any().sum() # Gives the number of columns with missing values"
   ]
  },
  {
   "cell_type": "code",
   "execution_count": 16,
   "id": "391458ae",
   "metadata": {},
   "outputs": [
    {
     "data": {
      "text/plain": [
       "User ID            0\n",
       "Date               0\n",
       "Country            0\n",
       "Gender             0\n",
       "Age                0\n",
       "EstimatedSalary    2\n",
       "Purchased          0\n",
       "dtype: int64"
      ]
     },
     "execution_count": 16,
     "metadata": {},
     "output_type": "execute_result"
    }
   ],
   "source": [
    "data.isnull().sum()"
   ]
  },
  {
   "cell_type": "code",
   "execution_count": 19,
   "id": "23d05d89",
   "metadata": {},
   "outputs": [
    {
     "data": {
      "text/plain": [
       "2"
      ]
     },
     "execution_count": 19,
     "metadata": {},
     "output_type": "execute_result"
    }
   ],
   "source": [
    "data[\"EstimatedSalary\"].isnull().sum()"
   ]
  },
  {
   "cell_type": "code",
   "execution_count": null,
   "id": "c54b2727",
   "metadata": {},
   "outputs": [],
   "source": []
  }
 ],
 "metadata": {
  "kernelspec": {
   "display_name": "Python 3 (ipykernel)",
   "language": "python",
   "name": "python3"
  },
  "language_info": {
   "codemirror_mode": {
    "name": "ipython",
    "version": 3
   },
   "file_extension": ".py",
   "mimetype": "text/x-python",
   "name": "python",
   "nbconvert_exporter": "python",
   "pygments_lexer": "ipython3",
   "version": "3.9.7"
  }
 },
 "nbformat": 4,
 "nbformat_minor": 5
}
