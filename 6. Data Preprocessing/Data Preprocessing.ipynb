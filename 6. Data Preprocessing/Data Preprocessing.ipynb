{
 "cells": [
  {
   "cell_type": "code",
   "execution_count": 1,
   "id": "b67d5c3a",
   "metadata": {},
   "outputs": [],
   "source": [
    "import pandas as pd\n",
    "import numpy as np\n",
    "import matplotlib as plt\n",
    "import seaborn as sns "
   ]
  },
  {
   "cell_type": "markdown",
   "id": "d2492831",
   "metadata": {},
   "source": [
    "# Data Preprocessing"
   ]
  },
  {
   "cell_type": "markdown",
   "id": "7edc0d57",
   "metadata": {},
   "source": [
    "For Data Preprocessing here we are using Social_Network_Ads_1 Data Set. It is talking about the customers information. A particular company is displaying lots of ads to the customers through social media(Company is trying to show ads only the customers who purchased the product) . What is our task is , Here we have a particular variable $ purchased $. It is our target variable . Here based on various other information(Country,Gender,Salary etc..). Here we are trying to estimate whether he is purchased the product or not or ideally is there is any chance that a particular customer purchases the product"
   ]
  },
  {
   "cell_type": "code",
   "execution_count": 2,
   "id": "139c3c41",
   "metadata": {},
   "outputs": [],
   "source": [
    "data = pd.read_csv(r\"Social_Network_Ads_1.csv\")"
   ]
  },
  {
   "cell_type": "code",
   "execution_count": 3,
   "id": "bca9e58c",
   "metadata": {},
   "outputs": [
    {
     "data": {
      "text/html": [
       "<div>\n",
       "<style scoped>\n",
       "    .dataframe tbody tr th:only-of-type {\n",
       "        vertical-align: middle;\n",
       "    }\n",
       "\n",
       "    .dataframe tbody tr th {\n",
       "        vertical-align: top;\n",
       "    }\n",
       "\n",
       "    .dataframe thead th {\n",
       "        text-align: right;\n",
       "    }\n",
       "</style>\n",
       "<table border=\"1\" class=\"dataframe\">\n",
       "  <thead>\n",
       "    <tr style=\"text-align: right;\">\n",
       "      <th></th>\n",
       "      <th>User ID</th>\n",
       "      <th>Date</th>\n",
       "      <th>Country</th>\n",
       "      <th>Gender</th>\n",
       "      <th>Age</th>\n",
       "      <th>EstimatedSalary</th>\n",
       "      <th>Purchased</th>\n",
       "    </tr>\n",
       "  </thead>\n",
       "  <tbody>\n",
       "    <tr>\n",
       "      <th>0</th>\n",
       "      <td>15624510</td>\n",
       "      <td>01-03-2012</td>\n",
       "      <td>France</td>\n",
       "      <td>Male</td>\n",
       "      <td>19</td>\n",
       "      <td>19000.0</td>\n",
       "      <td>0</td>\n",
       "    </tr>\n",
       "    <tr>\n",
       "      <th>1</th>\n",
       "      <td>15810944</td>\n",
       "      <td>01-04-2012</td>\n",
       "      <td>Italy</td>\n",
       "      <td>Male</td>\n",
       "      <td>35</td>\n",
       "      <td>20000.0</td>\n",
       "      <td>0</td>\n",
       "    </tr>\n",
       "    <tr>\n",
       "      <th>2</th>\n",
       "      <td>15668575</td>\n",
       "      <td>01-05-2012</td>\n",
       "      <td>France</td>\n",
       "      <td>Female</td>\n",
       "      <td>26</td>\n",
       "      <td>43000.0</td>\n",
       "      <td>0</td>\n",
       "    </tr>\n",
       "    <tr>\n",
       "      <th>3</th>\n",
       "      <td>15603246</td>\n",
       "      <td>01-06-2012</td>\n",
       "      <td>Germany</td>\n",
       "      <td>Female</td>\n",
       "      <td>27</td>\n",
       "      <td>57000.0</td>\n",
       "      <td>0</td>\n",
       "    </tr>\n",
       "    <tr>\n",
       "      <th>4</th>\n",
       "      <td>15804002</td>\n",
       "      <td>01-09-2012</td>\n",
       "      <td>France</td>\n",
       "      <td>Male</td>\n",
       "      <td>19</td>\n",
       "      <td>76000.0</td>\n",
       "      <td>0</td>\n",
       "    </tr>\n",
       "    <tr>\n",
       "      <th>...</th>\n",
       "      <td>...</td>\n",
       "      <td>...</td>\n",
       "      <td>...</td>\n",
       "      <td>...</td>\n",
       "      <td>...</td>\n",
       "      <td>...</td>\n",
       "      <td>...</td>\n",
       "    </tr>\n",
       "    <tr>\n",
       "      <th>398</th>\n",
       "      <td>15691863</td>\n",
       "      <td>08-05-2013</td>\n",
       "      <td>France</td>\n",
       "      <td>Female</td>\n",
       "      <td>46</td>\n",
       "      <td>41000.0</td>\n",
       "      <td>1</td>\n",
       "    </tr>\n",
       "    <tr>\n",
       "      <th>399</th>\n",
       "      <td>15706071</td>\n",
       "      <td>08-06-2013</td>\n",
       "      <td>Italy</td>\n",
       "      <td>Male</td>\n",
       "      <td>51</td>\n",
       "      <td>23000.0</td>\n",
       "      <td>1</td>\n",
       "    </tr>\n",
       "    <tr>\n",
       "      <th>400</th>\n",
       "      <td>15654296</td>\n",
       "      <td>08-07-2013</td>\n",
       "      <td>Italy</td>\n",
       "      <td>Female</td>\n",
       "      <td>50</td>\n",
       "      <td>20000.0</td>\n",
       "      <td>1</td>\n",
       "    </tr>\n",
       "    <tr>\n",
       "      <th>401</th>\n",
       "      <td>15755018</td>\n",
       "      <td>08-08-2013</td>\n",
       "      <td>Germany</td>\n",
       "      <td>Male</td>\n",
       "      <td>36</td>\n",
       "      <td>33000.0</td>\n",
       "      <td>0</td>\n",
       "    </tr>\n",
       "    <tr>\n",
       "      <th>402</th>\n",
       "      <td>15594041</td>\n",
       "      <td>08-09-2013</td>\n",
       "      <td>Germany&amp;</td>\n",
       "      <td>Female</td>\n",
       "      <td>49</td>\n",
       "      <td>36000.0</td>\n",
       "      <td>1</td>\n",
       "    </tr>\n",
       "  </tbody>\n",
       "</table>\n",
       "<p>403 rows × 7 columns</p>\n",
       "</div>"
      ],
      "text/plain": [
       "      User ID        Date   Country  Gender  Age  EstimatedSalary  Purchased\n",
       "0    15624510  01-03-2012    France    Male   19          19000.0          0\n",
       "1    15810944  01-04-2012     Italy    Male   35          20000.0          0\n",
       "2    15668575  01-05-2012    France  Female   26          43000.0          0\n",
       "3    15603246  01-06-2012   Germany  Female   27          57000.0          0\n",
       "4    15804002  01-09-2012    France    Male   19          76000.0          0\n",
       "..        ...         ...       ...     ...  ...              ...        ...\n",
       "398  15691863  08-05-2013    France  Female   46          41000.0          1\n",
       "399  15706071  08-06-2013     Italy    Male   51          23000.0          1\n",
       "400  15654296  08-07-2013     Italy  Female   50          20000.0          1\n",
       "401  15755018  08-08-2013   Germany    Male   36          33000.0          0\n",
       "402  15594041  08-09-2013  Germany&  Female   49          36000.0          1\n",
       "\n",
       "[403 rows x 7 columns]"
      ]
     },
     "execution_count": 3,
     "metadata": {},
     "output_type": "execute_result"
    }
   ],
   "source": [
    "data"
   ]
  },
  {
   "cell_type": "code",
   "execution_count": 4,
   "id": "8389f019",
   "metadata": {},
   "outputs": [
    {
     "data": {
      "text/plain": [
       "(403, 7)"
      ]
     },
     "execution_count": 4,
     "metadata": {},
     "output_type": "execute_result"
    }
   ],
   "source": [
    "data.shape"
   ]
  },
  {
   "cell_type": "markdown",
   "id": "26af7740",
   "metadata": {},
   "source": [
    "## Checking for any missing values"
   ]
  },
  {
   "cell_type": "markdown",
   "id": "bb5511c7",
   "metadata": {},
   "source": [
    "What ? --> What is the missing value\n",
    "\n",
    "Why ? ---> Why do we need to handle this\n",
    "\n",
    "Example -: Let's assume that our data is --> 200,400,nan,500,750\n",
    "\n",
    "So we know that our machine learning model is a mathematical model. Let's assume that our machine is doing something like this,\n",
    "\n",
    "200+400+nan+500+750 -> Is this valid ? No. We can't add nan value with numbers\n",
    "\n",
    "ie, we can't use nan value for calculations in a machine learning model\n",
    "   \n",
    "\n",
    "How ? How to handle the missing value \n",
    "\n",
    "Either fill the missing value\n",
    "\n",
    "    --- 1. Fill With mean or median or mode\n",
    "    \n",
    "    ----2. Fill by analyzing the data\n",
    "    \n",
    "           -----2.1 GroupBy Analysis\n",
    "           \n",
    "           -----2.2 Stats analysis\n",
    "           \n",
    "    ----3. Fill with random selection in the variable\n",
    "    \n",
    "    ----4. Fill with some relevant value\n",
    "    \n",
    "    ----5. Predict the missing value\n",
    "           \n",
    "\n",
    "OR drop the missing value\n",
    "\n",
    "    ---- 1. Drop a row ( When you have a huge data set)\n",
    "    \n",
    "    ---- 2. Drop the entire column (When there is 30%-40% of missing values in the column)"
   ]
  },
  {
   "cell_type": "code",
   "execution_count": 5,
   "id": "1286a1c1",
   "metadata": {},
   "outputs": [
    {
     "data": {
      "text/plain": [
       "User ID            False\n",
       "Date               False\n",
       "Country            False\n",
       "Gender             False\n",
       "Age                False\n",
       "EstimatedSalary     True\n",
       "Purchased          False\n",
       "dtype: bool"
      ]
     },
     "execution_count": 5,
     "metadata": {},
     "output_type": "execute_result"
    }
   ],
   "source": [
    "data.isnull().any()"
   ]
  },
  {
   "cell_type": "code",
   "execution_count": 6,
   "id": "6b177356",
   "metadata": {},
   "outputs": [
    {
     "data": {
      "text/plain": [
       "1"
      ]
     },
     "execution_count": 6,
     "metadata": {},
     "output_type": "execute_result"
    }
   ],
   "source": [
    "data.isnull().any().sum() # Gives the number of columns with missing values"
   ]
  },
  {
   "cell_type": "code",
   "execution_count": 7,
   "id": "391458ae",
   "metadata": {},
   "outputs": [
    {
     "data": {
      "text/plain": [
       "User ID            0\n",
       "Date               0\n",
       "Country            0\n",
       "Gender             0\n",
       "Age                0\n",
       "EstimatedSalary    2\n",
       "Purchased          0\n",
       "dtype: int64"
      ]
     },
     "execution_count": 7,
     "metadata": {},
     "output_type": "execute_result"
    }
   ],
   "source": [
    "data.isnull().sum()"
   ]
  },
  {
   "cell_type": "code",
   "execution_count": 8,
   "id": "23d05d89",
   "metadata": {},
   "outputs": [
    {
     "data": {
      "text/plain": [
       "2"
      ]
     },
     "execution_count": 8,
     "metadata": {},
     "output_type": "execute_result"
    }
   ],
   "source": [
    "data[\"EstimatedSalary\"].isnull().sum()"
   ]
  },
  {
   "cell_type": "markdown",
   "id": "a90e53c4",
   "metadata": {},
   "source": [
    "# Handling Missing Values"
   ]
  },
  {
   "cell_type": "markdown",
   "id": "73f1dbb0",
   "metadata": {},
   "source": [
    "### Filling with mean or median"
   ]
  },
  {
   "cell_type": "code",
   "execution_count": 9,
   "id": "57048594",
   "metadata": {},
   "outputs": [
    {
     "data": {
      "text/plain": [
       "User ID            1.569141e+07\n",
       "Age                3.769231e+01\n",
       "EstimatedSalary    8.236658e+04\n",
       "Purchased          3.598015e-01\n",
       "dtype: float64"
      ]
     },
     "execution_count": 9,
     "metadata": {},
     "output_type": "execute_result"
    }
   ],
   "source": [
    "data.mean(numeric_only=True)"
   ]
  },
  {
   "cell_type": "code",
   "execution_count": 10,
   "id": "01721a07",
   "metadata": {},
   "outputs": [
    {
     "data": {
      "text/plain": [
       "82366.58354114713"
      ]
     },
     "execution_count": 10,
     "metadata": {},
     "output_type": "execute_result"
    }
   ],
   "source": [
    "data[\"EstimatedSalary\"].mean()"
   ]
  },
  {
   "cell_type": "code",
   "execution_count": 11,
   "id": "ce5a608c",
   "metadata": {},
   "outputs": [
    {
     "data": {
      "text/plain": [
       "User ID            False\n",
       "Date               False\n",
       "Country            False\n",
       "Gender             False\n",
       "Age                False\n",
       "EstimatedSalary    False\n",
       "Purchased          False\n",
       "dtype: bool"
      ]
     },
     "execution_count": 11,
     "metadata": {},
     "output_type": "execute_result"
    }
   ],
   "source": [
    "data.fillna(data[\"EstimatedSalary\"].mean()).isnull().any() # To get the data get updated use inplace=True"
   ]
  },
  {
   "cell_type": "code",
   "execution_count": 12,
   "id": "6d7f9c96",
   "metadata": {},
   "outputs": [
    {
     "data": {
      "text/plain": [
       "70000.0"
      ]
     },
     "execution_count": 12,
     "metadata": {},
     "output_type": "execute_result"
    }
   ],
   "source": [
    "data[\"EstimatedSalary\"].median()"
   ]
  },
  {
   "cell_type": "markdown",
   "id": "3ded57b0",
   "metadata": {},
   "source": [
    "Here we can see that mean is 82K+ and median is 70K  Big difference between mean and median which means, our mean value is got affected by outliers . Mean is greater than median which means on the right side we have outliers. In this we can go for median"
   ]
  },
  {
   "cell_type": "code",
   "execution_count": 13,
   "id": "43e9136f",
   "metadata": {},
   "outputs": [
    {
     "data": {
      "text/html": [
       "<div>\n",
       "<style scoped>\n",
       "    .dataframe tbody tr th:only-of-type {\n",
       "        vertical-align: middle;\n",
       "    }\n",
       "\n",
       "    .dataframe tbody tr th {\n",
       "        vertical-align: top;\n",
       "    }\n",
       "\n",
       "    .dataframe thead th {\n",
       "        text-align: right;\n",
       "    }\n",
       "</style>\n",
       "<table border=\"1\" class=\"dataframe\">\n",
       "  <thead>\n",
       "    <tr style=\"text-align: right;\">\n",
       "      <th></th>\n",
       "      <th>User ID</th>\n",
       "      <th>Date</th>\n",
       "      <th>Country</th>\n",
       "      <th>Gender</th>\n",
       "      <th>Age</th>\n",
       "      <th>EstimatedSalary</th>\n",
       "      <th>Purchased</th>\n",
       "    </tr>\n",
       "  </thead>\n",
       "  <tbody>\n",
       "    <tr>\n",
       "      <th>0</th>\n",
       "      <td>15624510</td>\n",
       "      <td>01-03-2012</td>\n",
       "      <td>France</td>\n",
       "      <td>Male</td>\n",
       "      <td>19</td>\n",
       "      <td>19000.0</td>\n",
       "      <td>0</td>\n",
       "    </tr>\n",
       "    <tr>\n",
       "      <th>1</th>\n",
       "      <td>15810944</td>\n",
       "      <td>01-04-2012</td>\n",
       "      <td>Italy</td>\n",
       "      <td>Male</td>\n",
       "      <td>35</td>\n",
       "      <td>20000.0</td>\n",
       "      <td>0</td>\n",
       "    </tr>\n",
       "    <tr>\n",
       "      <th>2</th>\n",
       "      <td>15668575</td>\n",
       "      <td>01-05-2012</td>\n",
       "      <td>France</td>\n",
       "      <td>Female</td>\n",
       "      <td>26</td>\n",
       "      <td>43000.0</td>\n",
       "      <td>0</td>\n",
       "    </tr>\n",
       "    <tr>\n",
       "      <th>3</th>\n",
       "      <td>15603246</td>\n",
       "      <td>01-06-2012</td>\n",
       "      <td>Germany</td>\n",
       "      <td>Female</td>\n",
       "      <td>27</td>\n",
       "      <td>57000.0</td>\n",
       "      <td>0</td>\n",
       "    </tr>\n",
       "    <tr>\n",
       "      <th>4</th>\n",
       "      <td>15804002</td>\n",
       "      <td>01-09-2012</td>\n",
       "      <td>France</td>\n",
       "      <td>Male</td>\n",
       "      <td>19</td>\n",
       "      <td>76000.0</td>\n",
       "      <td>0</td>\n",
       "    </tr>\n",
       "    <tr>\n",
       "      <th>...</th>\n",
       "      <td>...</td>\n",
       "      <td>...</td>\n",
       "      <td>...</td>\n",
       "      <td>...</td>\n",
       "      <td>...</td>\n",
       "      <td>...</td>\n",
       "      <td>...</td>\n",
       "    </tr>\n",
       "    <tr>\n",
       "      <th>398</th>\n",
       "      <td>15691863</td>\n",
       "      <td>08-05-2013</td>\n",
       "      <td>France</td>\n",
       "      <td>Female</td>\n",
       "      <td>46</td>\n",
       "      <td>41000.0</td>\n",
       "      <td>1</td>\n",
       "    </tr>\n",
       "    <tr>\n",
       "      <th>399</th>\n",
       "      <td>15706071</td>\n",
       "      <td>08-06-2013</td>\n",
       "      <td>Italy</td>\n",
       "      <td>Male</td>\n",
       "      <td>51</td>\n",
       "      <td>23000.0</td>\n",
       "      <td>1</td>\n",
       "    </tr>\n",
       "    <tr>\n",
       "      <th>400</th>\n",
       "      <td>15654296</td>\n",
       "      <td>08-07-2013</td>\n",
       "      <td>Italy</td>\n",
       "      <td>Female</td>\n",
       "      <td>50</td>\n",
       "      <td>20000.0</td>\n",
       "      <td>1</td>\n",
       "    </tr>\n",
       "    <tr>\n",
       "      <th>401</th>\n",
       "      <td>15755018</td>\n",
       "      <td>08-08-2013</td>\n",
       "      <td>Germany</td>\n",
       "      <td>Male</td>\n",
       "      <td>36</td>\n",
       "      <td>33000.0</td>\n",
       "      <td>0</td>\n",
       "    </tr>\n",
       "    <tr>\n",
       "      <th>402</th>\n",
       "      <td>15594041</td>\n",
       "      <td>08-09-2013</td>\n",
       "      <td>Germany&amp;</td>\n",
       "      <td>Female</td>\n",
       "      <td>49</td>\n",
       "      <td>36000.0</td>\n",
       "      <td>1</td>\n",
       "    </tr>\n",
       "  </tbody>\n",
       "</table>\n",
       "<p>403 rows × 7 columns</p>\n",
       "</div>"
      ],
      "text/plain": [
       "      User ID        Date   Country  Gender  Age  EstimatedSalary  Purchased\n",
       "0    15624510  01-03-2012    France    Male   19          19000.0          0\n",
       "1    15810944  01-04-2012     Italy    Male   35          20000.0          0\n",
       "2    15668575  01-05-2012    France  Female   26          43000.0          0\n",
       "3    15603246  01-06-2012   Germany  Female   27          57000.0          0\n",
       "4    15804002  01-09-2012    France    Male   19          76000.0          0\n",
       "..        ...         ...       ...     ...  ...              ...        ...\n",
       "398  15691863  08-05-2013    France  Female   46          41000.0          1\n",
       "399  15706071  08-06-2013     Italy    Male   51          23000.0          1\n",
       "400  15654296  08-07-2013     Italy  Female   50          20000.0          1\n",
       "401  15755018  08-08-2013   Germany    Male   36          33000.0          0\n",
       "402  15594041  08-09-2013  Germany&  Female   49          36000.0          1\n",
       "\n",
       "[403 rows x 7 columns]"
      ]
     },
     "execution_count": 13,
     "metadata": {},
     "output_type": "execute_result"
    }
   ],
   "source": [
    "data.fillna(data[\"EstimatedSalary\"].median())"
   ]
  },
  {
   "cell_type": "markdown",
   "id": "75eb97c7",
   "metadata": {},
   "source": [
    "## Mode"
   ]
  },
  {
   "cell_type": "markdown",
   "id": "003139c9",
   "metadata": {},
   "source": [
    "Mode is used to fill categorical data because mean and median can't be used with categorical data . It gives the most occurring value"
   ]
  },
  {
   "cell_type": "code",
   "execution_count": 16,
   "id": "be6b4a0a",
   "metadata": {},
   "outputs": [
    {
     "data": {
      "text/plain": [
       "0    72000.0\n",
       "dtype: float64"
      ]
     },
     "execution_count": 16,
     "metadata": {},
     "output_type": "execute_result"
    }
   ],
   "source": [
    "data[\"EstimatedSalary\"].mode() "
   ]
  },
  {
   "cell_type": "markdown",
   "id": "f548780e",
   "metadata": {},
   "source": [
    "It gives data in series format so in order to get the mode value we need ti slice it"
   ]
  },
  {
   "cell_type": "code",
   "execution_count": 17,
   "id": "acaf4e65",
   "metadata": {},
   "outputs": [
    {
     "data": {
      "text/plain": [
       "72000.0"
      ]
     },
     "execution_count": 17,
     "metadata": {},
     "output_type": "execute_result"
    }
   ],
   "source": [
    "data[\"EstimatedSalary\"].mode()[0]"
   ]
  },
  {
   "cell_type": "code",
   "execution_count": 20,
   "id": "dca02e16",
   "metadata": {},
   "outputs": [
    {
     "data": {
      "text/plain": [
       "0"
      ]
     },
     "execution_count": 20,
     "metadata": {},
     "output_type": "execute_result"
    }
   ],
   "source": [
    "data[\"EstimatedSalary\"].fillna(data[\"EstimatedSalary\"].mode()[0]).isnull().sum() # For updating the data frame use inplace=True"
   ]
  },
  {
   "cell_type": "markdown",
   "id": "48e745a9",
   "metadata": {},
   "source": [
    "While filling with mean and median we used data.fillna(). But while filling with median we have to use data[Column_Name].fillna()"
   ]
  },
  {
   "cell_type": "markdown",
   "id": "b9949955",
   "metadata": {},
   "source": [
    "## bfill() and ffill()"
   ]
  },
  {
   "cell_type": "markdown",
   "id": "24c43d97",
   "metadata": {},
   "source": [
    "bfill -> Backward Fill\n",
    "\n",
    "ffill -> Forward Fill\n",
    "\n",
    "Whenever the data is depends on time, ie. when the previous data(row) is depends on the current data(row). and wen there is a NaN(Missing) Value we can fill with the previous row value(ffill) or next row value(bfill)\n"
   ]
  },
  {
   "cell_type": "code",
   "execution_count": 24,
   "id": "51e8fb43",
   "metadata": {},
   "outputs": [
    {
     "data": {
      "text/html": [
       "<div>\n",
       "<style scoped>\n",
       "    .dataframe tbody tr th:only-of-type {\n",
       "        vertical-align: middle;\n",
       "    }\n",
       "\n",
       "    .dataframe tbody tr th {\n",
       "        vertical-align: top;\n",
       "    }\n",
       "\n",
       "    .dataframe thead th {\n",
       "        text-align: right;\n",
       "    }\n",
       "</style>\n",
       "<table border=\"1\" class=\"dataframe\">\n",
       "  <thead>\n",
       "    <tr style=\"text-align: right;\">\n",
       "      <th></th>\n",
       "      <th>User ID</th>\n",
       "      <th>Date</th>\n",
       "      <th>Country</th>\n",
       "      <th>Gender</th>\n",
       "      <th>Age</th>\n",
       "      <th>EstimatedSalary</th>\n",
       "      <th>Purchased</th>\n",
       "    </tr>\n",
       "  </thead>\n",
       "  <tbody>\n",
       "    <tr>\n",
       "      <th>10</th>\n",
       "      <td>15570769</td>\n",
       "      <td>1/18/2012</td>\n",
       "      <td>Italy</td>\n",
       "      <td>Female</td>\n",
       "      <td>26</td>\n",
       "      <td>NaN</td>\n",
       "      <td>0</td>\n",
       "    </tr>\n",
       "    <tr>\n",
       "      <th>167</th>\n",
       "      <td>15762228</td>\n",
       "      <td>8/30/2012</td>\n",
       "      <td>France</td>\n",
       "      <td>Female</td>\n",
       "      <td>22</td>\n",
       "      <td>NaN</td>\n",
       "      <td>0</td>\n",
       "    </tr>\n",
       "  </tbody>\n",
       "</table>\n",
       "</div>"
      ],
      "text/plain": [
       "      User ID       Date Country  Gender  Age  EstimatedSalary  Purchased\n",
       "10   15570769  1/18/2012   Italy  Female   26              NaN          0\n",
       "167  15762228  8/30/2012  France  Female   22              NaN          0"
      ]
     },
     "execution_count": 24,
     "metadata": {},
     "output_type": "execute_result"
    }
   ],
   "source": [
    "data[data.isnull().any(axis=1)] # Shows the rows where we have mising values"
   ]
  },
  {
   "cell_type": "code",
   "execution_count": 25,
   "id": "de95d613",
   "metadata": {},
   "outputs": [
    {
     "data": {
      "text/html": [
       "<div>\n",
       "<style scoped>\n",
       "    .dataframe tbody tr th:only-of-type {\n",
       "        vertical-align: middle;\n",
       "    }\n",
       "\n",
       "    .dataframe tbody tr th {\n",
       "        vertical-align: top;\n",
       "    }\n",
       "\n",
       "    .dataframe thead th {\n",
       "        text-align: right;\n",
       "    }\n",
       "</style>\n",
       "<table border=\"1\" class=\"dataframe\">\n",
       "  <thead>\n",
       "    <tr style=\"text-align: right;\">\n",
       "      <th></th>\n",
       "      <th>User ID</th>\n",
       "      <th>Date</th>\n",
       "      <th>Country</th>\n",
       "      <th>Gender</th>\n",
       "      <th>Age</th>\n",
       "      <th>EstimatedSalary</th>\n",
       "      <th>Purchased</th>\n",
       "    </tr>\n",
       "  </thead>\n",
       "  <tbody>\n",
       "    <tr>\n",
       "      <th>8</th>\n",
       "      <td>15600575</td>\n",
       "      <td>1/13/2012</td>\n",
       "      <td>Italy</td>\n",
       "      <td>Male</td>\n",
       "      <td>25</td>\n",
       "      <td>33000.0</td>\n",
       "      <td>0</td>\n",
       "    </tr>\n",
       "    <tr>\n",
       "      <th>9</th>\n",
       "      <td>15727311</td>\n",
       "      <td>1/17/2012</td>\n",
       "      <td>Germany</td>\n",
       "      <td>Female</td>\n",
       "      <td>35</td>\n",
       "      <td>65000.0</td>\n",
       "      <td>0</td>\n",
       "    </tr>\n",
       "    <tr>\n",
       "      <th>10</th>\n",
       "      <td>15570769</td>\n",
       "      <td>1/18/2012</td>\n",
       "      <td>Italy</td>\n",
       "      <td>Female</td>\n",
       "      <td>26</td>\n",
       "      <td>NaN</td>\n",
       "      <td>0</td>\n",
       "    </tr>\n",
       "    <tr>\n",
       "      <th>11</th>\n",
       "      <td>15606274</td>\n",
       "      <td>1/19/2012</td>\n",
       "      <td>France</td>\n",
       "      <td>Female</td>\n",
       "      <td>26</td>\n",
       "      <td>52000.0</td>\n",
       "      <td>0</td>\n",
       "    </tr>\n",
       "    <tr>\n",
       "      <th>12</th>\n",
       "      <td>15746139</td>\n",
       "      <td>1/20/2012</td>\n",
       "      <td>Italy</td>\n",
       "      <td>Male</td>\n",
       "      <td>20</td>\n",
       "      <td>86000.0</td>\n",
       "      <td>0</td>\n",
       "    </tr>\n",
       "    <tr>\n",
       "      <th>13</th>\n",
       "      <td>15704987</td>\n",
       "      <td>1/23/2012</td>\n",
       "      <td>France</td>\n",
       "      <td>Male</td>\n",
       "      <td>32</td>\n",
       "      <td>18000.0</td>\n",
       "      <td>0</td>\n",
       "    </tr>\n",
       "    <tr>\n",
       "      <th>14</th>\n",
       "      <td>15628972</td>\n",
       "      <td>1/24/2012</td>\n",
       "      <td>France</td>\n",
       "      <td>Male</td>\n",
       "      <td>18</td>\n",
       "      <td>82000.0</td>\n",
       "      <td>0</td>\n",
       "    </tr>\n",
       "  </tbody>\n",
       "</table>\n",
       "</div>"
      ],
      "text/plain": [
       "     User ID       Date  Country  Gender  Age  EstimatedSalary  Purchased\n",
       "8   15600575  1/13/2012    Italy    Male   25          33000.0          0\n",
       "9   15727311  1/17/2012  Germany  Female   35          65000.0          0\n",
       "10  15570769  1/18/2012    Italy  Female   26              NaN          0\n",
       "11  15606274  1/19/2012   France  Female   26          52000.0          0\n",
       "12  15746139  1/20/2012    Italy    Male   20          86000.0          0\n",
       "13  15704987  1/23/2012   France    Male   32          18000.0          0\n",
       "14  15628972  1/24/2012   France    Male   18          82000.0          0"
      ]
     },
     "execution_count": 25,
     "metadata": {},
     "output_type": "execute_result"
    }
   ],
   "source": [
    "data.iloc[8:15]"
   ]
  },
  {
   "cell_type": "code",
   "execution_count": 26,
   "id": "2cb92694",
   "metadata": {},
   "outputs": [
    {
     "data": {
      "text/html": [
       "<div>\n",
       "<style scoped>\n",
       "    .dataframe tbody tr th:only-of-type {\n",
       "        vertical-align: middle;\n",
       "    }\n",
       "\n",
       "    .dataframe tbody tr th {\n",
       "        vertical-align: top;\n",
       "    }\n",
       "\n",
       "    .dataframe thead th {\n",
       "        text-align: right;\n",
       "    }\n",
       "</style>\n",
       "<table border=\"1\" class=\"dataframe\">\n",
       "  <thead>\n",
       "    <tr style=\"text-align: right;\">\n",
       "      <th></th>\n",
       "      <th>User ID</th>\n",
       "      <th>Date</th>\n",
       "      <th>Country</th>\n",
       "      <th>Gender</th>\n",
       "      <th>Age</th>\n",
       "      <th>EstimatedSalary</th>\n",
       "      <th>Purchased</th>\n",
       "    </tr>\n",
       "  </thead>\n",
       "  <tbody>\n",
       "    <tr>\n",
       "      <th>8</th>\n",
       "      <td>15600575</td>\n",
       "      <td>1/13/2012</td>\n",
       "      <td>Italy</td>\n",
       "      <td>Male</td>\n",
       "      <td>25</td>\n",
       "      <td>33000.0</td>\n",
       "      <td>0</td>\n",
       "    </tr>\n",
       "    <tr>\n",
       "      <th>9</th>\n",
       "      <td>15727311</td>\n",
       "      <td>1/17/2012</td>\n",
       "      <td>Germany</td>\n",
       "      <td>Female</td>\n",
       "      <td>35</td>\n",
       "      <td>65000.0</td>\n",
       "      <td>0</td>\n",
       "    </tr>\n",
       "    <tr>\n",
       "      <th>10</th>\n",
       "      <td>15570769</td>\n",
       "      <td>1/18/2012</td>\n",
       "      <td>Italy</td>\n",
       "      <td>Female</td>\n",
       "      <td>26</td>\n",
       "      <td>52000.0</td>\n",
       "      <td>0</td>\n",
       "    </tr>\n",
       "    <tr>\n",
       "      <th>11</th>\n",
       "      <td>15606274</td>\n",
       "      <td>1/19/2012</td>\n",
       "      <td>France</td>\n",
       "      <td>Female</td>\n",
       "      <td>26</td>\n",
       "      <td>52000.0</td>\n",
       "      <td>0</td>\n",
       "    </tr>\n",
       "    <tr>\n",
       "      <th>12</th>\n",
       "      <td>15746139</td>\n",
       "      <td>1/20/2012</td>\n",
       "      <td>Italy</td>\n",
       "      <td>Male</td>\n",
       "      <td>20</td>\n",
       "      <td>86000.0</td>\n",
       "      <td>0</td>\n",
       "    </tr>\n",
       "    <tr>\n",
       "      <th>13</th>\n",
       "      <td>15704987</td>\n",
       "      <td>1/23/2012</td>\n",
       "      <td>France</td>\n",
       "      <td>Male</td>\n",
       "      <td>32</td>\n",
       "      <td>18000.0</td>\n",
       "      <td>0</td>\n",
       "    </tr>\n",
       "    <tr>\n",
       "      <th>14</th>\n",
       "      <td>15628972</td>\n",
       "      <td>1/24/2012</td>\n",
       "      <td>France</td>\n",
       "      <td>Male</td>\n",
       "      <td>18</td>\n",
       "      <td>82000.0</td>\n",
       "      <td>0</td>\n",
       "    </tr>\n",
       "  </tbody>\n",
       "</table>\n",
       "</div>"
      ],
      "text/plain": [
       "     User ID       Date  Country  Gender  Age  EstimatedSalary  Purchased\n",
       "8   15600575  1/13/2012    Italy    Male   25          33000.0          0\n",
       "9   15727311  1/17/2012  Germany  Female   35          65000.0          0\n",
       "10  15570769  1/18/2012    Italy  Female   26          52000.0          0\n",
       "11  15606274  1/19/2012   France  Female   26          52000.0          0\n",
       "12  15746139  1/20/2012    Italy    Male   20          86000.0          0\n",
       "13  15704987  1/23/2012   France    Male   32          18000.0          0\n",
       "14  15628972  1/24/2012   France    Male   18          82000.0          0"
      ]
     },
     "execution_count": 26,
     "metadata": {},
     "output_type": "execute_result"
    }
   ],
   "source": [
    "data.bfill().iloc[8:15] # Missing data was [10][Estimated Salary] filled with next row value"
   ]
  },
  {
   "cell_type": "code",
   "execution_count": 28,
   "id": "725abc9f",
   "metadata": {},
   "outputs": [
    {
     "data": {
      "text/html": [
       "<div>\n",
       "<style scoped>\n",
       "    .dataframe tbody tr th:only-of-type {\n",
       "        vertical-align: middle;\n",
       "    }\n",
       "\n",
       "    .dataframe tbody tr th {\n",
       "        vertical-align: top;\n",
       "    }\n",
       "\n",
       "    .dataframe thead th {\n",
       "        text-align: right;\n",
       "    }\n",
       "</style>\n",
       "<table border=\"1\" class=\"dataframe\">\n",
       "  <thead>\n",
       "    <tr style=\"text-align: right;\">\n",
       "      <th></th>\n",
       "      <th>User ID</th>\n",
       "      <th>Date</th>\n",
       "      <th>Country</th>\n",
       "      <th>Gender</th>\n",
       "      <th>Age</th>\n",
       "      <th>EstimatedSalary</th>\n",
       "      <th>Purchased</th>\n",
       "    </tr>\n",
       "  </thead>\n",
       "  <tbody>\n",
       "    <tr>\n",
       "      <th>8</th>\n",
       "      <td>15600575</td>\n",
       "      <td>1/13/2012</td>\n",
       "      <td>Italy</td>\n",
       "      <td>Male</td>\n",
       "      <td>25</td>\n",
       "      <td>33000.0</td>\n",
       "      <td>0</td>\n",
       "    </tr>\n",
       "    <tr>\n",
       "      <th>9</th>\n",
       "      <td>15727311</td>\n",
       "      <td>1/17/2012</td>\n",
       "      <td>Germany</td>\n",
       "      <td>Female</td>\n",
       "      <td>35</td>\n",
       "      <td>65000.0</td>\n",
       "      <td>0</td>\n",
       "    </tr>\n",
       "    <tr>\n",
       "      <th>10</th>\n",
       "      <td>15570769</td>\n",
       "      <td>1/18/2012</td>\n",
       "      <td>Italy</td>\n",
       "      <td>Female</td>\n",
       "      <td>26</td>\n",
       "      <td>65000.0</td>\n",
       "      <td>0</td>\n",
       "    </tr>\n",
       "    <tr>\n",
       "      <th>11</th>\n",
       "      <td>15606274</td>\n",
       "      <td>1/19/2012</td>\n",
       "      <td>France</td>\n",
       "      <td>Female</td>\n",
       "      <td>26</td>\n",
       "      <td>52000.0</td>\n",
       "      <td>0</td>\n",
       "    </tr>\n",
       "    <tr>\n",
       "      <th>12</th>\n",
       "      <td>15746139</td>\n",
       "      <td>1/20/2012</td>\n",
       "      <td>Italy</td>\n",
       "      <td>Male</td>\n",
       "      <td>20</td>\n",
       "      <td>86000.0</td>\n",
       "      <td>0</td>\n",
       "    </tr>\n",
       "    <tr>\n",
       "      <th>13</th>\n",
       "      <td>15704987</td>\n",
       "      <td>1/23/2012</td>\n",
       "      <td>France</td>\n",
       "      <td>Male</td>\n",
       "      <td>32</td>\n",
       "      <td>18000.0</td>\n",
       "      <td>0</td>\n",
       "    </tr>\n",
       "    <tr>\n",
       "      <th>14</th>\n",
       "      <td>15628972</td>\n",
       "      <td>1/24/2012</td>\n",
       "      <td>France</td>\n",
       "      <td>Male</td>\n",
       "      <td>18</td>\n",
       "      <td>82000.0</td>\n",
       "      <td>0</td>\n",
       "    </tr>\n",
       "  </tbody>\n",
       "</table>\n",
       "</div>"
      ],
      "text/plain": [
       "     User ID       Date  Country  Gender  Age  EstimatedSalary  Purchased\n",
       "8   15600575  1/13/2012    Italy    Male   25          33000.0          0\n",
       "9   15727311  1/17/2012  Germany  Female   35          65000.0          0\n",
       "10  15570769  1/18/2012    Italy  Female   26          65000.0          0\n",
       "11  15606274  1/19/2012   France  Female   26          52000.0          0\n",
       "12  15746139  1/20/2012    Italy    Male   20          86000.0          0\n",
       "13  15704987  1/23/2012   France    Male   32          18000.0          0\n",
       "14  15628972  1/24/2012   France    Male   18          82000.0          0"
      ]
     },
     "execution_count": 28,
     "metadata": {},
     "output_type": "execute_result"
    }
   ],
   "source": [
    "data.ffill().iloc[8:15] # Missing data was [10][Estimated Salary] filled with previous row value"
   ]
  },
  {
   "cell_type": "markdown",
   "id": "5236f7f8",
   "metadata": {},
   "source": [
    "## GroupBy"
   ]
  },
  {
   "cell_type": "code",
   "execution_count": 29,
   "id": "04fdb565",
   "metadata": {},
   "outputs": [
    {
     "data": {
      "text/html": [
       "<div>\n",
       "<style scoped>\n",
       "    .dataframe tbody tr th:only-of-type {\n",
       "        vertical-align: middle;\n",
       "    }\n",
       "\n",
       "    .dataframe tbody tr th {\n",
       "        vertical-align: top;\n",
       "    }\n",
       "\n",
       "    .dataframe thead th {\n",
       "        text-align: right;\n",
       "    }\n",
       "</style>\n",
       "<table border=\"1\" class=\"dataframe\">\n",
       "  <thead>\n",
       "    <tr style=\"text-align: right;\">\n",
       "      <th></th>\n",
       "      <th>User ID</th>\n",
       "      <th>Date</th>\n",
       "      <th>Country</th>\n",
       "      <th>Gender</th>\n",
       "      <th>Age</th>\n",
       "      <th>EstimatedSalary</th>\n",
       "      <th>Purchased</th>\n",
       "    </tr>\n",
       "  </thead>\n",
       "  <tbody>\n",
       "    <tr>\n",
       "      <th>10</th>\n",
       "      <td>15570769</td>\n",
       "      <td>1/18/2012</td>\n",
       "      <td>Italy</td>\n",
       "      <td>Female</td>\n",
       "      <td>26</td>\n",
       "      <td>NaN</td>\n",
       "      <td>0</td>\n",
       "    </tr>\n",
       "    <tr>\n",
       "      <th>167</th>\n",
       "      <td>15762228</td>\n",
       "      <td>8/30/2012</td>\n",
       "      <td>France</td>\n",
       "      <td>Female</td>\n",
       "      <td>22</td>\n",
       "      <td>NaN</td>\n",
       "      <td>0</td>\n",
       "    </tr>\n",
       "  </tbody>\n",
       "</table>\n",
       "</div>"
      ],
      "text/plain": [
       "      User ID       Date Country  Gender  Age  EstimatedSalary  Purchased\n",
       "10   15570769  1/18/2012   Italy  Female   26              NaN          0\n",
       "167  15762228  8/30/2012  France  Female   22              NaN          0"
      ]
     },
     "execution_count": 29,
     "metadata": {},
     "output_type": "execute_result"
    }
   ],
   "source": [
    "data[data.isnull().any(axis=1)]"
   ]
  },
  {
   "cell_type": "markdown",
   "id": "bd74cb35",
   "metadata": {},
   "source": [
    "While using the statistic(Mean , Median or Mode) to fill missing value , We are filling all the missing values with the same value"
   ]
  },
  {
   "cell_type": "code",
   "execution_count": null,
   "id": "d2bb9122",
   "metadata": {},
   "outputs": [],
   "source": []
  }
 ],
 "metadata": {
  "kernelspec": {
   "display_name": "Python 3 (ipykernel)",
   "language": "python",
   "name": "python3"
  },
  "language_info": {
   "codemirror_mode": {
    "name": "ipython",
    "version": 3
   },
   "file_extension": ".py",
   "mimetype": "text/x-python",
   "name": "python",
   "nbconvert_exporter": "python",
   "pygments_lexer": "ipython3",
   "version": "3.9.7"
  }
 },
 "nbformat": 4,
 "nbformat_minor": 5
}
