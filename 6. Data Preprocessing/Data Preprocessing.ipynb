{
 "cells": [
  {
   "cell_type": "code",
   "execution_count": 1,
   "id": "b67d5c3a",
   "metadata": {},
   "outputs": [],
   "source": [
    "import pandas as pd\n",
    "import numpy as np\n",
    "import matplotlib as plt\n",
    "import seaborn as sns "
   ]
  },
  {
   "cell_type": "markdown",
   "id": "d2492831",
   "metadata": {},
   "source": [
    "# Data Preprocessing"
   ]
  },
  {
   "cell_type": "markdown",
   "id": "7edc0d57",
   "metadata": {},
   "source": [
    "For Data Preprocessing here we are using Social_Network_Ads_1 Data Set. It is talking about the customers information. A particular company is displaying lots of ads to the customers through social media(Company is trying to show ads only the customers who purchased the product) . What is our task is , Here we have a particular variable $ purchased $. It is our target variable . Here based on various other information(Country,Gender,Salary etc..). Here we are trying to estimate whether he is purchased the product or not or ideally is there is any chance that a particular customer purchases the product"
   ]
  },
  {
   "cell_type": "code",
   "execution_count": 2,
   "id": "139c3c41",
   "metadata": {},
   "outputs": [],
   "source": [
    "data = pd.read_csv(r\"Social_Network_Ads_1.csv\")"
   ]
  },
  {
   "cell_type": "code",
   "execution_count": 3,
   "id": "bca9e58c",
   "metadata": {},
   "outputs": [
    {
     "data": {
      "text/html": [
       "<div>\n",
       "<style scoped>\n",
       "    .dataframe tbody tr th:only-of-type {\n",
       "        vertical-align: middle;\n",
       "    }\n",
       "\n",
       "    .dataframe tbody tr th {\n",
       "        vertical-align: top;\n",
       "    }\n",
       "\n",
       "    .dataframe thead th {\n",
       "        text-align: right;\n",
       "    }\n",
       "</style>\n",
       "<table border=\"1\" class=\"dataframe\">\n",
       "  <thead>\n",
       "    <tr style=\"text-align: right;\">\n",
       "      <th></th>\n",
       "      <th>User ID</th>\n",
       "      <th>Date</th>\n",
       "      <th>Country</th>\n",
       "      <th>Gender</th>\n",
       "      <th>Age</th>\n",
       "      <th>EstimatedSalary</th>\n",
       "      <th>Purchased</th>\n",
       "    </tr>\n",
       "  </thead>\n",
       "  <tbody>\n",
       "    <tr>\n",
       "      <th>0</th>\n",
       "      <td>15624510</td>\n",
       "      <td>01-03-2012</td>\n",
       "      <td>France</td>\n",
       "      <td>Male</td>\n",
       "      <td>19</td>\n",
       "      <td>19000.0</td>\n",
       "      <td>0</td>\n",
       "    </tr>\n",
       "    <tr>\n",
       "      <th>1</th>\n",
       "      <td>15810944</td>\n",
       "      <td>01-04-2012</td>\n",
       "      <td>Italy</td>\n",
       "      <td>Male</td>\n",
       "      <td>35</td>\n",
       "      <td>20000.0</td>\n",
       "      <td>0</td>\n",
       "    </tr>\n",
       "    <tr>\n",
       "      <th>2</th>\n",
       "      <td>15668575</td>\n",
       "      <td>01-05-2012</td>\n",
       "      <td>France</td>\n",
       "      <td>Female</td>\n",
       "      <td>26</td>\n",
       "      <td>43000.0</td>\n",
       "      <td>0</td>\n",
       "    </tr>\n",
       "    <tr>\n",
       "      <th>3</th>\n",
       "      <td>15603246</td>\n",
       "      <td>01-06-2012</td>\n",
       "      <td>Germany</td>\n",
       "      <td>Female</td>\n",
       "      <td>27</td>\n",
       "      <td>57000.0</td>\n",
       "      <td>0</td>\n",
       "    </tr>\n",
       "    <tr>\n",
       "      <th>4</th>\n",
       "      <td>15804002</td>\n",
       "      <td>01-09-2012</td>\n",
       "      <td>France</td>\n",
       "      <td>Male</td>\n",
       "      <td>19</td>\n",
       "      <td>76000.0</td>\n",
       "      <td>0</td>\n",
       "    </tr>\n",
       "    <tr>\n",
       "      <th>...</th>\n",
       "      <td>...</td>\n",
       "      <td>...</td>\n",
       "      <td>...</td>\n",
       "      <td>...</td>\n",
       "      <td>...</td>\n",
       "      <td>...</td>\n",
       "      <td>...</td>\n",
       "    </tr>\n",
       "    <tr>\n",
       "      <th>398</th>\n",
       "      <td>15691863</td>\n",
       "      <td>08-05-2013</td>\n",
       "      <td>France</td>\n",
       "      <td>Female</td>\n",
       "      <td>46</td>\n",
       "      <td>41000.0</td>\n",
       "      <td>1</td>\n",
       "    </tr>\n",
       "    <tr>\n",
       "      <th>399</th>\n",
       "      <td>15706071</td>\n",
       "      <td>08-06-2013</td>\n",
       "      <td>Italy</td>\n",
       "      <td>Male</td>\n",
       "      <td>51</td>\n",
       "      <td>23000.0</td>\n",
       "      <td>1</td>\n",
       "    </tr>\n",
       "    <tr>\n",
       "      <th>400</th>\n",
       "      <td>15654296</td>\n",
       "      <td>08-07-2013</td>\n",
       "      <td>Italy</td>\n",
       "      <td>Female</td>\n",
       "      <td>50</td>\n",
       "      <td>20000.0</td>\n",
       "      <td>1</td>\n",
       "    </tr>\n",
       "    <tr>\n",
       "      <th>401</th>\n",
       "      <td>15755018</td>\n",
       "      <td>08-08-2013</td>\n",
       "      <td>Germany</td>\n",
       "      <td>Male</td>\n",
       "      <td>36</td>\n",
       "      <td>33000.0</td>\n",
       "      <td>0</td>\n",
       "    </tr>\n",
       "    <tr>\n",
       "      <th>402</th>\n",
       "      <td>15594041</td>\n",
       "      <td>08-09-2013</td>\n",
       "      <td>Germany&amp;</td>\n",
       "      <td>Female</td>\n",
       "      <td>49</td>\n",
       "      <td>36000.0</td>\n",
       "      <td>1</td>\n",
       "    </tr>\n",
       "  </tbody>\n",
       "</table>\n",
       "<p>403 rows × 7 columns</p>\n",
       "</div>"
      ],
      "text/plain": [
       "      User ID        Date   Country  Gender  Age  EstimatedSalary  Purchased\n",
       "0    15624510  01-03-2012    France    Male   19          19000.0          0\n",
       "1    15810944  01-04-2012     Italy    Male   35          20000.0          0\n",
       "2    15668575  01-05-2012    France  Female   26          43000.0          0\n",
       "3    15603246  01-06-2012   Germany  Female   27          57000.0          0\n",
       "4    15804002  01-09-2012    France    Male   19          76000.0          0\n",
       "..        ...         ...       ...     ...  ...              ...        ...\n",
       "398  15691863  08-05-2013    France  Female   46          41000.0          1\n",
       "399  15706071  08-06-2013     Italy    Male   51          23000.0          1\n",
       "400  15654296  08-07-2013     Italy  Female   50          20000.0          1\n",
       "401  15755018  08-08-2013   Germany    Male   36          33000.0          0\n",
       "402  15594041  08-09-2013  Germany&  Female   49          36000.0          1\n",
       "\n",
       "[403 rows x 7 columns]"
      ]
     },
     "execution_count": 3,
     "metadata": {},
     "output_type": "execute_result"
    }
   ],
   "source": [
    "data"
   ]
  },
  {
   "cell_type": "code",
   "execution_count": 4,
   "id": "8389f019",
   "metadata": {},
   "outputs": [
    {
     "data": {
      "text/plain": [
       "(403, 7)"
      ]
     },
     "execution_count": 4,
     "metadata": {},
     "output_type": "execute_result"
    }
   ],
   "source": [
    "data.shape"
   ]
  },
  {
   "cell_type": "markdown",
   "id": "26af7740",
   "metadata": {},
   "source": [
    "## Checking for any missing values"
   ]
  },
  {
   "cell_type": "markdown",
   "id": "bb5511c7",
   "metadata": {},
   "source": [
    "What ? --> What is the missing value\n",
    "\n",
    "Why ? ---> Why do we need to handle this\n",
    "\n",
    "Example -: Let's assume that our data is --> 200,400,nan,500,750\n",
    "\n",
    "So we know that our machine learning model is a mathematical model. Let's assume that our machine is doing something like this,\n",
    "\n",
    "200+400+nan+500+750 -> Is this valid ? No. We can't add nan value with numbers\n",
    "\n",
    "ie, we can't use nan value for calculations in a machine learning model\n",
    "   \n",
    "\n",
    "How ? How to handle the missing value \n",
    "\n",
    "Either fill the missing value\n",
    "\n",
    "    --- 1. Fill With mean or median or mode\n",
    "    \n",
    "    ----2. Fill by analyzing the data\n",
    "    \n",
    "           -----2.1 GroupBy Analysis\n",
    "           \n",
    "           -----2.2 Stats analysis\n",
    "           \n",
    "    ----3. Fill with random selection in the variable\n",
    "    \n",
    "    ----4. Fill with some relevant value\n",
    "    \n",
    "    ----5. Predict the missing value\n",
    "           \n",
    "\n",
    "OR drop the missing value\n",
    "\n",
    "    ---- 1. Drop a row ( When you have a huge data set)\n",
    "    \n",
    "    ---- 2. Drop the entire column (When there is 30%-40% of missing values in the column)"
   ]
  },
  {
   "cell_type": "code",
   "execution_count": 5,
   "id": "1286a1c1",
   "metadata": {},
   "outputs": [
    {
     "data": {
      "text/plain": [
       "User ID            False\n",
       "Date               False\n",
       "Country            False\n",
       "Gender             False\n",
       "Age                False\n",
       "EstimatedSalary     True\n",
       "Purchased          False\n",
       "dtype: bool"
      ]
     },
     "execution_count": 5,
     "metadata": {},
     "output_type": "execute_result"
    }
   ],
   "source": [
    "data.isnull().any()"
   ]
  },
  {
   "cell_type": "code",
   "execution_count": 6,
   "id": "6b177356",
   "metadata": {},
   "outputs": [
    {
     "data": {
      "text/plain": [
       "1"
      ]
     },
     "execution_count": 6,
     "metadata": {},
     "output_type": "execute_result"
    }
   ],
   "source": [
    "data.isnull().any().sum() # Gives the number of columns with missing values"
   ]
  },
  {
   "cell_type": "code",
   "execution_count": 7,
   "id": "391458ae",
   "metadata": {},
   "outputs": [
    {
     "data": {
      "text/plain": [
       "User ID            0\n",
       "Date               0\n",
       "Country            0\n",
       "Gender             0\n",
       "Age                0\n",
       "EstimatedSalary    2\n",
       "Purchased          0\n",
       "dtype: int64"
      ]
     },
     "execution_count": 7,
     "metadata": {},
     "output_type": "execute_result"
    }
   ],
   "source": [
    "data.isnull().sum()"
   ]
  },
  {
   "cell_type": "code",
   "execution_count": 8,
   "id": "23d05d89",
   "metadata": {},
   "outputs": [
    {
     "data": {
      "text/plain": [
       "2"
      ]
     },
     "execution_count": 8,
     "metadata": {},
     "output_type": "execute_result"
    }
   ],
   "source": [
    "data[\"EstimatedSalary\"].isnull().sum()"
   ]
  },
  {
   "cell_type": "markdown",
   "id": "a90e53c4",
   "metadata": {},
   "source": [
    "# Handling Missing Values"
   ]
  },
  {
   "cell_type": "markdown",
   "id": "73f1dbb0",
   "metadata": {},
   "source": [
    "### Filling with mean or median"
   ]
  },
  {
   "cell_type": "code",
   "execution_count": 9,
   "id": "57048594",
   "metadata": {},
   "outputs": [
    {
     "data": {
      "text/plain": [
       "User ID            1.569141e+07\n",
       "Age                3.769231e+01\n",
       "EstimatedSalary    8.236658e+04\n",
       "Purchased          3.598015e-01\n",
       "dtype: float64"
      ]
     },
     "execution_count": 9,
     "metadata": {},
     "output_type": "execute_result"
    }
   ],
   "source": [
    "data.mean(numeric_only=True)"
   ]
  },
  {
   "cell_type": "code",
   "execution_count": 10,
   "id": "01721a07",
   "metadata": {},
   "outputs": [
    {
     "data": {
      "text/plain": [
       "82366.58354114713"
      ]
     },
     "execution_count": 10,
     "metadata": {},
     "output_type": "execute_result"
    }
   ],
   "source": [
    "data[\"EstimatedSalary\"].mean()"
   ]
  },
  {
   "cell_type": "code",
   "execution_count": 11,
   "id": "ce5a608c",
   "metadata": {},
   "outputs": [
    {
     "data": {
      "text/plain": [
       "User ID            False\n",
       "Date               False\n",
       "Country            False\n",
       "Gender             False\n",
       "Age                False\n",
       "EstimatedSalary    False\n",
       "Purchased          False\n",
       "dtype: bool"
      ]
     },
     "execution_count": 11,
     "metadata": {},
     "output_type": "execute_result"
    }
   ],
   "source": [
    "data.fillna(data[\"EstimatedSalary\"].mean()).isnull().any() # To get the data get updated use inplace=True"
   ]
  },
  {
   "cell_type": "code",
   "execution_count": 12,
   "id": "6d7f9c96",
   "metadata": {},
   "outputs": [
    {
     "data": {
      "text/plain": [
       "70000.0"
      ]
     },
     "execution_count": 12,
     "metadata": {},
     "output_type": "execute_result"
    }
   ],
   "source": [
    "data[\"EstimatedSalary\"].median()"
   ]
  },
  {
   "cell_type": "markdown",
   "id": "3ded57b0",
   "metadata": {},
   "source": [
    "Here we can see that mean is 82K+ and median is 70K  Big difference between mean and median which means, our mean value is got affected by outliers . Mean is greater than median which means on the right side we have outliers. In this we can go for median"
   ]
  },
  {
   "cell_type": "code",
   "execution_count": 13,
   "id": "43e9136f",
   "metadata": {},
   "outputs": [
    {
     "data": {
      "text/html": [
       "<div>\n",
       "<style scoped>\n",
       "    .dataframe tbody tr th:only-of-type {\n",
       "        vertical-align: middle;\n",
       "    }\n",
       "\n",
       "    .dataframe tbody tr th {\n",
       "        vertical-align: top;\n",
       "    }\n",
       "\n",
       "    .dataframe thead th {\n",
       "        text-align: right;\n",
       "    }\n",
       "</style>\n",
       "<table border=\"1\" class=\"dataframe\">\n",
       "  <thead>\n",
       "    <tr style=\"text-align: right;\">\n",
       "      <th></th>\n",
       "      <th>User ID</th>\n",
       "      <th>Date</th>\n",
       "      <th>Country</th>\n",
       "      <th>Gender</th>\n",
       "      <th>Age</th>\n",
       "      <th>EstimatedSalary</th>\n",
       "      <th>Purchased</th>\n",
       "    </tr>\n",
       "  </thead>\n",
       "  <tbody>\n",
       "    <tr>\n",
       "      <th>0</th>\n",
       "      <td>15624510</td>\n",
       "      <td>01-03-2012</td>\n",
       "      <td>France</td>\n",
       "      <td>Male</td>\n",
       "      <td>19</td>\n",
       "      <td>19000.0</td>\n",
       "      <td>0</td>\n",
       "    </tr>\n",
       "    <tr>\n",
       "      <th>1</th>\n",
       "      <td>15810944</td>\n",
       "      <td>01-04-2012</td>\n",
       "      <td>Italy</td>\n",
       "      <td>Male</td>\n",
       "      <td>35</td>\n",
       "      <td>20000.0</td>\n",
       "      <td>0</td>\n",
       "    </tr>\n",
       "    <tr>\n",
       "      <th>2</th>\n",
       "      <td>15668575</td>\n",
       "      <td>01-05-2012</td>\n",
       "      <td>France</td>\n",
       "      <td>Female</td>\n",
       "      <td>26</td>\n",
       "      <td>43000.0</td>\n",
       "      <td>0</td>\n",
       "    </tr>\n",
       "    <tr>\n",
       "      <th>3</th>\n",
       "      <td>15603246</td>\n",
       "      <td>01-06-2012</td>\n",
       "      <td>Germany</td>\n",
       "      <td>Female</td>\n",
       "      <td>27</td>\n",
       "      <td>57000.0</td>\n",
       "      <td>0</td>\n",
       "    </tr>\n",
       "    <tr>\n",
       "      <th>4</th>\n",
       "      <td>15804002</td>\n",
       "      <td>01-09-2012</td>\n",
       "      <td>France</td>\n",
       "      <td>Male</td>\n",
       "      <td>19</td>\n",
       "      <td>76000.0</td>\n",
       "      <td>0</td>\n",
       "    </tr>\n",
       "    <tr>\n",
       "      <th>...</th>\n",
       "      <td>...</td>\n",
       "      <td>...</td>\n",
       "      <td>...</td>\n",
       "      <td>...</td>\n",
       "      <td>...</td>\n",
       "      <td>...</td>\n",
       "      <td>...</td>\n",
       "    </tr>\n",
       "    <tr>\n",
       "      <th>398</th>\n",
       "      <td>15691863</td>\n",
       "      <td>08-05-2013</td>\n",
       "      <td>France</td>\n",
       "      <td>Female</td>\n",
       "      <td>46</td>\n",
       "      <td>41000.0</td>\n",
       "      <td>1</td>\n",
       "    </tr>\n",
       "    <tr>\n",
       "      <th>399</th>\n",
       "      <td>15706071</td>\n",
       "      <td>08-06-2013</td>\n",
       "      <td>Italy</td>\n",
       "      <td>Male</td>\n",
       "      <td>51</td>\n",
       "      <td>23000.0</td>\n",
       "      <td>1</td>\n",
       "    </tr>\n",
       "    <tr>\n",
       "      <th>400</th>\n",
       "      <td>15654296</td>\n",
       "      <td>08-07-2013</td>\n",
       "      <td>Italy</td>\n",
       "      <td>Female</td>\n",
       "      <td>50</td>\n",
       "      <td>20000.0</td>\n",
       "      <td>1</td>\n",
       "    </tr>\n",
       "    <tr>\n",
       "      <th>401</th>\n",
       "      <td>15755018</td>\n",
       "      <td>08-08-2013</td>\n",
       "      <td>Germany</td>\n",
       "      <td>Male</td>\n",
       "      <td>36</td>\n",
       "      <td>33000.0</td>\n",
       "      <td>0</td>\n",
       "    </tr>\n",
       "    <tr>\n",
       "      <th>402</th>\n",
       "      <td>15594041</td>\n",
       "      <td>08-09-2013</td>\n",
       "      <td>Germany&amp;</td>\n",
       "      <td>Female</td>\n",
       "      <td>49</td>\n",
       "      <td>36000.0</td>\n",
       "      <td>1</td>\n",
       "    </tr>\n",
       "  </tbody>\n",
       "</table>\n",
       "<p>403 rows × 7 columns</p>\n",
       "</div>"
      ],
      "text/plain": [
       "      User ID        Date   Country  Gender  Age  EstimatedSalary  Purchased\n",
       "0    15624510  01-03-2012    France    Male   19          19000.0          0\n",
       "1    15810944  01-04-2012     Italy    Male   35          20000.0          0\n",
       "2    15668575  01-05-2012    France  Female   26          43000.0          0\n",
       "3    15603246  01-06-2012   Germany  Female   27          57000.0          0\n",
       "4    15804002  01-09-2012    France    Male   19          76000.0          0\n",
       "..        ...         ...       ...     ...  ...              ...        ...\n",
       "398  15691863  08-05-2013    France  Female   46          41000.0          1\n",
       "399  15706071  08-06-2013     Italy    Male   51          23000.0          1\n",
       "400  15654296  08-07-2013     Italy  Female   50          20000.0          1\n",
       "401  15755018  08-08-2013   Germany    Male   36          33000.0          0\n",
       "402  15594041  08-09-2013  Germany&  Female   49          36000.0          1\n",
       "\n",
       "[403 rows x 7 columns]"
      ]
     },
     "execution_count": 13,
     "metadata": {},
     "output_type": "execute_result"
    }
   ],
   "source": [
    "data.fillna(data[\"EstimatedSalary\"].median())"
   ]
  },
  {
   "cell_type": "markdown",
   "id": "75eb97c7",
   "metadata": {},
   "source": [
    "## Mode"
   ]
  },
  {
   "cell_type": "markdown",
   "id": "003139c9",
   "metadata": {},
   "source": [
    "Mode is used to fill categorical data because mean and median can't be used with categorical data . It gives the most occurring value"
   ]
  },
  {
   "cell_type": "code",
   "execution_count": 14,
   "id": "be6b4a0a",
   "metadata": {},
   "outputs": [
    {
     "data": {
      "text/plain": [
       "0    72000.0\n",
       "dtype: float64"
      ]
     },
     "execution_count": 14,
     "metadata": {},
     "output_type": "execute_result"
    }
   ],
   "source": [
    "data[\"EstimatedSalary\"].mode() "
   ]
  },
  {
   "cell_type": "markdown",
   "id": "f548780e",
   "metadata": {},
   "source": [
    "It gives data in series format so in order to get the mode value we need ti slice it"
   ]
  },
  {
   "cell_type": "code",
   "execution_count": 15,
   "id": "acaf4e65",
   "metadata": {},
   "outputs": [
    {
     "data": {
      "text/plain": [
       "72000.0"
      ]
     },
     "execution_count": 15,
     "metadata": {},
     "output_type": "execute_result"
    }
   ],
   "source": [
    "data[\"EstimatedSalary\"].mode()[0]"
   ]
  },
  {
   "cell_type": "code",
   "execution_count": 16,
   "id": "dca02e16",
   "metadata": {},
   "outputs": [
    {
     "data": {
      "text/plain": [
       "0"
      ]
     },
     "execution_count": 16,
     "metadata": {},
     "output_type": "execute_result"
    }
   ],
   "source": [
    "data[\"EstimatedSalary\"].fillna(data[\"EstimatedSalary\"].mode()[0]).isnull().sum() # For updating the data frame use inplace=True"
   ]
  },
  {
   "cell_type": "markdown",
   "id": "48e745a9",
   "metadata": {},
   "source": [
    "While filling with mean and median we used data.fillna(). But while filling with median we have to use data[Column_Name].fillna()"
   ]
  },
  {
   "cell_type": "markdown",
   "id": "b9949955",
   "metadata": {},
   "source": [
    "## bfill() and ffill()"
   ]
  },
  {
   "cell_type": "markdown",
   "id": "24c43d97",
   "metadata": {},
   "source": [
    "bfill -> Backward Fill\n",
    "\n",
    "ffill -> Forward Fill\n",
    "\n",
    "Whenever the data is depends on time, ie. when the previous data(row) is depends on the current data(row). and wen there is a NaN(Missing) Value we can fill with the previous row value(ffill) or next row value(bfill)\n"
   ]
  },
  {
   "cell_type": "code",
   "execution_count": 17,
   "id": "51e8fb43",
   "metadata": {},
   "outputs": [
    {
     "data": {
      "text/html": [
       "<div>\n",
       "<style scoped>\n",
       "    .dataframe tbody tr th:only-of-type {\n",
       "        vertical-align: middle;\n",
       "    }\n",
       "\n",
       "    .dataframe tbody tr th {\n",
       "        vertical-align: top;\n",
       "    }\n",
       "\n",
       "    .dataframe thead th {\n",
       "        text-align: right;\n",
       "    }\n",
       "</style>\n",
       "<table border=\"1\" class=\"dataframe\">\n",
       "  <thead>\n",
       "    <tr style=\"text-align: right;\">\n",
       "      <th></th>\n",
       "      <th>User ID</th>\n",
       "      <th>Date</th>\n",
       "      <th>Country</th>\n",
       "      <th>Gender</th>\n",
       "      <th>Age</th>\n",
       "      <th>EstimatedSalary</th>\n",
       "      <th>Purchased</th>\n",
       "    </tr>\n",
       "  </thead>\n",
       "  <tbody>\n",
       "    <tr>\n",
       "      <th>10</th>\n",
       "      <td>15570769</td>\n",
       "      <td>1/18/2012</td>\n",
       "      <td>Italy</td>\n",
       "      <td>Female</td>\n",
       "      <td>26</td>\n",
       "      <td>NaN</td>\n",
       "      <td>0</td>\n",
       "    </tr>\n",
       "    <tr>\n",
       "      <th>167</th>\n",
       "      <td>15762228</td>\n",
       "      <td>8/30/2012</td>\n",
       "      <td>France</td>\n",
       "      <td>Female</td>\n",
       "      <td>22</td>\n",
       "      <td>NaN</td>\n",
       "      <td>0</td>\n",
       "    </tr>\n",
       "  </tbody>\n",
       "</table>\n",
       "</div>"
      ],
      "text/plain": [
       "      User ID       Date Country  Gender  Age  EstimatedSalary  Purchased\n",
       "10   15570769  1/18/2012   Italy  Female   26              NaN          0\n",
       "167  15762228  8/30/2012  France  Female   22              NaN          0"
      ]
     },
     "execution_count": 17,
     "metadata": {},
     "output_type": "execute_result"
    }
   ],
   "source": [
    "data[data.isnull().any(axis=1)] # Shows the rows where we have mising values"
   ]
  },
  {
   "cell_type": "code",
   "execution_count": 18,
   "id": "de95d613",
   "metadata": {},
   "outputs": [
    {
     "data": {
      "text/html": [
       "<div>\n",
       "<style scoped>\n",
       "    .dataframe tbody tr th:only-of-type {\n",
       "        vertical-align: middle;\n",
       "    }\n",
       "\n",
       "    .dataframe tbody tr th {\n",
       "        vertical-align: top;\n",
       "    }\n",
       "\n",
       "    .dataframe thead th {\n",
       "        text-align: right;\n",
       "    }\n",
       "</style>\n",
       "<table border=\"1\" class=\"dataframe\">\n",
       "  <thead>\n",
       "    <tr style=\"text-align: right;\">\n",
       "      <th></th>\n",
       "      <th>User ID</th>\n",
       "      <th>Date</th>\n",
       "      <th>Country</th>\n",
       "      <th>Gender</th>\n",
       "      <th>Age</th>\n",
       "      <th>EstimatedSalary</th>\n",
       "      <th>Purchased</th>\n",
       "    </tr>\n",
       "  </thead>\n",
       "  <tbody>\n",
       "    <tr>\n",
       "      <th>8</th>\n",
       "      <td>15600575</td>\n",
       "      <td>1/13/2012</td>\n",
       "      <td>Italy</td>\n",
       "      <td>Male</td>\n",
       "      <td>25</td>\n",
       "      <td>33000.0</td>\n",
       "      <td>0</td>\n",
       "    </tr>\n",
       "    <tr>\n",
       "      <th>9</th>\n",
       "      <td>15727311</td>\n",
       "      <td>1/17/2012</td>\n",
       "      <td>Germany</td>\n",
       "      <td>Female</td>\n",
       "      <td>35</td>\n",
       "      <td>65000.0</td>\n",
       "      <td>0</td>\n",
       "    </tr>\n",
       "    <tr>\n",
       "      <th>10</th>\n",
       "      <td>15570769</td>\n",
       "      <td>1/18/2012</td>\n",
       "      <td>Italy</td>\n",
       "      <td>Female</td>\n",
       "      <td>26</td>\n",
       "      <td>NaN</td>\n",
       "      <td>0</td>\n",
       "    </tr>\n",
       "    <tr>\n",
       "      <th>11</th>\n",
       "      <td>15606274</td>\n",
       "      <td>1/19/2012</td>\n",
       "      <td>France</td>\n",
       "      <td>Female</td>\n",
       "      <td>26</td>\n",
       "      <td>52000.0</td>\n",
       "      <td>0</td>\n",
       "    </tr>\n",
       "    <tr>\n",
       "      <th>12</th>\n",
       "      <td>15746139</td>\n",
       "      <td>1/20/2012</td>\n",
       "      <td>Italy</td>\n",
       "      <td>Male</td>\n",
       "      <td>20</td>\n",
       "      <td>86000.0</td>\n",
       "      <td>0</td>\n",
       "    </tr>\n",
       "    <tr>\n",
       "      <th>13</th>\n",
       "      <td>15704987</td>\n",
       "      <td>1/23/2012</td>\n",
       "      <td>France</td>\n",
       "      <td>Male</td>\n",
       "      <td>32</td>\n",
       "      <td>18000.0</td>\n",
       "      <td>0</td>\n",
       "    </tr>\n",
       "    <tr>\n",
       "      <th>14</th>\n",
       "      <td>15628972</td>\n",
       "      <td>1/24/2012</td>\n",
       "      <td>France</td>\n",
       "      <td>Male</td>\n",
       "      <td>18</td>\n",
       "      <td>82000.0</td>\n",
       "      <td>0</td>\n",
       "    </tr>\n",
       "  </tbody>\n",
       "</table>\n",
       "</div>"
      ],
      "text/plain": [
       "     User ID       Date  Country  Gender  Age  EstimatedSalary  Purchased\n",
       "8   15600575  1/13/2012    Italy    Male   25          33000.0          0\n",
       "9   15727311  1/17/2012  Germany  Female   35          65000.0          0\n",
       "10  15570769  1/18/2012    Italy  Female   26              NaN          0\n",
       "11  15606274  1/19/2012   France  Female   26          52000.0          0\n",
       "12  15746139  1/20/2012    Italy    Male   20          86000.0          0\n",
       "13  15704987  1/23/2012   France    Male   32          18000.0          0\n",
       "14  15628972  1/24/2012   France    Male   18          82000.0          0"
      ]
     },
     "execution_count": 18,
     "metadata": {},
     "output_type": "execute_result"
    }
   ],
   "source": [
    "data.iloc[8:15]"
   ]
  },
  {
   "cell_type": "code",
   "execution_count": 19,
   "id": "2cb92694",
   "metadata": {},
   "outputs": [
    {
     "data": {
      "text/html": [
       "<div>\n",
       "<style scoped>\n",
       "    .dataframe tbody tr th:only-of-type {\n",
       "        vertical-align: middle;\n",
       "    }\n",
       "\n",
       "    .dataframe tbody tr th {\n",
       "        vertical-align: top;\n",
       "    }\n",
       "\n",
       "    .dataframe thead th {\n",
       "        text-align: right;\n",
       "    }\n",
       "</style>\n",
       "<table border=\"1\" class=\"dataframe\">\n",
       "  <thead>\n",
       "    <tr style=\"text-align: right;\">\n",
       "      <th></th>\n",
       "      <th>User ID</th>\n",
       "      <th>Date</th>\n",
       "      <th>Country</th>\n",
       "      <th>Gender</th>\n",
       "      <th>Age</th>\n",
       "      <th>EstimatedSalary</th>\n",
       "      <th>Purchased</th>\n",
       "    </tr>\n",
       "  </thead>\n",
       "  <tbody>\n",
       "    <tr>\n",
       "      <th>8</th>\n",
       "      <td>15600575</td>\n",
       "      <td>1/13/2012</td>\n",
       "      <td>Italy</td>\n",
       "      <td>Male</td>\n",
       "      <td>25</td>\n",
       "      <td>33000.0</td>\n",
       "      <td>0</td>\n",
       "    </tr>\n",
       "    <tr>\n",
       "      <th>9</th>\n",
       "      <td>15727311</td>\n",
       "      <td>1/17/2012</td>\n",
       "      <td>Germany</td>\n",
       "      <td>Female</td>\n",
       "      <td>35</td>\n",
       "      <td>65000.0</td>\n",
       "      <td>0</td>\n",
       "    </tr>\n",
       "    <tr>\n",
       "      <th>10</th>\n",
       "      <td>15570769</td>\n",
       "      <td>1/18/2012</td>\n",
       "      <td>Italy</td>\n",
       "      <td>Female</td>\n",
       "      <td>26</td>\n",
       "      <td>52000.0</td>\n",
       "      <td>0</td>\n",
       "    </tr>\n",
       "    <tr>\n",
       "      <th>11</th>\n",
       "      <td>15606274</td>\n",
       "      <td>1/19/2012</td>\n",
       "      <td>France</td>\n",
       "      <td>Female</td>\n",
       "      <td>26</td>\n",
       "      <td>52000.0</td>\n",
       "      <td>0</td>\n",
       "    </tr>\n",
       "    <tr>\n",
       "      <th>12</th>\n",
       "      <td>15746139</td>\n",
       "      <td>1/20/2012</td>\n",
       "      <td>Italy</td>\n",
       "      <td>Male</td>\n",
       "      <td>20</td>\n",
       "      <td>86000.0</td>\n",
       "      <td>0</td>\n",
       "    </tr>\n",
       "    <tr>\n",
       "      <th>13</th>\n",
       "      <td>15704987</td>\n",
       "      <td>1/23/2012</td>\n",
       "      <td>France</td>\n",
       "      <td>Male</td>\n",
       "      <td>32</td>\n",
       "      <td>18000.0</td>\n",
       "      <td>0</td>\n",
       "    </tr>\n",
       "    <tr>\n",
       "      <th>14</th>\n",
       "      <td>15628972</td>\n",
       "      <td>1/24/2012</td>\n",
       "      <td>France</td>\n",
       "      <td>Male</td>\n",
       "      <td>18</td>\n",
       "      <td>82000.0</td>\n",
       "      <td>0</td>\n",
       "    </tr>\n",
       "  </tbody>\n",
       "</table>\n",
       "</div>"
      ],
      "text/plain": [
       "     User ID       Date  Country  Gender  Age  EstimatedSalary  Purchased\n",
       "8   15600575  1/13/2012    Italy    Male   25          33000.0          0\n",
       "9   15727311  1/17/2012  Germany  Female   35          65000.0          0\n",
       "10  15570769  1/18/2012    Italy  Female   26          52000.0          0\n",
       "11  15606274  1/19/2012   France  Female   26          52000.0          0\n",
       "12  15746139  1/20/2012    Italy    Male   20          86000.0          0\n",
       "13  15704987  1/23/2012   France    Male   32          18000.0          0\n",
       "14  15628972  1/24/2012   France    Male   18          82000.0          0"
      ]
     },
     "execution_count": 19,
     "metadata": {},
     "output_type": "execute_result"
    }
   ],
   "source": [
    "data.bfill().iloc[8:15] # Missing data was [10][Estimated Salary] filled with next row value"
   ]
  },
  {
   "cell_type": "code",
   "execution_count": 20,
   "id": "725abc9f",
   "metadata": {},
   "outputs": [
    {
     "data": {
      "text/html": [
       "<div>\n",
       "<style scoped>\n",
       "    .dataframe tbody tr th:only-of-type {\n",
       "        vertical-align: middle;\n",
       "    }\n",
       "\n",
       "    .dataframe tbody tr th {\n",
       "        vertical-align: top;\n",
       "    }\n",
       "\n",
       "    .dataframe thead th {\n",
       "        text-align: right;\n",
       "    }\n",
       "</style>\n",
       "<table border=\"1\" class=\"dataframe\">\n",
       "  <thead>\n",
       "    <tr style=\"text-align: right;\">\n",
       "      <th></th>\n",
       "      <th>User ID</th>\n",
       "      <th>Date</th>\n",
       "      <th>Country</th>\n",
       "      <th>Gender</th>\n",
       "      <th>Age</th>\n",
       "      <th>EstimatedSalary</th>\n",
       "      <th>Purchased</th>\n",
       "    </tr>\n",
       "  </thead>\n",
       "  <tbody>\n",
       "    <tr>\n",
       "      <th>8</th>\n",
       "      <td>15600575</td>\n",
       "      <td>1/13/2012</td>\n",
       "      <td>Italy</td>\n",
       "      <td>Male</td>\n",
       "      <td>25</td>\n",
       "      <td>33000.0</td>\n",
       "      <td>0</td>\n",
       "    </tr>\n",
       "    <tr>\n",
       "      <th>9</th>\n",
       "      <td>15727311</td>\n",
       "      <td>1/17/2012</td>\n",
       "      <td>Germany</td>\n",
       "      <td>Female</td>\n",
       "      <td>35</td>\n",
       "      <td>65000.0</td>\n",
       "      <td>0</td>\n",
       "    </tr>\n",
       "    <tr>\n",
       "      <th>10</th>\n",
       "      <td>15570769</td>\n",
       "      <td>1/18/2012</td>\n",
       "      <td>Italy</td>\n",
       "      <td>Female</td>\n",
       "      <td>26</td>\n",
       "      <td>65000.0</td>\n",
       "      <td>0</td>\n",
       "    </tr>\n",
       "    <tr>\n",
       "      <th>11</th>\n",
       "      <td>15606274</td>\n",
       "      <td>1/19/2012</td>\n",
       "      <td>France</td>\n",
       "      <td>Female</td>\n",
       "      <td>26</td>\n",
       "      <td>52000.0</td>\n",
       "      <td>0</td>\n",
       "    </tr>\n",
       "    <tr>\n",
       "      <th>12</th>\n",
       "      <td>15746139</td>\n",
       "      <td>1/20/2012</td>\n",
       "      <td>Italy</td>\n",
       "      <td>Male</td>\n",
       "      <td>20</td>\n",
       "      <td>86000.0</td>\n",
       "      <td>0</td>\n",
       "    </tr>\n",
       "    <tr>\n",
       "      <th>13</th>\n",
       "      <td>15704987</td>\n",
       "      <td>1/23/2012</td>\n",
       "      <td>France</td>\n",
       "      <td>Male</td>\n",
       "      <td>32</td>\n",
       "      <td>18000.0</td>\n",
       "      <td>0</td>\n",
       "    </tr>\n",
       "    <tr>\n",
       "      <th>14</th>\n",
       "      <td>15628972</td>\n",
       "      <td>1/24/2012</td>\n",
       "      <td>France</td>\n",
       "      <td>Male</td>\n",
       "      <td>18</td>\n",
       "      <td>82000.0</td>\n",
       "      <td>0</td>\n",
       "    </tr>\n",
       "  </tbody>\n",
       "</table>\n",
       "</div>"
      ],
      "text/plain": [
       "     User ID       Date  Country  Gender  Age  EstimatedSalary  Purchased\n",
       "8   15600575  1/13/2012    Italy    Male   25          33000.0          0\n",
       "9   15727311  1/17/2012  Germany  Female   35          65000.0          0\n",
       "10  15570769  1/18/2012    Italy  Female   26          65000.0          0\n",
       "11  15606274  1/19/2012   France  Female   26          52000.0          0\n",
       "12  15746139  1/20/2012    Italy    Male   20          86000.0          0\n",
       "13  15704987  1/23/2012   France    Male   32          18000.0          0\n",
       "14  15628972  1/24/2012   France    Male   18          82000.0          0"
      ]
     },
     "execution_count": 20,
     "metadata": {},
     "output_type": "execute_result"
    }
   ],
   "source": [
    "data.ffill().iloc[8:15] # Missing data was [10][Estimated Salary] filled with previous row value"
   ]
  },
  {
   "cell_type": "markdown",
   "id": "5236f7f8",
   "metadata": {},
   "source": [
    "## GroupBy"
   ]
  },
  {
   "cell_type": "code",
   "execution_count": 21,
   "id": "04fdb565",
   "metadata": {},
   "outputs": [
    {
     "data": {
      "text/html": [
       "<div>\n",
       "<style scoped>\n",
       "    .dataframe tbody tr th:only-of-type {\n",
       "        vertical-align: middle;\n",
       "    }\n",
       "\n",
       "    .dataframe tbody tr th {\n",
       "        vertical-align: top;\n",
       "    }\n",
       "\n",
       "    .dataframe thead th {\n",
       "        text-align: right;\n",
       "    }\n",
       "</style>\n",
       "<table border=\"1\" class=\"dataframe\">\n",
       "  <thead>\n",
       "    <tr style=\"text-align: right;\">\n",
       "      <th></th>\n",
       "      <th>User ID</th>\n",
       "      <th>Date</th>\n",
       "      <th>Country</th>\n",
       "      <th>Gender</th>\n",
       "      <th>Age</th>\n",
       "      <th>EstimatedSalary</th>\n",
       "      <th>Purchased</th>\n",
       "    </tr>\n",
       "  </thead>\n",
       "  <tbody>\n",
       "    <tr>\n",
       "      <th>10</th>\n",
       "      <td>15570769</td>\n",
       "      <td>1/18/2012</td>\n",
       "      <td>Italy</td>\n",
       "      <td>Female</td>\n",
       "      <td>26</td>\n",
       "      <td>NaN</td>\n",
       "      <td>0</td>\n",
       "    </tr>\n",
       "    <tr>\n",
       "      <th>167</th>\n",
       "      <td>15762228</td>\n",
       "      <td>8/30/2012</td>\n",
       "      <td>France</td>\n",
       "      <td>Female</td>\n",
       "      <td>22</td>\n",
       "      <td>NaN</td>\n",
       "      <td>0</td>\n",
       "    </tr>\n",
       "  </tbody>\n",
       "</table>\n",
       "</div>"
      ],
      "text/plain": [
       "      User ID       Date Country  Gender  Age  EstimatedSalary  Purchased\n",
       "10   15570769  1/18/2012   Italy  Female   26              NaN          0\n",
       "167  15762228  8/30/2012  France  Female   22              NaN          0"
      ]
     },
     "execution_count": 21,
     "metadata": {},
     "output_type": "execute_result"
    }
   ],
   "source": [
    "data[data.isnull().any(axis=1)] # Missing values"
   ]
  },
  {
   "cell_type": "markdown",
   "id": "bd74cb35",
   "metadata": {},
   "source": [
    "While using the statistic(Mean , Median or Mode) to fill missing value , We are filling all the missing values with the same value"
   ]
  },
  {
   "cell_type": "markdown",
   "id": "f0975d54",
   "metadata": {},
   "source": [
    "The first customer whose salary is missing is from Italy and the second customer whose salary is missing is from France. Instead of randomly filling these values with mean or median . We can fill the missing value of Italy Customers with the mean of Italy Customers and same with France Customers"
   ]
  },
  {
   "cell_type": "code",
   "execution_count": 23,
   "id": "4376592c",
   "metadata": {},
   "outputs": [],
   "source": [
    "gp_c = data.groupby(\"Country\")"
   ]
  },
  {
   "cell_type": "code",
   "execution_count": 24,
   "id": "65efdb1c",
   "metadata": {},
   "outputs": [
    {
     "data": {
      "text/plain": [
       "<pandas.core.groupby.generic.DataFrameGroupBy object at 0x000001FA5988A340>"
      ]
     },
     "execution_count": 24,
     "metadata": {},
     "output_type": "execute_result"
    }
   ],
   "source": [
    "gp_c"
   ]
  },
  {
   "cell_type": "code",
   "execution_count": 25,
   "id": "993a7e95",
   "metadata": {},
   "outputs": [
    {
     "data": {
      "text/plain": [
       "{'France': [0, 2, 4, 6, 11, 13, 14, 16, 23, 24, 26, 32, 33, 37, 38, 42, 43, 56, 59, 60, 63, 66, 68, 71, 72, 79, 80, 81, 83, 89, 98, 100, 104, 105, 107, 108, 109, 121, 123, 125, 128, 129, 130, 132, 133, 134, 136, 137, 140, 143, 144, 147, 149, 152, 153, 161, 164, 167, 169, 170, 174, 176, 177, 178, 183, 186, 187, 190, 198, 202, 208, 209, 211, 214, 216, 217, 224, 226, 239, 240, 241, 253, 255, 256, 259, 271, 272, 280, 282, 285, 291, 301, 302, 304, 305, 306, 308, 309, 311, 316, ...], 'Germany': [3, 9, 15, 17, 18, 20, 21, 28, 31, 34, 39, 45, 46, 47, 54, 57, 62, 64, 70, 73, 75, 78, 82, 84, 85, 87, 90, 93, 95, 101, 106, 110, 114, 115, 116, 117, 118, 120, 127, 138, 142, 146, 148, 154, 155, 158, 159, 160, 162, 165, 172, 180, 181, 182, 184, 191, 192, 196, 199, 200, 201, 203, 204, 205, 218, 220, 221, 222, 223, 225, 231, 232, 236, 238, 246, 247, 251, 254, 257, 261, 262, 265, 267, 268, 273, 274, 275, 276, 277, 278, 279, 286, 288, 289, 292, 293, 294, 295, 299, 307, ...], 'Germany&': [402], 'Italy': [1, 5, 7, 8, 10, 12, 19, 22, 25, 27, 29, 30, 35, 36, 40, 41, 44, 48, 49, 50, 51, 52, 53, 55, 58, 61, 65, 67, 69, 74, 76, 77, 86, 88, 91, 92, 94, 96, 97, 99, 102, 103, 111, 112, 113, 119, 122, 124, 126, 131, 135, 139, 141, 145, 150, 151, 156, 157, 163, 166, 168, 171, 173, 175, 179, 185, 188, 189, 193, 194, 195, 197, 206, 207, 210, 212, 213, 215, 219, 227, 228, 229, 230, 233, 234, 235, 237, 242, 243, 244, 245, 248, 249, 250, 252, 258, 260, 263, 264, 266, ...], ']Germany&': [389], ']Italy&': [360, 361]}"
      ]
     },
     "execution_count": 25,
     "metadata": {},
     "output_type": "execute_result"
    }
   ],
   "source": [
    "gp_c.groups # To see the groups"
   ]
  },
  {
   "cell_type": "code",
   "execution_count": 26,
   "id": "dc508591",
   "metadata": {},
   "outputs": [
    {
     "data": {
      "text/html": [
       "<div>\n",
       "<style scoped>\n",
       "    .dataframe tbody tr th:only-of-type {\n",
       "        vertical-align: middle;\n",
       "    }\n",
       "\n",
       "    .dataframe tbody tr th {\n",
       "        vertical-align: top;\n",
       "    }\n",
       "\n",
       "    .dataframe thead th {\n",
       "        text-align: right;\n",
       "    }\n",
       "</style>\n",
       "<table border=\"1\" class=\"dataframe\">\n",
       "  <thead>\n",
       "    <tr style=\"text-align: right;\">\n",
       "      <th></th>\n",
       "      <th>User ID</th>\n",
       "      <th>Age</th>\n",
       "      <th>EstimatedSalary</th>\n",
       "      <th>Purchased</th>\n",
       "    </tr>\n",
       "    <tr>\n",
       "      <th>Country</th>\n",
       "      <th></th>\n",
       "      <th></th>\n",
       "      <th></th>\n",
       "      <th></th>\n",
       "    </tr>\n",
       "  </thead>\n",
       "  <tbody>\n",
       "    <tr>\n",
       "      <th>France</th>\n",
       "      <td>1.569176e+07</td>\n",
       "      <td>36.460317</td>\n",
       "      <td>107072.000000</td>\n",
       "      <td>0.309524</td>\n",
       "    </tr>\n",
       "    <tr>\n",
       "      <th>Germany</th>\n",
       "      <td>1.569432e+07</td>\n",
       "      <td>38.825758</td>\n",
       "      <td>71484.848485</td>\n",
       "      <td>0.431818</td>\n",
       "    </tr>\n",
       "    <tr>\n",
       "      <th>Germany&amp;</th>\n",
       "      <td>1.559404e+07</td>\n",
       "      <td>49.000000</td>\n",
       "      <td>36000.000000</td>\n",
       "      <td>1.000000</td>\n",
       "    </tr>\n",
       "    <tr>\n",
       "      <th>Italy</th>\n",
       "      <td>1.568981e+07</td>\n",
       "      <td>37.531915</td>\n",
       "      <td>71364.285714</td>\n",
       "      <td>0.326241</td>\n",
       "    </tr>\n",
       "    <tr>\n",
       "      <th>]Germany&amp;</th>\n",
       "      <td>1.572415e+07</td>\n",
       "      <td>49.000000</td>\n",
       "      <td>39000.000000</td>\n",
       "      <td>1.000000</td>\n",
       "    </tr>\n",
       "    <tr>\n",
       "      <th>]Italy&amp;</th>\n",
       "      <td>1.562266e+07</td>\n",
       "      <td>40.500000</td>\n",
       "      <td>71500.000000</td>\n",
       "      <td>0.500000</td>\n",
       "    </tr>\n",
       "  </tbody>\n",
       "</table>\n",
       "</div>"
      ],
      "text/plain": [
       "                User ID        Age  EstimatedSalary  Purchased\n",
       "Country                                                       \n",
       "France     1.569176e+07  36.460317    107072.000000   0.309524\n",
       "Germany    1.569432e+07  38.825758     71484.848485   0.431818\n",
       "Germany&   1.559404e+07  49.000000     36000.000000   1.000000\n",
       "Italy      1.568981e+07  37.531915     71364.285714   0.326241\n",
       "]Germany&  1.572415e+07  49.000000     39000.000000   1.000000\n",
       "]Italy&    1.562266e+07  40.500000     71500.000000   0.500000"
      ]
     },
     "execution_count": 26,
     "metadata": {},
     "output_type": "execute_result"
    }
   ],
   "source": [
    "gp_c.mean()"
   ]
  },
  {
   "cell_type": "code",
   "execution_count": 30,
   "id": "1810ed4f",
   "metadata": {},
   "outputs": [
    {
     "data": {
      "text/plain": [
       "Country\n",
       "France       107072.000000\n",
       "Germany       71484.848485\n",
       "Germany&      36000.000000\n",
       "Italy         71364.285714\n",
       "]Germany&     39000.000000\n",
       "]Italy&       71500.000000\n",
       "Name: EstimatedSalary, dtype: float64"
      ]
     },
     "execution_count": 30,
     "metadata": {},
     "output_type": "execute_result"
    }
   ],
   "source": [
    "gp_c.mean()['EstimatedSalary']"
   ]
  },
  {
   "cell_type": "code",
   "execution_count": 31,
   "id": "0af3ef54",
   "metadata": {},
   "outputs": [
    {
     "data": {
      "text/plain": [
       "71364.28571428571"
      ]
     },
     "execution_count": 31,
     "metadata": {},
     "output_type": "execute_result"
    }
   ],
   "source": [
    "gp_c.mean()['EstimatedSalary']['Italy'] #Mean Salary Of Italy Customers"
   ]
  },
  {
   "cell_type": "code",
   "execution_count": 32,
   "id": "d0eeb99d",
   "metadata": {},
   "outputs": [
    {
     "data": {
      "text/plain": [
       "107072.0"
      ]
     },
     "execution_count": 32,
     "metadata": {},
     "output_type": "execute_result"
    }
   ],
   "source": [
    "gp_c.mean()['EstimatedSalary']['France']  #Mean Salary Of Italy Customers"
   ]
  },
  {
   "cell_type": "code",
   "execution_count": 33,
   "id": "e9c965fd",
   "metadata": {},
   "outputs": [],
   "source": [
    "missing_values = data[data.isnull().any(axis=1)]  # Missing values"
   ]
  },
  {
   "cell_type": "code",
   "execution_count": 50,
   "id": "7142d0ea",
   "metadata": {},
   "outputs": [],
   "source": [
    "for idx,row in missing_values.iterrows():\n",
    "    c_customer = row[\"Country\"]\n",
    "    mean_sal = gp_c.mean()['EstimatedSalary'][c_customer] \n",
    "    data.loc[idx,\"EstimatedSalary\"] = mean_sal\n"
   ]
  },
  {
   "cell_type": "code",
   "execution_count": 56,
   "id": "1dcf4d9a",
   "metadata": {},
   "outputs": [
    {
     "data": {
      "text/html": [
       "<div>\n",
       "<style scoped>\n",
       "    .dataframe tbody tr th:only-of-type {\n",
       "        vertical-align: middle;\n",
       "    }\n",
       "\n",
       "    .dataframe tbody tr th {\n",
       "        vertical-align: top;\n",
       "    }\n",
       "\n",
       "    .dataframe thead th {\n",
       "        text-align: right;\n",
       "    }\n",
       "</style>\n",
       "<table border=\"1\" class=\"dataframe\">\n",
       "  <thead>\n",
       "    <tr style=\"text-align: right;\">\n",
       "      <th></th>\n",
       "      <th>User ID</th>\n",
       "      <th>Date</th>\n",
       "      <th>Country</th>\n",
       "      <th>Gender</th>\n",
       "      <th>Age</th>\n",
       "      <th>EstimatedSalary</th>\n",
       "      <th>Purchased</th>\n",
       "    </tr>\n",
       "  </thead>\n",
       "  <tbody>\n",
       "  </tbody>\n",
       "</table>\n",
       "</div>"
      ],
      "text/plain": [
       "Empty DataFrame\n",
       "Columns: [User ID, Date, Country, Gender, Age, EstimatedSalary, Purchased]\n",
       "Index: []"
      ]
     },
     "execution_count": 56,
     "metadata": {},
     "output_type": "execute_result"
    }
   ],
   "source": [
    "data[data.isnull().any(axis=1)]"
   ]
  },
  {
   "cell_type": "code",
   "execution_count": 65,
   "id": "53ba41ef",
   "metadata": {},
   "outputs": [
    {
     "data": {
      "text/html": [
       "<div>\n",
       "<style scoped>\n",
       "    .dataframe tbody tr th:only-of-type {\n",
       "        vertical-align: middle;\n",
       "    }\n",
       "\n",
       "    .dataframe tbody tr th {\n",
       "        vertical-align: top;\n",
       "    }\n",
       "\n",
       "    .dataframe thead th {\n",
       "        text-align: right;\n",
       "    }\n",
       "</style>\n",
       "<table border=\"1\" class=\"dataframe\">\n",
       "  <thead>\n",
       "    <tr style=\"text-align: right;\">\n",
       "      <th></th>\n",
       "      <th></th>\n",
       "      <th>User ID</th>\n",
       "      <th>Age</th>\n",
       "      <th>EstimatedSalary</th>\n",
       "      <th>Purchased</th>\n",
       "    </tr>\n",
       "    <tr>\n",
       "      <th>Gender</th>\n",
       "      <th>Country</th>\n",
       "      <th></th>\n",
       "      <th></th>\n",
       "      <th></th>\n",
       "      <th></th>\n",
       "    </tr>\n",
       "  </thead>\n",
       "  <tbody>\n",
       "    <tr>\n",
       "      <th rowspan=\"6\" valign=\"top\">Female</th>\n",
       "      <th>France</th>\n",
       "      <td>1.568355e+07</td>\n",
       "      <td>36.842105</td>\n",
       "      <td>70720.561404</td>\n",
       "      <td>0.280702</td>\n",
       "    </tr>\n",
       "    <tr>\n",
       "      <th>Germany</th>\n",
       "      <td>1.570076e+07</td>\n",
       "      <td>39.638889</td>\n",
       "      <td>73208.333333</td>\n",
       "      <td>0.486111</td>\n",
       "    </tr>\n",
       "    <tr>\n",
       "      <th>Germany&amp;</th>\n",
       "      <td>1.559404e+07</td>\n",
       "      <td>49.000000</td>\n",
       "      <td>36000.000000</td>\n",
       "      <td>1.000000</td>\n",
       "    </tr>\n",
       "    <tr>\n",
       "      <th>Italy</th>\n",
       "      <td>1.569373e+07</td>\n",
       "      <td>38.315068</td>\n",
       "      <td>74881.702544</td>\n",
       "      <td>0.342466</td>\n",
       "    </tr>\n",
       "    <tr>\n",
       "      <th>]Germany&amp;</th>\n",
       "      <td>1.572415e+07</td>\n",
       "      <td>49.000000</td>\n",
       "      <td>39000.000000</td>\n",
       "      <td>1.000000</td>\n",
       "    </tr>\n",
       "    <tr>\n",
       "      <th>]Italy&amp;</th>\n",
       "      <td>1.567139e+07</td>\n",
       "      <td>41.000000</td>\n",
       "      <td>72000.000000</td>\n",
       "      <td>0.000000</td>\n",
       "    </tr>\n",
       "    <tr>\n",
       "      <th rowspan=\"4\" valign=\"top\">Male</th>\n",
       "      <th>France</th>\n",
       "      <td>1.569853e+07</td>\n",
       "      <td>36.144928</td>\n",
       "      <td>137101.449275</td>\n",
       "      <td>0.333333</td>\n",
       "    </tr>\n",
       "    <tr>\n",
       "      <th>Germany</th>\n",
       "      <td>1.568660e+07</td>\n",
       "      <td>37.850000</td>\n",
       "      <td>69416.666667</td>\n",
       "      <td>0.366667</td>\n",
       "    </tr>\n",
       "    <tr>\n",
       "      <th>Italy</th>\n",
       "      <td>1.568560e+07</td>\n",
       "      <td>36.691176</td>\n",
       "      <td>67588.235294</td>\n",
       "      <td>0.308824</td>\n",
       "    </tr>\n",
       "    <tr>\n",
       "      <th>]Italy&amp;</th>\n",
       "      <td>1.557393e+07</td>\n",
       "      <td>40.000000</td>\n",
       "      <td>71000.000000</td>\n",
       "      <td>1.000000</td>\n",
       "    </tr>\n",
       "  </tbody>\n",
       "</table>\n",
       "</div>"
      ],
      "text/plain": [
       "                       User ID        Age  EstimatedSalary  Purchased\n",
       "Gender Country                                                       \n",
       "Female France     1.568355e+07  36.842105     70720.561404   0.280702\n",
       "       Germany    1.570076e+07  39.638889     73208.333333   0.486111\n",
       "       Germany&   1.559404e+07  49.000000     36000.000000   1.000000\n",
       "       Italy      1.569373e+07  38.315068     74881.702544   0.342466\n",
       "       ]Germany&  1.572415e+07  49.000000     39000.000000   1.000000\n",
       "       ]Italy&    1.567139e+07  41.000000     72000.000000   0.000000\n",
       "Male   France     1.569853e+07  36.144928    137101.449275   0.333333\n",
       "       Germany    1.568660e+07  37.850000     69416.666667   0.366667\n",
       "       Italy      1.568560e+07  36.691176     67588.235294   0.308824\n",
       "       ]Italy&    1.557393e+07  40.000000     71000.000000   1.000000"
      ]
     },
     "execution_count": 65,
     "metadata": {},
     "output_type": "execute_result"
    }
   ],
   "source": [
    "data.groupby(by=[\"Gender\",\"Country\"]).mean() # Grouping with multiple columns"
   ]
  },
  {
   "cell_type": "code",
   "execution_count": 69,
   "id": "801ccb3f",
   "metadata": {},
   "outputs": [
    {
     "data": {
      "text/html": [
       "<div>\n",
       "<style scoped>\n",
       "    .dataframe tbody tr th:only-of-type {\n",
       "        vertical-align: middle;\n",
       "    }\n",
       "\n",
       "    .dataframe tbody tr th {\n",
       "        vertical-align: top;\n",
       "    }\n",
       "\n",
       "    .dataframe thead th {\n",
       "        text-align: right;\n",
       "    }\n",
       "</style>\n",
       "<table border=\"1\" class=\"dataframe\">\n",
       "  <thead>\n",
       "    <tr style=\"text-align: right;\">\n",
       "      <th></th>\n",
       "      <th>User ID</th>\n",
       "      <th>Age</th>\n",
       "      <th>EstimatedSalary</th>\n",
       "      <th>Purchased</th>\n",
       "    </tr>\n",
       "    <tr>\n",
       "      <th>Country</th>\n",
       "      <th></th>\n",
       "      <th></th>\n",
       "      <th></th>\n",
       "      <th></th>\n",
       "    </tr>\n",
       "  </thead>\n",
       "  <tbody>\n",
       "    <tr>\n",
       "      <th>France</th>\n",
       "      <td>1.568355e+07</td>\n",
       "      <td>36.842105</td>\n",
       "      <td>70720.561404</td>\n",
       "      <td>0.280702</td>\n",
       "    </tr>\n",
       "    <tr>\n",
       "      <th>Germany</th>\n",
       "      <td>1.570076e+07</td>\n",
       "      <td>39.638889</td>\n",
       "      <td>73208.333333</td>\n",
       "      <td>0.486111</td>\n",
       "    </tr>\n",
       "    <tr>\n",
       "      <th>Germany&amp;</th>\n",
       "      <td>1.559404e+07</td>\n",
       "      <td>49.000000</td>\n",
       "      <td>36000.000000</td>\n",
       "      <td>1.000000</td>\n",
       "    </tr>\n",
       "    <tr>\n",
       "      <th>Italy</th>\n",
       "      <td>1.569373e+07</td>\n",
       "      <td>38.315068</td>\n",
       "      <td>74881.702544</td>\n",
       "      <td>0.342466</td>\n",
       "    </tr>\n",
       "    <tr>\n",
       "      <th>]Germany&amp;</th>\n",
       "      <td>1.572415e+07</td>\n",
       "      <td>49.000000</td>\n",
       "      <td>39000.000000</td>\n",
       "      <td>1.000000</td>\n",
       "    </tr>\n",
       "    <tr>\n",
       "      <th>]Italy&amp;</th>\n",
       "      <td>1.567139e+07</td>\n",
       "      <td>41.000000</td>\n",
       "      <td>72000.000000</td>\n",
       "      <td>0.000000</td>\n",
       "    </tr>\n",
       "  </tbody>\n",
       "</table>\n",
       "</div>"
      ],
      "text/plain": [
       "                User ID        Age  EstimatedSalary  Purchased\n",
       "Country                                                       \n",
       "France     1.568355e+07  36.842105     70720.561404   0.280702\n",
       "Germany    1.570076e+07  39.638889     73208.333333   0.486111\n",
       "Germany&   1.559404e+07  49.000000     36000.000000   1.000000\n",
       "Italy      1.569373e+07  38.315068     74881.702544   0.342466\n",
       "]Germany&  1.572415e+07  49.000000     39000.000000   1.000000\n",
       "]Italy&    1.567139e+07  41.000000     72000.000000   0.000000"
      ]
     },
     "execution_count": 69,
     "metadata": {},
     "output_type": "execute_result"
    }
   ],
   "source": [
    "data.groupby(by=[\"Gender\",\"Country\"]).mean().loc[\"Female\"] # Mean salary of males in every country"
   ]
  },
  {
   "cell_type": "code",
   "execution_count": 70,
   "id": "0d804299",
   "metadata": {},
   "outputs": [
    {
     "data": {
      "text/html": [
       "<div>\n",
       "<style scoped>\n",
       "    .dataframe tbody tr th:only-of-type {\n",
       "        vertical-align: middle;\n",
       "    }\n",
       "\n",
       "    .dataframe tbody tr th {\n",
       "        vertical-align: top;\n",
       "    }\n",
       "\n",
       "    .dataframe thead th {\n",
       "        text-align: right;\n",
       "    }\n",
       "</style>\n",
       "<table border=\"1\" class=\"dataframe\">\n",
       "  <thead>\n",
       "    <tr style=\"text-align: right;\">\n",
       "      <th></th>\n",
       "      <th>User ID</th>\n",
       "      <th>Age</th>\n",
       "      <th>EstimatedSalary</th>\n",
       "      <th>Purchased</th>\n",
       "    </tr>\n",
       "    <tr>\n",
       "      <th>Country</th>\n",
       "      <th></th>\n",
       "      <th></th>\n",
       "      <th></th>\n",
       "      <th></th>\n",
       "    </tr>\n",
       "  </thead>\n",
       "  <tbody>\n",
       "    <tr>\n",
       "      <th>France</th>\n",
       "      <td>1.569853e+07</td>\n",
       "      <td>36.144928</td>\n",
       "      <td>137101.449275</td>\n",
       "      <td>0.333333</td>\n",
       "    </tr>\n",
       "    <tr>\n",
       "      <th>Germany</th>\n",
       "      <td>1.568660e+07</td>\n",
       "      <td>37.850000</td>\n",
       "      <td>69416.666667</td>\n",
       "      <td>0.366667</td>\n",
       "    </tr>\n",
       "    <tr>\n",
       "      <th>Italy</th>\n",
       "      <td>1.568560e+07</td>\n",
       "      <td>36.691176</td>\n",
       "      <td>67588.235294</td>\n",
       "      <td>0.308824</td>\n",
       "    </tr>\n",
       "    <tr>\n",
       "      <th>]Italy&amp;</th>\n",
       "      <td>1.557393e+07</td>\n",
       "      <td>40.000000</td>\n",
       "      <td>71000.000000</td>\n",
       "      <td>1.000000</td>\n",
       "    </tr>\n",
       "  </tbody>\n",
       "</table>\n",
       "</div>"
      ],
      "text/plain": [
       "              User ID        Age  EstimatedSalary  Purchased\n",
       "Country                                                     \n",
       "France   1.569853e+07  36.144928    137101.449275   0.333333\n",
       "Germany  1.568660e+07  37.850000     69416.666667   0.366667\n",
       "Italy    1.568560e+07  36.691176     67588.235294   0.308824\n",
       "]Italy&  1.557393e+07  40.000000     71000.000000   1.000000"
      ]
     },
     "execution_count": 70,
     "metadata": {},
     "output_type": "execute_result"
    }
   ],
   "source": [
    "data.groupby(by=[\"Gender\",\"Country\"]).mean().loc[\"Male\"] "
   ]
  },
  {
   "cell_type": "code",
   "execution_count": 72,
   "id": "c3a4c72d",
   "metadata": {},
   "outputs": [
    {
     "data": {
      "text/plain": [
       "User ID            1.569853e+07\n",
       "Age                3.614493e+01\n",
       "EstimatedSalary    1.371014e+05\n",
       "Purchased          3.333333e-01\n",
       "Name: France, dtype: float64"
      ]
     },
     "execution_count": 72,
     "metadata": {},
     "output_type": "execute_result"
    }
   ],
   "source": [
    "data.groupby(by=[\"Gender\",\"Country\"]).mean().loc[\"Male\"].loc[\"France\"]"
   ]
  },
  {
   "cell_type": "code",
   "execution_count": 73,
   "id": "52be7818",
   "metadata": {},
   "outputs": [
    {
     "data": {
      "text/plain": [
       "137101.4492753623"
      ]
     },
     "execution_count": 73,
     "metadata": {},
     "output_type": "execute_result"
    }
   ],
   "source": [
    "data.groupby(by=[\"Gender\",\"Country\"]).mean().loc[\"Male\"].loc[\"France\",\"EstimatedSalary\"]"
   ]
  },
  {
   "cell_type": "markdown",
   "id": "367201ac",
   "metadata": {},
   "source": [
    "## Fill with random value"
   ]
  },
  {
   "cell_type": "code",
   "execution_count": 74,
   "id": "d8a4ebbb",
   "metadata": {},
   "outputs": [],
   "source": [
    "import random"
   ]
  },
  {
   "cell_type": "code",
   "execution_count": 77,
   "id": "88fdbdac",
   "metadata": {},
   "outputs": [
    {
     "data": {
      "text/plain": [
       "18000.0"
      ]
     },
     "execution_count": 77,
     "metadata": {},
     "output_type": "execute_result"
    }
   ],
   "source": [
    "random.choice(data[\"EstimatedSalary\"]) # Randomly Choosing One Value From the estimated salary"
   ]
  },
  {
   "cell_type": "code",
   "execution_count": 81,
   "id": "bb0d657f",
   "metadata": {},
   "outputs": [
    {
     "data": {
      "text/plain": [
       "[58000.0, 72000.0, 134000.0, 63000.0]"
      ]
     },
     "execution_count": 81,
     "metadata": {},
     "output_type": "execute_result"
    }
   ],
   "source": [
    "random.choices(data[\"EstimatedSalary\"],k=4) # Choose K values"
   ]
  },
  {
   "cell_type": "code",
   "execution_count": 83,
   "id": "511aceba",
   "metadata": {},
   "outputs": [
    {
     "data": {
      "text/plain": [
       "0      19000.0\n",
       "1      20000.0\n",
       "2      43000.0\n",
       "3      57000.0\n",
       "4      76000.0\n",
       "        ...   \n",
       "398    41000.0\n",
       "399    23000.0\n",
       "400    20000.0\n",
       "401    33000.0\n",
       "402    36000.0\n",
       "Name: EstimatedSalary, Length: 403, dtype: float64"
      ]
     },
     "execution_count": 83,
     "metadata": {},
     "output_type": "execute_result"
    }
   ],
   "source": [
    "data[\"EstimatedSalary\"].fillna(random.choice(data[\"EstimatedSalary\"]))"
   ]
  },
  {
   "cell_type": "code",
   "execution_count": 86,
   "id": "86ef443a",
   "metadata": {},
   "outputs": [
    {
     "data": {
      "text/plain": [
       "294    89000.0\n",
       "Name: EstimatedSalary, dtype: float64"
      ]
     },
     "execution_count": 86,
     "metadata": {},
     "output_type": "execute_result"
    }
   ],
   "source": [
    "data[\"EstimatedSalary\"].sample() # Returns a random sample  from the data\n"
   ]
  },
  {
   "cell_type": "code",
   "execution_count": 88,
   "id": "237d7027",
   "metadata": {},
   "outputs": [
    {
     "data": {
      "text/plain": [
       "36      28000.0\n",
       "296     77000.0\n",
       "290    138000.0\n",
       "49      89000.0\n",
       "72      23000.0\n",
       "13      18000.0\n",
       "153     50000.0\n",
       "314     96000.0\n",
       "302    117000.0\n",
       "223     91000.0\n",
       "Name: EstimatedSalary, dtype: float64"
      ]
     },
     "execution_count": 88,
     "metadata": {},
     "output_type": "execute_result"
    }
   ],
   "source": [
    "data[\"EstimatedSalary\"].sample(n=10) # Returns n random samples from the data "
   ]
  },
  {
   "cell_type": "markdown",
   "id": "26e23e4e",
   "metadata": {},
   "source": [
    "## Drop Missing Value"
   ]
  },
  {
   "cell_type": "markdown",
   "id": "f8805197",
   "metadata": {},
   "source": [
    "Drop missing value only if we have more amount of information and less amount of missing values(Droping the entire row)"
   ]
  },
  {
   "cell_type": "code",
   "execution_count": 92,
   "id": "b2c10671",
   "metadata": {},
   "outputs": [
    {
     "data": {
      "text/html": [
       "<div>\n",
       "<style scoped>\n",
       "    .dataframe tbody tr th:only-of-type {\n",
       "        vertical-align: middle;\n",
       "    }\n",
       "\n",
       "    .dataframe tbody tr th {\n",
       "        vertical-align: top;\n",
       "    }\n",
       "\n",
       "    .dataframe thead th {\n",
       "        text-align: right;\n",
       "    }\n",
       "</style>\n",
       "<table border=\"1\" class=\"dataframe\">\n",
       "  <thead>\n",
       "    <tr style=\"text-align: right;\">\n",
       "      <th></th>\n",
       "      <th>User ID</th>\n",
       "      <th>Date</th>\n",
       "      <th>Country</th>\n",
       "      <th>Gender</th>\n",
       "      <th>Age</th>\n",
       "      <th>EstimatedSalary</th>\n",
       "      <th>Purchased</th>\n",
       "    </tr>\n",
       "  </thead>\n",
       "  <tbody>\n",
       "    <tr>\n",
       "      <th>10</th>\n",
       "      <td>15570769</td>\n",
       "      <td>1/18/2012</td>\n",
       "      <td>Italy</td>\n",
       "      <td>Female</td>\n",
       "      <td>26</td>\n",
       "      <td>NaN</td>\n",
       "      <td>0</td>\n",
       "    </tr>\n",
       "    <tr>\n",
       "      <th>167</th>\n",
       "      <td>15762228</td>\n",
       "      <td>8/30/2012</td>\n",
       "      <td>France</td>\n",
       "      <td>Female</td>\n",
       "      <td>22</td>\n",
       "      <td>NaN</td>\n",
       "      <td>0</td>\n",
       "    </tr>\n",
       "  </tbody>\n",
       "</table>\n",
       "</div>"
      ],
      "text/plain": [
       "      User ID       Date Country  Gender  Age  EstimatedSalary  Purchased\n",
       "10   15570769  1/18/2012   Italy  Female   26              NaN          0\n",
       "167  15762228  8/30/2012  France  Female   22              NaN          0"
      ]
     },
     "execution_count": 92,
     "metadata": {},
     "output_type": "execute_result"
    }
   ],
   "source": [
    "data = pd.read_csv(r\"Social_Network_Ads_1.csv\")\n",
    "data[data.isnull().any(axis=1)]"
   ]
  },
  {
   "cell_type": "code",
   "execution_count": 95,
   "id": "f944d7d2",
   "metadata": {},
   "outputs": [],
   "source": [
    "data.dropna(inplace=True) # Dropped Rows with missign values"
   ]
  },
  {
   "cell_type": "code",
   "execution_count": 96,
   "id": "923d5fac",
   "metadata": {},
   "outputs": [
    {
     "data": {
      "text/html": [
       "<div>\n",
       "<style scoped>\n",
       "    .dataframe tbody tr th:only-of-type {\n",
       "        vertical-align: middle;\n",
       "    }\n",
       "\n",
       "    .dataframe tbody tr th {\n",
       "        vertical-align: top;\n",
       "    }\n",
       "\n",
       "    .dataframe thead th {\n",
       "        text-align: right;\n",
       "    }\n",
       "</style>\n",
       "<table border=\"1\" class=\"dataframe\">\n",
       "  <thead>\n",
       "    <tr style=\"text-align: right;\">\n",
       "      <th></th>\n",
       "      <th>User ID</th>\n",
       "      <th>Date</th>\n",
       "      <th>Country</th>\n",
       "      <th>Gender</th>\n",
       "      <th>Age</th>\n",
       "      <th>EstimatedSalary</th>\n",
       "      <th>Purchased</th>\n",
       "    </tr>\n",
       "  </thead>\n",
       "  <tbody>\n",
       "  </tbody>\n",
       "</table>\n",
       "</div>"
      ],
      "text/plain": [
       "Empty DataFrame\n",
       "Columns: [User ID, Date, Country, Gender, Age, EstimatedSalary, Purchased]\n",
       "Index: []"
      ]
     },
     "execution_count": 96,
     "metadata": {},
     "output_type": "execute_result"
    }
   ],
   "source": [
    "data[data.isnull().any(axis=1)]"
   ]
  },
  {
   "cell_type": "code",
   "execution_count": 97,
   "id": "b8931448",
   "metadata": {},
   "outputs": [
    {
     "data": {
      "text/html": [
       "<div>\n",
       "<style scoped>\n",
       "    .dataframe tbody tr th:only-of-type {\n",
       "        vertical-align: middle;\n",
       "    }\n",
       "\n",
       "    .dataframe tbody tr th {\n",
       "        vertical-align: top;\n",
       "    }\n",
       "\n",
       "    .dataframe thead th {\n",
       "        text-align: right;\n",
       "    }\n",
       "</style>\n",
       "<table border=\"1\" class=\"dataframe\">\n",
       "  <thead>\n",
       "    <tr style=\"text-align: right;\">\n",
       "      <th></th>\n",
       "      <th>User ID</th>\n",
       "      <th>Date</th>\n",
       "      <th>Country</th>\n",
       "      <th>Gender</th>\n",
       "      <th>Age</th>\n",
       "      <th>EstimatedSalary</th>\n",
       "      <th>Purchased</th>\n",
       "    </tr>\n",
       "  </thead>\n",
       "  <tbody>\n",
       "    <tr>\n",
       "      <th>0</th>\n",
       "      <td>15624510</td>\n",
       "      <td>01-03-2012</td>\n",
       "      <td>France</td>\n",
       "      <td>Male</td>\n",
       "      <td>19</td>\n",
       "      <td>19000.0</td>\n",
       "      <td>0</td>\n",
       "    </tr>\n",
       "    <tr>\n",
       "      <th>1</th>\n",
       "      <td>15810944</td>\n",
       "      <td>01-04-2012</td>\n",
       "      <td>Italy</td>\n",
       "      <td>Male</td>\n",
       "      <td>35</td>\n",
       "      <td>20000.0</td>\n",
       "      <td>0</td>\n",
       "    </tr>\n",
       "    <tr>\n",
       "      <th>2</th>\n",
       "      <td>15668575</td>\n",
       "      <td>01-05-2012</td>\n",
       "      <td>France</td>\n",
       "      <td>Female</td>\n",
       "      <td>26</td>\n",
       "      <td>43000.0</td>\n",
       "      <td>0</td>\n",
       "    </tr>\n",
       "    <tr>\n",
       "      <th>3</th>\n",
       "      <td>15603246</td>\n",
       "      <td>01-06-2012</td>\n",
       "      <td>Germany</td>\n",
       "      <td>Female</td>\n",
       "      <td>27</td>\n",
       "      <td>57000.0</td>\n",
       "      <td>0</td>\n",
       "    </tr>\n",
       "    <tr>\n",
       "      <th>4</th>\n",
       "      <td>15804002</td>\n",
       "      <td>01-09-2012</td>\n",
       "      <td>France</td>\n",
       "      <td>Male</td>\n",
       "      <td>19</td>\n",
       "      <td>76000.0</td>\n",
       "      <td>0</td>\n",
       "    </tr>\n",
       "    <tr>\n",
       "      <th>5</th>\n",
       "      <td>15728773</td>\n",
       "      <td>01-10-2012</td>\n",
       "      <td>Italy</td>\n",
       "      <td>Male</td>\n",
       "      <td>27</td>\n",
       "      <td>58000.0</td>\n",
       "      <td>0</td>\n",
       "    </tr>\n",
       "    <tr>\n",
       "      <th>6</th>\n",
       "      <td>15598044</td>\n",
       "      <td>01-11-2012</td>\n",
       "      <td>France</td>\n",
       "      <td>Female</td>\n",
       "      <td>27</td>\n",
       "      <td>84000.0</td>\n",
       "      <td>0</td>\n",
       "    </tr>\n",
       "    <tr>\n",
       "      <th>7</th>\n",
       "      <td>15694829</td>\n",
       "      <td>01-12-2012</td>\n",
       "      <td>Italy</td>\n",
       "      <td>Female</td>\n",
       "      <td>32</td>\n",
       "      <td>150000.0</td>\n",
       "      <td>1</td>\n",
       "    </tr>\n",
       "    <tr>\n",
       "      <th>8</th>\n",
       "      <td>15600575</td>\n",
       "      <td>1/13/2012</td>\n",
       "      <td>Italy</td>\n",
       "      <td>Male</td>\n",
       "      <td>25</td>\n",
       "      <td>33000.0</td>\n",
       "      <td>0</td>\n",
       "    </tr>\n",
       "    <tr>\n",
       "      <th>9</th>\n",
       "      <td>15727311</td>\n",
       "      <td>1/17/2012</td>\n",
       "      <td>Germany</td>\n",
       "      <td>Female</td>\n",
       "      <td>35</td>\n",
       "      <td>65000.0</td>\n",
       "      <td>0</td>\n",
       "    </tr>\n",
       "    <tr>\n",
       "      <th>11</th>\n",
       "      <td>15606274</td>\n",
       "      <td>1/19/2012</td>\n",
       "      <td>France</td>\n",
       "      <td>Female</td>\n",
       "      <td>26</td>\n",
       "      <td>52000.0</td>\n",
       "      <td>0</td>\n",
       "    </tr>\n",
       "    <tr>\n",
       "      <th>12</th>\n",
       "      <td>15746139</td>\n",
       "      <td>1/20/2012</td>\n",
       "      <td>Italy</td>\n",
       "      <td>Male</td>\n",
       "      <td>20</td>\n",
       "      <td>86000.0</td>\n",
       "      <td>0</td>\n",
       "    </tr>\n",
       "    <tr>\n",
       "      <th>13</th>\n",
       "      <td>15704987</td>\n",
       "      <td>1/23/2012</td>\n",
       "      <td>France</td>\n",
       "      <td>Male</td>\n",
       "      <td>32</td>\n",
       "      <td>18000.0</td>\n",
       "      <td>0</td>\n",
       "    </tr>\n",
       "    <tr>\n",
       "      <th>14</th>\n",
       "      <td>15628972</td>\n",
       "      <td>1/24/2012</td>\n",
       "      <td>France</td>\n",
       "      <td>Male</td>\n",
       "      <td>18</td>\n",
       "      <td>82000.0</td>\n",
       "      <td>0</td>\n",
       "    </tr>\n",
       "    <tr>\n",
       "      <th>15</th>\n",
       "      <td>15697686</td>\n",
       "      <td>1/25/2012</td>\n",
       "      <td>Germany</td>\n",
       "      <td>Male</td>\n",
       "      <td>29</td>\n",
       "      <td>80000.0</td>\n",
       "      <td>0</td>\n",
       "    </tr>\n",
       "    <tr>\n",
       "      <th>16</th>\n",
       "      <td>15733883</td>\n",
       "      <td>1/26/2012</td>\n",
       "      <td>France</td>\n",
       "      <td>Male</td>\n",
       "      <td>47</td>\n",
       "      <td>25000.0</td>\n",
       "      <td>1</td>\n",
       "    </tr>\n",
       "    <tr>\n",
       "      <th>17</th>\n",
       "      <td>15617482</td>\n",
       "      <td>1/27/2012</td>\n",
       "      <td>Germany</td>\n",
       "      <td>Male</td>\n",
       "      <td>45</td>\n",
       "      <td>26000.0</td>\n",
       "      <td>1</td>\n",
       "    </tr>\n",
       "    <tr>\n",
       "      <th>18</th>\n",
       "      <td>15704583</td>\n",
       "      <td>1/30/2012</td>\n",
       "      <td>Germany</td>\n",
       "      <td>Male</td>\n",
       "      <td>46</td>\n",
       "      <td>28000.0</td>\n",
       "      <td>1</td>\n",
       "    </tr>\n",
       "    <tr>\n",
       "      <th>19</th>\n",
       "      <td>15621083</td>\n",
       "      <td>1/31/2012</td>\n",
       "      <td>Italy</td>\n",
       "      <td>Female</td>\n",
       "      <td>48</td>\n",
       "      <td>29000.0</td>\n",
       "      <td>1</td>\n",
       "    </tr>\n",
       "    <tr>\n",
       "      <th>20</th>\n",
       "      <td>15649487</td>\n",
       "      <td>02-01-2012</td>\n",
       "      <td>Germany</td>\n",
       "      <td>Male</td>\n",
       "      <td>45</td>\n",
       "      <td>22000.0</td>\n",
       "      <td>1</td>\n",
       "    </tr>\n",
       "  </tbody>\n",
       "</table>\n",
       "</div>"
      ],
      "text/plain": [
       "     User ID        Date  Country  Gender  Age  EstimatedSalary  Purchased\n",
       "0   15624510  01-03-2012   France    Male   19          19000.0          0\n",
       "1   15810944  01-04-2012    Italy    Male   35          20000.0          0\n",
       "2   15668575  01-05-2012   France  Female   26          43000.0          0\n",
       "3   15603246  01-06-2012  Germany  Female   27          57000.0          0\n",
       "4   15804002  01-09-2012   France    Male   19          76000.0          0\n",
       "5   15728773  01-10-2012    Italy    Male   27          58000.0          0\n",
       "6   15598044  01-11-2012   France  Female   27          84000.0          0\n",
       "7   15694829  01-12-2012    Italy  Female   32         150000.0          1\n",
       "8   15600575   1/13/2012    Italy    Male   25          33000.0          0\n",
       "9   15727311   1/17/2012  Germany  Female   35          65000.0          0\n",
       "11  15606274   1/19/2012   France  Female   26          52000.0          0\n",
       "12  15746139   1/20/2012    Italy    Male   20          86000.0          0\n",
       "13  15704987   1/23/2012   France    Male   32          18000.0          0\n",
       "14  15628972   1/24/2012   France    Male   18          82000.0          0\n",
       "15  15697686   1/25/2012  Germany    Male   29          80000.0          0\n",
       "16  15733883   1/26/2012   France    Male   47          25000.0          1\n",
       "17  15617482   1/27/2012  Germany    Male   45          26000.0          1\n",
       "18  15704583   1/30/2012  Germany    Male   46          28000.0          1\n",
       "19  15621083   1/31/2012    Italy  Female   48          29000.0          1\n",
       "20  15649487  02-01-2012  Germany    Male   45          22000.0          1"
      ]
     },
     "execution_count": 97,
     "metadata": {},
     "output_type": "execute_result"
    }
   ],
   "source": [
    "data.head(20)"
   ]
  },
  {
   "cell_type": "markdown",
   "id": "99153f0a",
   "metadata": {},
   "source": [
    "Now the Index is not in order(11th after 9th) because we have deleted some rows .So what we can change the index like"
   ]
  },
  {
   "cell_type": "code",
   "execution_count": 100,
   "id": "a4346918",
   "metadata": {},
   "outputs": [],
   "source": [
    "data.reset_index(drop=True,inplace=True)"
   ]
  },
  {
   "cell_type": "code",
   "execution_count": 102,
   "id": "acdd8573",
   "metadata": {},
   "outputs": [
    {
     "data": {
      "text/plain": [
       "User ID             15606274\n",
       "Date               1/19/2012\n",
       "Country               France\n",
       "Gender                Female\n",
       "Age                       26\n",
       "EstimatedSalary      52000.0\n",
       "Purchased                  0\n",
       "Name: 10, dtype: object"
      ]
     },
     "execution_count": 102,
     "metadata": {},
     "output_type": "execute_result"
    }
   ],
   "source": [
    "data.iloc[10]"
   ]
  },
  {
   "cell_type": "markdown",
   "id": "322b8904",
   "metadata": {},
   "source": [
    "### Droping a Column"
   ]
  },
  {
   "cell_type": "markdown",
   "id": "521bb2a0",
   "metadata": {},
   "source": [
    "When we have a column with 25% - 30% missing values, We can drop that column"
   ]
  },
  {
   "cell_type": "code",
   "execution_count": 103,
   "id": "8562de47",
   "metadata": {},
   "outputs": [
    {
     "data": {
      "text/html": [
       "<div>\n",
       "<style scoped>\n",
       "    .dataframe tbody tr th:only-of-type {\n",
       "        vertical-align: middle;\n",
       "    }\n",
       "\n",
       "    .dataframe tbody tr th {\n",
       "        vertical-align: top;\n",
       "    }\n",
       "\n",
       "    .dataframe thead th {\n",
       "        text-align: right;\n",
       "    }\n",
       "</style>\n",
       "<table border=\"1\" class=\"dataframe\">\n",
       "  <thead>\n",
       "    <tr style=\"text-align: right;\">\n",
       "      <th></th>\n",
       "      <th>User ID</th>\n",
       "      <th>Date</th>\n",
       "      <th>Country</th>\n",
       "      <th>Gender</th>\n",
       "      <th>Age</th>\n",
       "      <th>Purchased</th>\n",
       "    </tr>\n",
       "  </thead>\n",
       "  <tbody>\n",
       "    <tr>\n",
       "      <th>0</th>\n",
       "      <td>15624510</td>\n",
       "      <td>01-03-2012</td>\n",
       "      <td>France</td>\n",
       "      <td>Male</td>\n",
       "      <td>19</td>\n",
       "      <td>0</td>\n",
       "    </tr>\n",
       "    <tr>\n",
       "      <th>1</th>\n",
       "      <td>15810944</td>\n",
       "      <td>01-04-2012</td>\n",
       "      <td>Italy</td>\n",
       "      <td>Male</td>\n",
       "      <td>35</td>\n",
       "      <td>0</td>\n",
       "    </tr>\n",
       "    <tr>\n",
       "      <th>2</th>\n",
       "      <td>15668575</td>\n",
       "      <td>01-05-2012</td>\n",
       "      <td>France</td>\n",
       "      <td>Female</td>\n",
       "      <td>26</td>\n",
       "      <td>0</td>\n",
       "    </tr>\n",
       "    <tr>\n",
       "      <th>3</th>\n",
       "      <td>15603246</td>\n",
       "      <td>01-06-2012</td>\n",
       "      <td>Germany</td>\n",
       "      <td>Female</td>\n",
       "      <td>27</td>\n",
       "      <td>0</td>\n",
       "    </tr>\n",
       "    <tr>\n",
       "      <th>4</th>\n",
       "      <td>15804002</td>\n",
       "      <td>01-09-2012</td>\n",
       "      <td>France</td>\n",
       "      <td>Male</td>\n",
       "      <td>19</td>\n",
       "      <td>0</td>\n",
       "    </tr>\n",
       "    <tr>\n",
       "      <th>...</th>\n",
       "      <td>...</td>\n",
       "      <td>...</td>\n",
       "      <td>...</td>\n",
       "      <td>...</td>\n",
       "      <td>...</td>\n",
       "      <td>...</td>\n",
       "    </tr>\n",
       "    <tr>\n",
       "      <th>396</th>\n",
       "      <td>15691863</td>\n",
       "      <td>08-05-2013</td>\n",
       "      <td>France</td>\n",
       "      <td>Female</td>\n",
       "      <td>46</td>\n",
       "      <td>1</td>\n",
       "    </tr>\n",
       "    <tr>\n",
       "      <th>397</th>\n",
       "      <td>15706071</td>\n",
       "      <td>08-06-2013</td>\n",
       "      <td>Italy</td>\n",
       "      <td>Male</td>\n",
       "      <td>51</td>\n",
       "      <td>1</td>\n",
       "    </tr>\n",
       "    <tr>\n",
       "      <th>398</th>\n",
       "      <td>15654296</td>\n",
       "      <td>08-07-2013</td>\n",
       "      <td>Italy</td>\n",
       "      <td>Female</td>\n",
       "      <td>50</td>\n",
       "      <td>1</td>\n",
       "    </tr>\n",
       "    <tr>\n",
       "      <th>399</th>\n",
       "      <td>15755018</td>\n",
       "      <td>08-08-2013</td>\n",
       "      <td>Germany</td>\n",
       "      <td>Male</td>\n",
       "      <td>36</td>\n",
       "      <td>0</td>\n",
       "    </tr>\n",
       "    <tr>\n",
       "      <th>400</th>\n",
       "      <td>15594041</td>\n",
       "      <td>08-09-2013</td>\n",
       "      <td>Germany&amp;</td>\n",
       "      <td>Female</td>\n",
       "      <td>49</td>\n",
       "      <td>1</td>\n",
       "    </tr>\n",
       "  </tbody>\n",
       "</table>\n",
       "<p>401 rows × 6 columns</p>\n",
       "</div>"
      ],
      "text/plain": [
       "      User ID        Date   Country  Gender  Age  Purchased\n",
       "0    15624510  01-03-2012    France    Male   19          0\n",
       "1    15810944  01-04-2012     Italy    Male   35          0\n",
       "2    15668575  01-05-2012    France  Female   26          0\n",
       "3    15603246  01-06-2012   Germany  Female   27          0\n",
       "4    15804002  01-09-2012    France    Male   19          0\n",
       "..        ...         ...       ...     ...  ...        ...\n",
       "396  15691863  08-05-2013    France  Female   46          1\n",
       "397  15706071  08-06-2013     Italy    Male   51          1\n",
       "398  15654296  08-07-2013     Italy  Female   50          1\n",
       "399  15755018  08-08-2013   Germany    Male   36          0\n",
       "400  15594041  08-09-2013  Germany&  Female   49          1\n",
       "\n",
       "[401 rows x 6 columns]"
      ]
     },
     "execution_count": 103,
     "metadata": {},
     "output_type": "execute_result"
    }
   ],
   "source": [
    "data.drop(\"EstimatedSalary\",axis=1)"
   ]
  },
  {
   "cell_type": "code",
   "execution_count": null,
   "id": "49e53e6e",
   "metadata": {},
   "outputs": [],
   "source": []
  }
 ],
 "metadata": {
  "kernelspec": {
   "display_name": "Python 3 (ipykernel)",
   "language": "python",
   "name": "python3"
  },
  "language_info": {
   "codemirror_mode": {
    "name": "ipython",
    "version": 3
   },
   "file_extension": ".py",
   "mimetype": "text/x-python",
   "name": "python",
   "nbconvert_exporter": "python",
   "pygments_lexer": "ipython3",
   "version": "3.9.7"
  }
 },
 "nbformat": 4,
 "nbformat_minor": 5
}
