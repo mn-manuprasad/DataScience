{
 "cells": [
  {
   "cell_type": "code",
   "execution_count": 1,
   "id": "ed67b692",
   "metadata": {},
   "outputs": [],
   "source": [
    "import pandas as pd\n",
    "import seaborn as sns"
   ]
  },
  {
   "cell_type": "markdown",
   "id": "8031dd8e",
   "metadata": {},
   "source": [
    "# Handling Outliers"
   ]
  },
  {
   "cell_type": "markdown",
   "id": "4d846468",
   "metadata": {},
   "source": [
    "#### There are two methods to identify outliers"
   ]
  },
  {
   "cell_type": "markdown",
   "id": "4b4a9fe8",
   "metadata": {},
   "source": [
    "1. IQR  ( Inter Quartile Range )\n",
    "\n",
    "2. Z Score"
   ]
  },
  {
   "cell_type": "markdown",
   "id": "10e482cb",
   "metadata": {},
   "source": [
    "We can divide any data into 4 quartiles(1/4) \n",
    "\n",
    "Lets assume the data is\n",
    "\n",
    "10,20,30,40,60,70,80,90,100"
   ]
  },
  {
   "cell_type": "markdown",
   "id": "cbc47a6f",
   "metadata": {},
   "source": [
    " Median = 60"
   ]
  },
  {
   "cell_type": "markdown",
   "id": "9bbce0bf",
   "metadata": {},
   "source": [
    "1st part -> 10,20,30,40\n",
    "\n",
    "Median = 25\n"
   ]
  },
  {
   "cell_type": "markdown",
   "id": "41287da0",
   "metadata": {},
   "source": [
    "2nd Part->70,80,90,100\n",
    "\n",
    "Median = 85"
   ]
  },
  {
   "cell_type": "markdown",
   "id": "6e8e44ef",
   "metadata": {},
   "source": [
    "min value = 10\n",
    "\n",
    "Q1 (First Part Median) = 25\n",
    "\n",
    "Q2 (Entire Median of the dataset) = 60 \n",
    "\n",
    "Q3 (Second Part Median) = 85\n",
    "\n",
    "Maximum Value = 100"
   ]
  },
  {
   "cell_type": "markdown",
   "id": "c7f70a55",
   "metadata": {},
   "source": [
    "From min to Q1 we have 25% of the data\n",
    "\n",
    "From Q1 - Q2 --> 25% of data\n",
    "\n",
    "Q2 - Q3 ---> 25% of data\n",
    "\n",
    "Q3 - Max ---> 25% of data\n",
    "\n",
    "In this way we are dividing the entire data into 4 quartiles"
   ]
  },
  {
   "cell_type": "markdown",
   "id": "148372c2",
   "metadata": {},
   "source": [
    "Cumilative Percentile\n",
    "\n",
    "min - Q1  :  25% \n",
    "\n",
    "min  - Q2  : 50% \n",
    "\n",
    "Q2 - Q3   : 75% \n",
    "\n",
    "Q3 - Max  : 100% "
   ]
  },
  {
   "cell_type": "code",
   "execution_count": 2,
   "id": "2538470c",
   "metadata": {},
   "outputs": [],
   "source": [
    "data = pd.read_csv(\"Social_Network_Ads_1.csv\")"
   ]
  },
  {
   "cell_type": "code",
   "execution_count": 3,
   "id": "586f1aaf",
   "metadata": {},
   "outputs": [
    {
     "data": {
      "text/html": [
       "<div>\n",
       "<style scoped>\n",
       "    .dataframe tbody tr th:only-of-type {\n",
       "        vertical-align: middle;\n",
       "    }\n",
       "\n",
       "    .dataframe tbody tr th {\n",
       "        vertical-align: top;\n",
       "    }\n",
       "\n",
       "    .dataframe thead th {\n",
       "        text-align: right;\n",
       "    }\n",
       "</style>\n",
       "<table border=\"1\" class=\"dataframe\">\n",
       "  <thead>\n",
       "    <tr style=\"text-align: right;\">\n",
       "      <th></th>\n",
       "      <th>User ID</th>\n",
       "      <th>Age</th>\n",
       "      <th>EstimatedSalary</th>\n",
       "      <th>Purchased</th>\n",
       "    </tr>\n",
       "  </thead>\n",
       "  <tbody>\n",
       "    <tr>\n",
       "      <th>count</th>\n",
       "      <td>4.030000e+02</td>\n",
       "      <td>403.000000</td>\n",
       "      <td>4.010000e+02</td>\n",
       "      <td>403.000000</td>\n",
       "    </tr>\n",
       "    <tr>\n",
       "      <th>mean</th>\n",
       "      <td>1.569141e+07</td>\n",
       "      <td>37.692308</td>\n",
       "      <td>8.236658e+04</td>\n",
       "      <td>0.359801</td>\n",
       "    </tr>\n",
       "    <tr>\n",
       "      <th>std</th>\n",
       "      <td>7.153372e+04</td>\n",
       "      <td>10.475730</td>\n",
       "      <td>2.486716e+05</td>\n",
       "      <td>0.480539</td>\n",
       "    </tr>\n",
       "    <tr>\n",
       "      <th>min</th>\n",
       "      <td>1.556669e+07</td>\n",
       "      <td>18.000000</td>\n",
       "      <td>1.500000e+04</td>\n",
       "      <td>0.000000</td>\n",
       "    </tr>\n",
       "    <tr>\n",
       "      <th>25%</th>\n",
       "      <td>1.562631e+07</td>\n",
       "      <td>30.000000</td>\n",
       "      <td>4.300000e+04</td>\n",
       "      <td>0.000000</td>\n",
       "    </tr>\n",
       "    <tr>\n",
       "      <th>50%</th>\n",
       "      <td>1.569429e+07</td>\n",
       "      <td>37.000000</td>\n",
       "      <td>7.000000e+04</td>\n",
       "      <td>0.000000</td>\n",
       "    </tr>\n",
       "    <tr>\n",
       "      <th>75%</th>\n",
       "      <td>1.575020e+07</td>\n",
       "      <td>46.000000</td>\n",
       "      <td>8.800000e+04</td>\n",
       "      <td>1.000000</td>\n",
       "    </tr>\n",
       "    <tr>\n",
       "      <th>max</th>\n",
       "      <td>1.581524e+07</td>\n",
       "      <td>60.000000</td>\n",
       "      <td>5.000000e+06</td>\n",
       "      <td>1.000000</td>\n",
       "    </tr>\n",
       "  </tbody>\n",
       "</table>\n",
       "</div>"
      ],
      "text/plain": [
       "            User ID         Age  EstimatedSalary   Purchased\n",
       "count  4.030000e+02  403.000000     4.010000e+02  403.000000\n",
       "mean   1.569141e+07   37.692308     8.236658e+04    0.359801\n",
       "std    7.153372e+04   10.475730     2.486716e+05    0.480539\n",
       "min    1.556669e+07   18.000000     1.500000e+04    0.000000\n",
       "25%    1.562631e+07   30.000000     4.300000e+04    0.000000\n",
       "50%    1.569429e+07   37.000000     7.000000e+04    0.000000\n",
       "75%    1.575020e+07   46.000000     8.800000e+04    1.000000\n",
       "max    1.581524e+07   60.000000     5.000000e+06    1.000000"
      ]
     },
     "execution_count": 3,
     "metadata": {},
     "output_type": "execute_result"
    }
   ],
   "source": [
    "data.describe()"
   ]
  },
  {
   "cell_type": "markdown",
   "id": "fe67983e",
   "metadata": {},
   "source": [
    "By looking at age\n",
    "\n",
    "1. Minimum age of the customers is 18\n",
    "\n",
    "2. Only 25% of the customers are below 30\n",
    "\n",
    "3. Almost 50% of the customers are below 37\n",
    "\n",
    "4. Almost 75% of the customers are below 46( Most of the customers are below 46)\n",
    "\n"
   ]
  },
  {
   "cell_type": "markdown",
   "id": "64d99eeb",
   "metadata": {},
   "source": [
    "## Interquartile Range -IQR ( Q3-Q1)\n",
    "##### Measure of spread"
   ]
  },
  {
   "cell_type": "markdown",
   "id": "fd9510ce",
   "metadata": {},
   "source": [
    "IQR helps us to understand what is the deviation of the data from the majority of the data"
   ]
  },
  {
   "cell_type": "code",
   "execution_count": 4,
   "id": "bb534d4c",
   "metadata": {},
   "outputs": [
    {
     "data": {
      "text/plain": [
       "count    403.000000\n",
       "mean      37.692308\n",
       "std       10.475730\n",
       "min       18.000000\n",
       "25%       30.000000\n",
       "50%       37.000000\n",
       "75%       46.000000\n",
       "max       60.000000\n",
       "Name: Age, dtype: float64"
      ]
     },
     "execution_count": 4,
     "metadata": {},
     "output_type": "execute_result"
    }
   ],
   "source": [
    "data[\"Age\"].describe()"
   ]
  },
  {
   "cell_type": "code",
   "execution_count": 5,
   "id": "34fde64a",
   "metadata": {},
   "outputs": [
    {
     "data": {
      "text/plain": [
       "46.0"
      ]
     },
     "execution_count": 5,
     "metadata": {},
     "output_type": "execute_result"
    }
   ],
   "source": [
    "data[\"Age\"].describe()[\"75%\"]"
   ]
  },
  {
   "cell_type": "code",
   "execution_count": 6,
   "id": "441d6692",
   "metadata": {},
   "outputs": [
    {
     "data": {
      "text/plain": [
       "30.0"
      ]
     },
     "execution_count": 6,
     "metadata": {},
     "output_type": "execute_result"
    }
   ],
   "source": [
    "data[\"Age\"].describe()[\"25%\"] "
   ]
  },
  {
   "cell_type": "code",
   "execution_count": 7,
   "id": "470b1ee6",
   "metadata": {},
   "outputs": [],
   "source": [
    "IQR = data[\"Age\"].describe()[\"75%\"] - data[\"Age\"].describe()[\"25%\"] "
   ]
  },
  {
   "cell_type": "code",
   "execution_count": 8,
   "id": "403cc63b",
   "metadata": {},
   "outputs": [
    {
     "data": {
      "text/plain": [
       "16.0"
      ]
     },
     "execution_count": 8,
     "metadata": {},
     "output_type": "execute_result"
    }
   ],
   "source": [
    "IQR"
   ]
  },
  {
   "cell_type": "markdown",
   "id": "82ae2f72",
   "metadata": {},
   "source": [
    "IQR --> Deviation(Difference)from the minimum quartile(Q1) to maximum quartile(Q3) of majority of the portion of data"
   ]
  },
  {
   "cell_type": "markdown",
   "id": "490ab160",
   "metadata": {},
   "source": [
    "### Box Plot"
   ]
  },
  {
   "cell_type": "code",
   "execution_count": 9,
   "id": "8d832506",
   "metadata": {},
   "outputs": [
    {
     "name": "stderr",
     "output_type": "stream",
     "text": [
      "C:\\Anaconda3\\lib\\site-packages\\seaborn\\_decorators.py:36: FutureWarning: Pass the following variable as a keyword arg: x. From version 0.12, the only valid positional argument will be `data`, and passing other arguments without an explicit keyword will result in an error or misinterpretation.\n",
      "  warnings.warn(\n"
     ]
    },
    {
     "data": {
      "text/plain": [
       "<AxesSubplot:xlabel='Age'>"
      ]
     },
     "execution_count": 9,
     "metadata": {},
     "output_type": "execute_result"
    },
    {
     "data": {
      "image/png": "[encoded data removed]",
      "text/plain": [
       "<Figure size 432x288 with 1 Axes>"
      ]
     },
     "metadata": {
      "needs_background": "light"
     },
     "output_type": "display_data"
    }
   ],
   "source": [
    "sns.boxplot(data[\"Age\"])"
   ]
  },
  {
   "attachments": {
    "Boxplot.jpg": {
     "image/jpeg": "[encoded data removed]"
    }
   },
   "cell_type": "markdown",
   "id": "8732369a",
   "metadata": {},
   "source": [
    "![Boxplot.jpg](attachment:Boxplot.jpg)"
   ]
  },
  {
   "cell_type": "markdown",
   "id": "5b026a93",
   "metadata": {},
   "source": [
    "From Q1 - Q3 -> Almost 50% of data is present in the blue box\n",
    "if we avoid extreme points. Whatever data in the box is the majority of data. From the above box plot we can see that age doesn't have any outliers"
   ]
  },
  {
   "cell_type": "code",
   "execution_count": 10,
   "id": "8a9b59d8",
   "metadata": {},
   "outputs": [
    {
     "name": "stderr",
     "output_type": "stream",
     "text": [
      "C:\\Anaconda3\\lib\\site-packages\\seaborn\\_decorators.py:36: FutureWarning: Pass the following variable as a keyword arg: x. From version 0.12, the only valid positional argument will be `data`, and passing other arguments without an explicit keyword will result in an error or misinterpretation.\n",
      "  warnings.warn(\n"
     ]
    },
    {
     "data": {
      "text/plain": [
       "<AxesSubplot:xlabel='EstimatedSalary'>"
      ]
     },
     "execution_count": 10,
     "metadata": {},
     "output_type": "execute_result"
    },
    {
     "data": {
      "image/png": "[encoded data removed]",
      "text/plain": [
       "<Figure size 432x288 with 1 Axes>"
      ]
     },
     "metadata": {
      "needs_background": "light"
     },
     "output_type": "display_data"
    }
   ],
   "source": [
    "sns.boxplot(data[\"EstimatedSalary\"])"
   ]
  },
  {
   "cell_type": "markdown",
   "id": "67070058",
   "metadata": {},
   "source": [
    "Here we can see  two outliers (In Box plot outliers are represented as dots)"
   ]
  },
  {
   "attachments": {
    "Outliers.png": {
     "image/png": "[encoded data removed]"
    }
   },
   "cell_type": "markdown",
   "id": "51301dd9",
   "metadata": {},
   "source": [
    "![Outliers.png](attachment:Outliers.png)"
   ]
  },
  {
   "cell_type": "markdown",
   "id": "0833c099",
   "metadata": {},
   "source": [
    "### General Formula of Outliers"
   ]
  },
  {
   "cell_type": "markdown",
   "id": "fc9e12f8",
   "metadata": {},
   "source": [
    "Any data point which is 1.5 times far away from the IQR range then it is an outliers"
   ]
  },
  {
   "cell_type": "markdown",
   "id": "ad84fc90",
   "metadata": {},
   "source": [
    "### Lower Outliers(Present at left side of the data) \n",
    "\n",
    "Lower Boundary = $Q_1-(1.5* IQR)$"
   ]
  },
  {
   "cell_type": "markdown",
   "id": "67f44232",
   "metadata": {},
   "source": [
    "### Upper Outliers(Present at right side of the data) \n",
    "\n",
    "Upper Boundary = $Q_3+ (1.5* IQR)$"
   ]
  },
  {
   "cell_type": "code",
   "execution_count": 11,
   "id": "b240a1e3",
   "metadata": {},
   "outputs": [
    {
     "data": {
      "text/plain": [
       "count    4.010000e+02\n",
       "mean     8.236658e+04\n",
       "std      2.486716e+05\n",
       "min      1.500000e+04\n",
       "25%      4.300000e+04\n",
       "50%      7.000000e+04\n",
       "75%      8.800000e+04\n",
       "max      5.000000e+06\n",
       "Name: EstimatedSalary, dtype: float64"
      ]
     },
     "execution_count": 11,
     "metadata": {},
     "output_type": "execute_result"
    }
   ],
   "source": [
    "data[\"EstimatedSalary\"].describe()"
   ]
  },
  {
   "cell_type": "code",
   "execution_count": 12,
   "id": "fde6382b",
   "metadata": {},
   "outputs": [],
   "source": [
    "Q1 = data[\"EstimatedSalary\"].describe()[\"25%\"]\n",
    "Q3 = data[\"EstimatedSalary\"].describe()[\"75%\"]"
   ]
  },
  {
   "cell_type": "code",
   "execution_count": 13,
   "id": "5cfaf669",
   "metadata": {},
   "outputs": [],
   "source": [
    "IQR_Sal = Q3-Q1"
   ]
  },
  {
   "cell_type": "code",
   "execution_count": 14,
   "id": "4780a48b",
   "metadata": {},
   "outputs": [
    {
     "data": {
      "text/plain": [
       "45000.0"
      ]
     },
     "execution_count": 14,
     "metadata": {},
     "output_type": "execute_result"
    }
   ],
   "source": [
    "IQR_Sal"
   ]
  },
  {
   "cell_type": "code",
   "execution_count": 15,
   "id": "37939d12",
   "metadata": {},
   "outputs": [
    {
     "data": {
      "text/plain": [
       "-24500.0"
      ]
     },
     "execution_count": 15,
     "metadata": {},
     "output_type": "execute_result"
    }
   ],
   "source": [
    "lower_boundary = Q1 - (1.5*IQR_Sal)\n",
    "lower_boundary "
   ]
  },
  {
   "cell_type": "markdown",
   "id": "4cd87553",
   "metadata": {},
   "source": [
    "Any data points is less than -24500.0 are lower outliers"
   ]
  },
  {
   "cell_type": "code",
   "execution_count": 16,
   "id": "14ac8692",
   "metadata": {},
   "outputs": [],
   "source": [
    "upper_boundary = Q3 + (1.5*IQR_Sal)"
   ]
  },
  {
   "cell_type": "code",
   "execution_count": 17,
   "id": "4562044f",
   "metadata": {},
   "outputs": [
    {
     "data": {
      "text/plain": [
       "155500.0"
      ]
     },
     "execution_count": 17,
     "metadata": {},
     "output_type": "execute_result"
    }
   ],
   "source": [
    "upper_boundary"
   ]
  },
  {
   "cell_type": "markdown",
   "id": "67d13556",
   "metadata": {},
   "source": [
    "Any data points is greater than 155500.0 are upper outliers"
   ]
  },
  {
   "cell_type": "code",
   "execution_count": 18,
   "id": "35227c95",
   "metadata": {},
   "outputs": [
    {
     "data": {
      "text/html": [
       "<div>\n",
       "<style scoped>\n",
       "    .dataframe tbody tr th:only-of-type {\n",
       "        vertical-align: middle;\n",
       "    }\n",
       "\n",
       "    .dataframe tbody tr th {\n",
       "        vertical-align: top;\n",
       "    }\n",
       "\n",
       "    .dataframe thead th {\n",
       "        text-align: right;\n",
       "    }\n",
       "</style>\n",
       "<table border=\"1\" class=\"dataframe\">\n",
       "  <thead>\n",
       "    <tr style=\"text-align: right;\">\n",
       "      <th></th>\n",
       "      <th>User ID</th>\n",
       "      <th>Date</th>\n",
       "      <th>Country</th>\n",
       "      <th>Gender</th>\n",
       "      <th>Age</th>\n",
       "      <th>EstimatedSalary</th>\n",
       "      <th>Purchased</th>\n",
       "    </tr>\n",
       "  </thead>\n",
       "  <tbody>\n",
       "  </tbody>\n",
       "</table>\n",
       "</div>"
      ],
      "text/plain": [
       "Empty DataFrame\n",
       "Columns: [User ID, Date, Country, Gender, Age, EstimatedSalary, Purchased]\n",
       "Index: []"
      ]
     },
     "execution_count": 18,
     "metadata": {},
     "output_type": "execute_result"
    }
   ],
   "source": [
    "data[data[\"EstimatedSalary\"] < -24500.0] # Checking for lower outliers"
   ]
  },
  {
   "cell_type": "code",
   "execution_count": 19,
   "id": "eb494c28",
   "metadata": {},
   "outputs": [
    {
     "data": {
      "text/html": [
       "<div>\n",
       "<style scoped>\n",
       "    .dataframe tbody tr th:only-of-type {\n",
       "        vertical-align: middle;\n",
       "    }\n",
       "\n",
       "    .dataframe tbody tr th {\n",
       "        vertical-align: top;\n",
       "    }\n",
       "\n",
       "    .dataframe thead th {\n",
       "        text-align: right;\n",
       "    }\n",
       "</style>\n",
       "<table border=\"1\" class=\"dataframe\">\n",
       "  <thead>\n",
       "    <tr style=\"text-align: right;\">\n",
       "      <th></th>\n",
       "      <th>User ID</th>\n",
       "      <th>Date</th>\n",
       "      <th>Country</th>\n",
       "      <th>Gender</th>\n",
       "      <th>Age</th>\n",
       "      <th>EstimatedSalary</th>\n",
       "      <th>Purchased</th>\n",
       "    </tr>\n",
       "  </thead>\n",
       "  <tbody>\n",
       "    <tr>\n",
       "      <th>161</th>\n",
       "      <td>15734234</td>\n",
       "      <td>8/22/2012</td>\n",
       "      <td>France</td>\n",
       "      <td>Male</td>\n",
       "      <td>36</td>\n",
       "      <td>5000000.0</td>\n",
       "      <td>1</td>\n",
       "    </tr>\n",
       "    <tr>\n",
       "      <th>281</th>\n",
       "      <td>15613334</td>\n",
       "      <td>2/15/2013</td>\n",
       "      <td>Italy</td>\n",
       "      <td>Female</td>\n",
       "      <td>54</td>\n",
       "      <td>233000.0</td>\n",
       "      <td>1</td>\n",
       "    </tr>\n",
       "  </tbody>\n",
       "</table>\n",
       "</div>"
      ],
      "text/plain": [
       "      User ID       Date Country  Gender  Age  EstimatedSalary  Purchased\n",
       "161  15734234  8/22/2012  France    Male   36        5000000.0          1\n",
       "281  15613334  2/15/2013   Italy  Female   54         233000.0          1"
      ]
     },
     "execution_count": 19,
     "metadata": {},
     "output_type": "execute_result"
    }
   ],
   "source": [
    "data[data[\"EstimatedSalary\"] > 155500.0] #Checking for upper outlier"
   ]
  },
  {
   "cell_type": "markdown",
   "id": "b68a5af8",
   "metadata": {},
   "source": [
    "# How to handle outliers"
   ]
  },
  {
   "cell_type": "markdown",
   "id": "6bd0bd18",
   "metadata": {},
   "source": [
    "### 1. Removing the outliers \n"
   ]
  },
  {
   "cell_type": "markdown",
   "id": "afd199a1",
   "metadata": {},
   "source": [
    "### Percentage Of Outliers"
   ]
  },
  {
   "cell_type": "markdown",
   "id": "6a7aae55",
   "metadata": {},
   "source": [
    "# $\\frac{No Of UpperOutliers + No Of LowerOutliers}{total No Data } * 100 $"
   ]
  },
  {
   "cell_type": "code",
   "execution_count": 25,
   "id": "6f409095",
   "metadata": {},
   "outputs": [],
   "source": [
    "total = data[\"EstimatedSalary\"].shape[0] # No of total data"
   ]
  },
  {
   "cell_type": "code",
   "execution_count": 28,
   "id": "0c1f5536",
   "metadata": {},
   "outputs": [],
   "source": [
    "No_of_upperOutliers = data[data[\"EstimatedSalary\"] > 155500.0].shape[0] # No of upper outlier data"
   ]
  },
  {
   "cell_type": "markdown",
   "id": "ad21f3da",
   "metadata": {},
   "source": [
    "Above data doesn't have any lower outliers"
   ]
  },
  {
   "cell_type": "code",
   "execution_count": 32,
   "id": "e0359075",
   "metadata": {},
   "outputs": [
    {
     "data": {
      "text/plain": [
       "0.49627791563275436"
      ]
     },
     "execution_count": 32,
     "metadata": {},
     "output_type": "execute_result"
    }
   ],
   "source": [
    "( No_of_upperOutliers / total ) *100"
   ]
  },
  {
   "cell_type": "markdown",
   "id": "16575e0c",
   "metadata": {},
   "source": [
    "Here the percentage of outliers is very less so that there won't be any problem for removing these layers"
   ]
  },
  {
   "cell_type": "markdown",
   "id": "2f33d025",
   "metadata": {},
   "source": [
    "### If the percentage of outliers are above 4-5% those are not actual outliers. Those are representing some patter of our data . So we should no remove them , leave it as it is "
   ]
  },
  {
   "cell_type": "code",
   "execution_count": 38,
   "id": "cb445769",
   "metadata": {},
   "outputs": [],
   "source": [
    "outlier_index = data[data[\"EstimatedSalary\"] > 155500].index   # Now we get the index of the outliers "
   ]
  },
  {
   "cell_type": "code",
   "execution_count": 41,
   "id": "c54000b3",
   "metadata": {},
   "outputs": [],
   "source": [
    "data.drop(outlier_index,inplace=True) # To update we can use inplace = True"
   ]
  },
  {
   "cell_type": "markdown",
   "id": "fc98788f",
   "metadata": {},
   "source": [
    "Now we can check the box plot of EstimatedSalary"
   ]
  },
  {
   "cell_type": "code",
   "execution_count": 42,
   "id": "8f0d8f62",
   "metadata": {},
   "outputs": [
    {
     "name": "stderr",
     "output_type": "stream",
     "text": [
      "C:\\Anaconda3\\lib\\site-packages\\seaborn\\_decorators.py:36: FutureWarning: Pass the following variable as a keyword arg: x. From version 0.12, the only valid positional argument will be `data`, and passing other arguments without an explicit keyword will result in an error or misinterpretation.\n",
      "  warnings.warn(\n"
     ]
    },
    {
     "data": {
      "text/plain": [
       "<AxesSubplot:xlabel='EstimatedSalary'>"
      ]
     },
     "execution_count": 42,
     "metadata": {},
     "output_type": "execute_result"
    },
    {
     "data": {
      "image/png": "[encoded data removed]",
      "text/plain": [
       "<Figure size 432x288 with 1 Axes>"
      ]
     },
     "metadata": {
      "needs_background": "light"
     },
     "output_type": "display_data"
    }
   ],
   "source": [
    "sns.boxplot(data[\"EstimatedSalary\"])"
   ]
  },
  {
   "cell_type": "markdown",
   "id": "b3988e5a",
   "metadata": {},
   "source": [
    "Here we can see that the outliers are no more present in the data"
   ]
  },
  {
   "cell_type": "markdown",
   "id": "602d3677",
   "metadata": {},
   "source": [
    "### 2. Analyzing the outliers( Reason for outliers )"
   ]
  },
  {
   "cell_type": "code",
   "execution_count": 43,
   "id": "32ff1863",
   "metadata": {},
   "outputs": [],
   "source": [
    "data = pd.read_csv(\"Social_Network_Ads_1.csv\")"
   ]
  },
  {
   "cell_type": "code",
   "execution_count": 46,
   "id": "b2d4b5e3",
   "metadata": {
    "scrolled": true
   },
   "outputs": [
    {
     "data": {
      "text/html": [
       "<div>\n",
       "<style scoped>\n",
       "    .dataframe tbody tr th:only-of-type {\n",
       "        vertical-align: middle;\n",
       "    }\n",
       "\n",
       "    .dataframe tbody tr th {\n",
       "        vertical-align: top;\n",
       "    }\n",
       "\n",
       "    .dataframe thead th {\n",
       "        text-align: right;\n",
       "    }\n",
       "</style>\n",
       "<table border=\"1\" class=\"dataframe\">\n",
       "  <thead>\n",
       "    <tr style=\"text-align: right;\">\n",
       "      <th></th>\n",
       "      <th>User ID</th>\n",
       "      <th>Date</th>\n",
       "      <th>Country</th>\n",
       "      <th>Gender</th>\n",
       "      <th>Age</th>\n",
       "      <th>EstimatedSalary</th>\n",
       "      <th>Purchased</th>\n",
       "    </tr>\n",
       "  </thead>\n",
       "  <tbody>\n",
       "    <tr>\n",
       "      <th>161</th>\n",
       "      <td>15734234</td>\n",
       "      <td>8/22/2012</td>\n",
       "      <td>France</td>\n",
       "      <td>Male</td>\n",
       "      <td>36</td>\n",
       "      <td>5000000.0</td>\n",
       "      <td>1</td>\n",
       "    </tr>\n",
       "    <tr>\n",
       "      <th>281</th>\n",
       "      <td>15613334</td>\n",
       "      <td>2/15/2013</td>\n",
       "      <td>Italy</td>\n",
       "      <td>Female</td>\n",
       "      <td>54</td>\n",
       "      <td>233000.0</td>\n",
       "      <td>1</td>\n",
       "    </tr>\n",
       "  </tbody>\n",
       "</table>\n",
       "</div>"
      ],
      "text/plain": [
       "      User ID       Date Country  Gender  Age  EstimatedSalary  Purchased\n",
       "161  15734234  8/22/2012  France    Male   36        5000000.0          1\n",
       "281  15613334  2/15/2013   Italy  Female   54         233000.0          1"
      ]
     },
     "execution_count": 46,
     "metadata": {},
     "output_type": "execute_result"
    }
   ],
   "source": [
    "data[data[\"EstimatedSalary\"] > 155500]"
   ]
  },
  {
   "cell_type": "markdown",
   "id": "f0cdb315",
   "metadata": {},
   "source": [
    "Here the data at 161 index we can see that the salary is very huge 5000000.0. Customer salary might not be this much huge thats is for sure. SO what we can do is , there are some chances of machine error,data entry error etc(Due to human or machine error).So the last 2 zeros may be by mistakes and causing outliers. So to remove those last two zeros we can divide that value by 100"
   ]
  },
  {
   "cell_type": "code",
   "execution_count": 48,
   "id": "3706b24d",
   "metadata": {},
   "outputs": [],
   "source": [
    "outlier_data = data[data[\"EstimatedSalary\"] > 155500]"
   ]
  },
  {
   "cell_type": "code",
   "execution_count": 49,
   "id": "765afeba",
   "metadata": {},
   "outputs": [],
   "source": [
    "for idx,row in outlier_data.iterrows():\n",
    "    if row[\"EstimatedSalary\"] > 155500:\n",
    "        data.loc[idx,\"EstimatedSalary\"] /=100\n",
    "        "
   ]
  },
  {
   "cell_type": "code",
   "execution_count": 50,
   "id": "28f3e1f2",
   "metadata": {},
   "outputs": [
    {
     "data": {
      "text/html": [
       "<div>\n",
       "<style scoped>\n",
       "    .dataframe tbody tr th:only-of-type {\n",
       "        vertical-align: middle;\n",
       "    }\n",
       "\n",
       "    .dataframe tbody tr th {\n",
       "        vertical-align: top;\n",
       "    }\n",
       "\n",
       "    .dataframe thead th {\n",
       "        text-align: right;\n",
       "    }\n",
       "</style>\n",
       "<table border=\"1\" class=\"dataframe\">\n",
       "  <thead>\n",
       "    <tr style=\"text-align: right;\">\n",
       "      <th></th>\n",
       "      <th>User ID</th>\n",
       "      <th>Date</th>\n",
       "      <th>Country</th>\n",
       "      <th>Gender</th>\n",
       "      <th>Age</th>\n",
       "      <th>EstimatedSalary</th>\n",
       "      <th>Purchased</th>\n",
       "    </tr>\n",
       "  </thead>\n",
       "  <tbody>\n",
       "  </tbody>\n",
       "</table>\n",
       "</div>"
      ],
      "text/plain": [
       "Empty DataFrame\n",
       "Columns: [User ID, Date, Country, Gender, Age, EstimatedSalary, Purchased]\n",
       "Index: []"
      ]
     },
     "execution_count": 50,
     "metadata": {},
     "output_type": "execute_result"
    }
   ],
   "source": [
    "data[data[\"EstimatedSalary\"] > 155500]"
   ]
  },
  {
   "cell_type": "markdown",
   "id": "62549626",
   "metadata": {},
   "source": [
    "### 2. Replace Lower outliers with lower boundary and Upper outliers with upper boundary"
   ]
  },
  {
   "cell_type": "markdown",
   "id": "dfa8421e",
   "metadata": {},
   "source": [
    "Only replace if the values are close to each other"
   ]
  }
 ],
 "metadata": {
  "kernelspec": {
   "display_name": "Python 3 (ipykernel)",
   "language": "python",
   "name": "python3"
  },
  "language_info": {
   "codemirror_mode": {
    "name": "ipython",
    "version": 3
   },
   "file_extension": ".py",
   "mimetype": "text/x-python",
   "name": "python",
   "nbconvert_exporter": "python",
   "pygments_lexer": "ipython3",
   "version": "3.9.7"
  }
 },
 "nbformat": 4,
 "nbformat_minor": 5
}
