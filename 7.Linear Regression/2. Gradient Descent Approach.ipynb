{
 "cells": [
  {
   "cell_type": "markdown",
   "id": "5e1f9e7e",
   "metadata": {},
   "source": [
    "# Gradient Descent Approach"
   ]
  },
  {
   "cell_type": "markdown",
   "id": "b6e5a17a",
   "metadata": {},
   "source": [
    "If we don't use Gradient Descent Approach and randomly update m and c value. It will take so many time, to get the best fit line , if we update m and c values without any strategy. So here we are using gradient descent strategy to update m and c values"
   ]
  },
  {
   "cell_type": "markdown",
   "id": "f0871efc",
   "metadata": {},
   "source": [
    "Assume that c is constant. Lets assume that when we start the Gradient Descent strategy. We randomly select some m value \n",
    "\n",
    "    Assume that m=1000 and we got error e=20 after applying the formula\n",
    "\n",
    "    Then reduced the m to 900 and we got error e=15\n",
    "\n",
    "    Then , m = 800 -> e=10\n",
    "\n",
    "    Then, m = 500 -> e=5\n",
    "    \n",
    "    Here we can see that m is directly Proportional to e\n",
    "    \n",
    "    \n",
    "Another Example\n",
    "\n",
    "    m=1000 -> e=20\n",
    "    \n",
    "    m=1100 -> e=10\n",
    "    \n",
    "    m=1500 -> e=5\n",
    "    \n",
    "    Here we can see that m value is inversely proportional to e value\n",
    "    \n",
    "  \n",
    "    "
   ]
  },
  {
   "cell_type": "markdown",
   "id": "c965f2a1",
   "metadata": {},
   "source": [
    "In Gradient Descent Approach we are identifying what is the relationship between m and e value . ie, How much is the change in e value with respect to the change in m value. We are identifying Whether e is increasing or decreasing with the increase or decrease in m value.\n",
    "\n",
    "ie, **_Change  in error with respect to the change in slope_**\n",
    "\n",
    "\n",
    "$ d_e -> Change \\ in \\ error $\n",
    "\n",
    "$ d_m ->Change \\ in \\ slope $\n",
    "\n",
    "_What we have to find out is the change in error with the change in slope_\n",
    "\n",
    "# $ gradient = \\frac{d_e}{d_m}$\n",
    " \n",
    " _We are trying to reduce the gradient to zero, means in an ideal case $\\frac{d_e}{d_m}$ will be equal to zero, In that we can see that there is no change in error with respect to the change in slope_\n",
    "\n",
    "**_Descent means we are reducing the error_**\n"
   ]
  },
  {
   "cell_type": "markdown",
   "id": "654be6d8",
   "metadata": {},
   "source": [
    "### Now to find c we are using the same approach"
   ]
  },
  {
   "cell_type": "markdown",
   "id": "ca37b8d6",
   "metadata": {},
   "source": [
    "$ d_e -> Change \\ in \\ error $\n",
    "\n",
    "$ d_c -> Change \\ in \\ constant $\n",
    "\n",
    "### $\\frac{d_e}{d_c}  $ _-> Change in error with respect to the change in constant_"
   ]
  },
  {
   "cell_type": "markdown",
   "id": "5556fd1a",
   "metadata": {},
   "source": [
    "## _The main goal in Simple Linear Regression is to find the best m and c value_"
   ]
  },
  {
   "cell_type": "markdown",
   "id": "2d292eac",
   "metadata": {},
   "source": [
    "So the m and c value will be updated as a function of  $\\frac{d_e}{d_c} $ and $\\frac{d_e}{d_m} $"
   ]
  },
  {
   "cell_type": "markdown",
   "id": "21f4e7a8",
   "metadata": {},
   "source": [
    "## So , The new formula for updating m and c values is , "
   ]
  },
  {
   "cell_type": "markdown",
   "id": "a7b622cb",
   "metadata": {},
   "source": [
    "# $m_{new} = m_{old} - \\frac{de}{dm}$\n",
    "\n",
    "First time , m_old will be the randomly selected m value"
   ]
  },
  {
   "cell_type": "markdown",
   "id": "4439ec6a",
   "metadata": {},
   "source": [
    "# $c_{new} = c_{old} - \\frac{de}{dc}$\n"
   ]
  },
  {
   "cell_type": "markdown",
   "id": "ebf9ed03",
   "metadata": {},
   "source": [
    "First time , c_old will be the randomly selected c value"
   ]
  },
  {
   "cell_type": "markdown",
   "id": "bda7cd7c",
   "metadata": {},
   "source": [
    "# Why $\\frac{d_e}{d_c}$ and $\\frac{d_e}{d_m}$ is subtracting from c and m value ?\n"
   ]
  },
  {
   "cell_type": "markdown",
   "id": "242b8be2",
   "metadata": {},
   "source": [
    "$$ \\\\ $$\n",
    "\n",
    "In our $\\frac{d_e}{d_m}$, if m and e are directly proportional, then the $\\frac{d_e}{d_m}$ will be positive\n",
    "\n",
    "if m and e are inversely proportional, then the $\\frac{d_e}{d_m}$ will be negative\n",
    "\n",
    "\n",
    "Let assume that $\\frac{d_e}{d_m}$ is positive. ie, m and e are Directly propositional(Decrease in m value, Decreases the e value) so to get the best e value we should decrease the m value , so the equation will be,\n",
    "\n",
    "\n",
    "## $m_{new} = m_{old} - \\frac{de}{dm}$\n",
    "\n",
    "If our $\\frac{d_e}{d_m}$ is negative. ie,m and e are Inversely propositional(Increase in m value decreases the e value) so to get the best e value we should increase the m value , so the equation will be\n",
    "\n",
    "## $m_{new} = m_{old} - (-\\frac{de}{dm})$\n",
    "\n",
    "ie,\n",
    "\n",
    "## $m_{new} = m_{old} + \\frac{de}{dm}$\n",
    "\n",
    "Which will increase the m value,(It is also applicable in the case of  $\\frac{d_e}{d_c}$ too)\n",
    "\n",
    "that why we are subtracting  $\\frac{d_e}{d_c}$ and $\\frac{d_e}{d_m}$ from c and m value in respective equations"
   ]
  },
  {
   "cell_type": "markdown",
   "id": "7293b0f8",
   "metadata": {},
   "source": [
    "## How do we get the value of $\\frac {d_e}{d_m}$ ?"
   ]
  },
  {
   "cell_type": "code",
   "execution_count": null,
   "id": "dedfe31e",
   "metadata": {},
   "outputs": [],
   "source": []
  }
 ],
 "metadata": {
  "kernelspec": {
   "display_name": "Python 3 (ipykernel)",
   "language": "python",
   "name": "python3"
  },
  "language_info": {
   "codemirror_mode": {
    "name": "ipython",
    "version": 3
   },
   "file_extension": ".py",
   "mimetype": "text/x-python",
   "name": "python",
   "nbconvert_exporter": "python",
   "pygments_lexer": "ipython3",
   "version": "3.9.7"
  }
 },
 "nbformat": 4,
 "nbformat_minor": 5
}
