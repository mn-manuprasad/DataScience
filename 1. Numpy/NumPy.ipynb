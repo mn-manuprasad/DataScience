{
 "cells": [
  {
   "cell_type": "code",
   "execution_count": 1,
   "id": "e44548bc",
   "metadata": {},
   "outputs": [],
   "source": [
    "import numpy as np"
   ]
  },
  {
   "cell_type": "markdown",
   "id": "e4d56d7f",
   "metadata": {},
   "source": [
    "### Functions For Creating Arrays in Numpy\n",
    "#### 1. array()\n",
    "#### 2. linspace()\n",
    "#### 3. logspace()\n",
    "#### 4. arange()\n",
    "#### 5. zeros()\n",
    "#### 6. omes()\n",
    "#### 7. eye()\n",
    "#### 8. random.rand()\n"
   ]
  },
  {
   "cell_type": "markdown",
   "id": "5e05420e",
   "metadata": {
    "pycharm": {
     "name": "#%% md\n"
    }
   },
   "source": [
    "### 1. array()"
   ]
  },
  {
   "cell_type": "markdown",
   "id": "ba08625d",
   "metadata": {},
   "source": [
    "###### Array is a group of Similar elements\n",
    "\n",
    "###### Array Supports indexing, Slicing , Duplicate Values, \n",
    "###### Arrays are muttable\n"
   ]
  },
  {
   "cell_type": "code",
   "execution_count": 2,
   "id": "1b876b86",
   "metadata": {
    "pycharm": {
     "name": "#%%\n"
    }
   },
   "outputs": [
    {
     "data": {
      "text/plain": [
       "array([1, 2, 3, 4, 5])"
      ]
     },
     "execution_count": 2,
     "metadata": {},
     "output_type": "execute_result"
    }
   ],
   "source": [
    "np.array([1,2,3,4,5])"
   ]
  },
  {
   "cell_type": "code",
   "execution_count": 3,
   "id": "7d2e1100",
   "metadata": {
    "pycharm": {
     "name": "#%%\n"
    }
   },
   "outputs": [
    {
     "data": {
      "text/plain": [
       "array([1, 2, 3])"
      ]
     },
     "execution_count": 3,
     "metadata": {},
     "output_type": "execute_result"
    }
   ],
   "source": [
    "arr = np.array([1,2,3,4,5])\n",
    "arr[0:3]"
   ]
  },
  {
   "cell_type": "markdown",
   "id": "1f70713c",
   "metadata": {
    "pycharm": {
     "name": "#%% md\n"
    }
   },
   "source": [
    "### Properties Of Numpy Array"
   ]
  },
  {
   "cell_type": "code",
   "execution_count": 4,
   "id": "0b7098a7",
   "metadata": {
    "pycharm": {
     "name": "#%%\n"
    }
   },
   "outputs": [
    {
     "data": {
      "text/plain": [
       "1"
      ]
     },
     "execution_count": 4,
     "metadata": {},
     "output_type": "execute_result"
    }
   ],
   "source": [
    "arr.ndim  # Dimension of numpy Array"
   ]
  },
  {
   "cell_type": "code",
   "execution_count": 5,
   "id": "ecba7342",
   "metadata": {
    "pycharm": {
     "name": "#%%\n"
    }
   },
   "outputs": [
    {
     "data": {
      "text/plain": [
       "(5,)"
      ]
     },
     "execution_count": 5,
     "metadata": {},
     "output_type": "execute_result"
    }
   ],
   "source": [
    "arr.shape # How many elements present in each dimension"
   ]
  },
  {
   "cell_type": "code",
   "execution_count": 6,
   "id": "682feaaa",
   "metadata": {
    "pycharm": {
     "name": "#%%\n"
    }
   },
   "outputs": [
    {
     "data": {
      "text/plain": [
       "5"
      ]
     },
     "execution_count": 6,
     "metadata": {},
     "output_type": "execute_result"
    }
   ],
   "source": [
    "arr.size #No. of elements in entire array"
   ]
  },
  {
   "cell_type": "code",
   "execution_count": 7,
   "id": "ac98e994",
   "metadata": {
    "pycharm": {
     "name": "#%%\n"
    }
   },
   "outputs": [
    {
     "data": {
      "text/plain": [
       "dtype('int32')"
      ]
     },
     "execution_count": 7,
     "metadata": {},
     "output_type": "execute_result"
    }
   ],
   "source": [
    "arr.dtype # Data type of elements"
   ]
  },
  {
   "cell_type": "raw",
   "id": "e710ba5c",
   "metadata": {
    "pycharm": {
     "name": "#%% raw\n"
    }
   },
   "source": [
    " Number of Bits       Min.Value      Max.Value\n",
    "\n",
    "    08 bit             -128           127\n",
    "    16 bit            -32768         32767\n",
    "    32 bit          -2147483648     2147483647"
   ]
  },
  {
   "cell_type": "markdown",
   "id": "0daa0778",
   "metadata": {
    "pycharm": {
     "name": "#%% md\n"
    }
   },
   "source": [
    "##### So if we know the capacity or maximum value of the data then change the type of data accordingly which can help reducing the size of data"
   ]
  },
  {
   "cell_type": "code",
   "execution_count": 8,
   "id": "c03d9ddb",
   "metadata": {
    "pycharm": {
     "name": "#%%\n"
    }
   },
   "outputs": [
    {
     "data": {
      "text/plain": [
       "20"
      ]
     },
     "execution_count": 8,
     "metadata": {},
     "output_type": "execute_result"
    }
   ],
   "source": [
    "arr.nbytes # Gives the total number of bytes consumed by the elements of the numpy array"
   ]
  },
  {
   "cell_type": "markdown",
   "id": "ff1edb26",
   "metadata": {},
   "source": [
    "##### If we change int32 to int8 we can see the difference"
   ]
  },
  {
   "cell_type": "code",
   "execution_count": 9,
   "id": "7655cf2c",
   "metadata": {
    "pycharm": {
     "name": "#%%\n"
    }
   },
   "outputs": [],
   "source": [
    "arr = arr.astype(\"int8\") #Converts one Data type to another Data type"
   ]
  },
  {
   "cell_type": "code",
   "execution_count": 10,
   "id": "90b581fa",
   "metadata": {},
   "outputs": [
    {
     "data": {
      "text/plain": [
       "5"
      ]
     },
     "execution_count": 10,
     "metadata": {},
     "output_type": "execute_result"
    }
   ],
   "source": [
    "arr.nbytes"
   ]
  },
  {
   "cell_type": "markdown",
   "id": "3613f4de",
   "metadata": {},
   "source": [
    "##### Previously it had taken 20 bytes,But when we changed int32 to int8 . now its only taking 5 bytes"
   ]
  },
  {
   "cell_type": "code",
   "execution_count": 11,
   "id": "5ac39bcd",
   "metadata": {},
   "outputs": [],
   "source": [
    "arr2 = np.array([5,6,8,8,10],dtype=\"int8\") #We can also specify the datatype during the assignment"
   ]
  },
  {
   "cell_type": "raw",
   "id": "fa2317e4",
   "metadata": {},
   "source": [
    "But what if the array contains a value that is not in the range of a particular data type \n",
    "\n",
    "for Example:\n",
    "\n",
    "arr = np.array([4,5,6,7,8,400],dtype=\"int8\")\n",
    "\n",
    "Here int8 can only hold values in the range of -128 - 127\n",
    "\n",
    "Here what happens is the 400 will be converted to some arbitory number\n",
    "\n"
   ]
  },
  {
   "cell_type": "markdown",
   "id": "ca415b65",
   "metadata": {},
   "source": [
    "##### This is called quantization( Reducing the number of bytes data taking in the memmory)"
   ]
  },
  {
   "cell_type": "code",
   "execution_count": 12,
   "id": "78d2d345",
   "metadata": {},
   "outputs": [
    {
     "data": {
      "text/plain": [
       "array([1, 2, 3, 4, 5], dtype=int8)"
      ]
     },
     "execution_count": 12,
     "metadata": {},
     "output_type": "execute_result"
    }
   ],
   "source": [
    "# Example\n",
    "arr3 = np.array([4,5,6,7,8,400],dtype=\"int8\")\n",
    "arr"
   ]
  },
  {
   "cell_type": "code",
   "execution_count": 13,
   "id": "96a7d975",
   "metadata": {},
   "outputs": [
    {
     "data": {
      "text/plain": [
       "dtype('float64')"
      ]
     },
     "execution_count": 13,
     "metadata": {},
     "output_type": "execute_result"
    }
   ],
   "source": [
    "arr4 = np.array([4.3,5,6,7,8,400])\n",
    "arr4.dtype\n"
   ]
  },
  {
   "cell_type": "markdown",
   "id": "8af8b8b2",
   "metadata": {},
   "source": [
    "##### Array is a collection of similar elements . So if there is one disimilar element in the array then all the elements in the array will be converted to the largest datatype"
   ]
  },
  {
   "cell_type": "code",
   "execution_count": 14,
   "id": "cd8e46a4",
   "metadata": {},
   "outputs": [
    {
     "data": {
      "text/plain": [
       "array(['1', '2', '3', 'manu'], dtype='<U11')"
      ]
     },
     "execution_count": 14,
     "metadata": {},
     "output_type": "execute_result"
    }
   ],
   "source": [
    "arr5  = np.array([1,2,3,\"manu\"])\n",
    "arr5"
   ]
  },
  {
   "cell_type": "code",
   "execution_count": 15,
   "id": "2748a5b4",
   "metadata": {},
   "outputs": [
    {
     "data": {
      "text/plain": [
       "dtype('<U11')"
      ]
     },
     "execution_count": 15,
     "metadata": {},
     "output_type": "execute_result"
    }
   ],
   "source": [
    "arr5.dtype"
   ]
  },
  {
   "cell_type": "raw",
   "id": "a087d178",
   "metadata": {},
   "source": [
    "Here U -> Unicode String \n",
    "\n",
    "<U11 Means \n",
    "\n",
    "Following symbols indicate how data is stored in the from of bytes in memory\n",
    "\n",
    "     < --- Little Endian\n",
    "     > --- Big Endian\n",
    "     = --- Default Hardware\n",
    "     \n",
    "    11 -> No of bytes it taking to store each value"
   ]
  },
  {
   "cell_type": "raw",
   "id": "1652047e",
   "metadata": {},
   "source": [
    "By deafult it is taking it is taking 11 bytes But we can change that"
   ]
  },
  {
   "cell_type": "code",
   "execution_count": 16,
   "id": "16ea0036",
   "metadata": {},
   "outputs": [
    {
     "data": {
      "text/plain": [
       "array(['1', '2', '3', 'manu'], dtype='<U4')"
      ]
     },
     "execution_count": 16,
     "metadata": {},
     "output_type": "execute_result"
    }
   ],
   "source": [
    "arr5.astype(\"<U4\")"
   ]
  },
  {
   "cell_type": "markdown",
   "id": "6d4e6747",
   "metadata": {},
   "source": [
    "###### It only need the number of bytes , that is needed for the largest element in the array to store in memory, Here largest element is \"manu\" which requires only 4 bytes "
   ]
  },
  {
   "cell_type": "raw",
   "id": "0caf8257",
   "metadata": {},
   "source": [
    "So if we change <U4 to <U3. It automatically remove one character(Most Probably the Last Character"
   ]
  },
  {
   "cell_type": "code",
   "execution_count": 17,
   "id": "4ca9e792",
   "metadata": {},
   "outputs": [
    {
     "data": {
      "text/plain": [
       "array(['1', '2', '3', 'man'], dtype='<U3')"
      ]
     },
     "execution_count": 17,
     "metadata": {},
     "output_type": "execute_result"
    }
   ],
   "source": [
    "arr5 = arr5.astype(\"<U3\")\n",
    "arr5"
   ]
  },
  {
   "cell_type": "code",
   "execution_count": 18,
   "id": "38acf62f",
   "metadata": {},
   "outputs": [],
   "source": [
    "# Another Example\n",
    "arr6 = np.array([\"Python\",\"Java\",\"Ruby\",\"Rust\"])"
   ]
  },
  {
   "cell_type": "code",
   "execution_count": 19,
   "id": "4f408651",
   "metadata": {},
   "outputs": [
    {
     "data": {
      "text/plain": [
       "dtype('<U6')"
      ]
     },
     "execution_count": 19,
     "metadata": {},
     "output_type": "execute_result"
    }
   ],
   "source": [
    "arr6.dtype"
   ]
  },
  {
   "cell_type": "code",
   "execution_count": 20,
   "id": "8adf535e",
   "metadata": {},
   "outputs": [],
   "source": [
    "arr7 = np.array([16,1,16,1,2,3,4,4,4,5,16])"
   ]
  },
  {
   "cell_type": "markdown",
   "id": "49763bce",
   "metadata": {},
   "source": [
    "###  Array Slicing & Indexing"
   ]
  },
  {
   "cell_type": "code",
   "execution_count": 21,
   "id": "e6478189",
   "metadata": {},
   "outputs": [
    {
     "data": {
      "text/plain": [
       "16"
      ]
     },
     "execution_count": 21,
     "metadata": {},
     "output_type": "execute_result"
    }
   ],
   "source": [
    "arr7[-1] #last Index"
   ]
  },
  {
   "cell_type": "code",
   "execution_count": 22,
   "id": "eec31fdc",
   "metadata": {},
   "outputs": [
    {
     "data": {
      "text/plain": [
       "array([ 1, 16,  1,  2,  3])"
      ]
     },
     "execution_count": 22,
     "metadata": {},
     "output_type": "execute_result"
    }
   ],
   "source": [
    "arr7[1:6]"
   ]
  },
  {
   "cell_type": "code",
   "execution_count": 23,
   "id": "49dcf9cf",
   "metadata": {},
   "outputs": [
    {
     "data": {
      "text/plain": [
       "array([ 16,   1, 100,   1,   2,   3,   4,   4,   4,   5,  16])"
      ]
     },
     "execution_count": 23,
     "metadata": {},
     "output_type": "execute_result"
    }
   ],
   "source": [
    "arr7[2] = 100 # Array is muttable\n",
    "arr7"
   ]
  },
  {
   "cell_type": "markdown",
   "id": "d224ea6a",
   "metadata": {},
   "source": [
    "### Adding and Deleting Elements"
   ]
  },
  {
   "cell_type": "markdown",
   "id": "69605af7",
   "metadata": {},
   "source": [
    "##### append() add elements to the end of the array"
   ]
  },
  {
   "cell_type": "code",
   "execution_count": 24,
   "id": "9979b646",
   "metadata": {},
   "outputs": [
    {
     "data": {
      "text/plain": [
       "array([ 16,   1, 100,   1,   2,   3,   4,   4,   4,   5,  16,   6])"
      ]
     },
     "execution_count": 24,
     "metadata": {},
     "output_type": "execute_result"
    }
   ],
   "source": [
    "arr7 = np.append(arr7, 6) # Appending one element \n",
    "arr7"
   ]
  },
  {
   "cell_type": "code",
   "execution_count": 25,
   "id": "e6819cd2",
   "metadata": {},
   "outputs": [
    {
     "data": {
      "text/plain": [
       "array([ 16,   1, 100,   1,   2,   3,   4,   4,   4,   5,  16,   6,   2,\n",
       "         3,   4,   7,  19])"
      ]
     },
     "execution_count": 25,
     "metadata": {},
     "output_type": "execute_result"
    }
   ],
   "source": [
    "arr7 = np.append(arr7,[2,3,4,7,19]) # Appeding multiple elements\n",
    "arr7"
   ]
  },
  {
   "cell_type": "markdown",
   "id": "8dc053fa",
   "metadata": {},
   "source": [
    "###### To Insert element at a particular position -> insert(arr,index,value)"
   ]
  },
  {
   "cell_type": "code",
   "execution_count": 26,
   "id": "97b84e0f",
   "metadata": {},
   "outputs": [
    {
     "data": {
      "text/plain": [
       "array([ 16,   1, 100,   1,   2, 189,   3,   4,   4,   4,   5,  16,   6,\n",
       "         2,   3,   4,   7,  19])"
      ]
     },
     "execution_count": 26,
     "metadata": {},
     "output_type": "execute_result"
    }
   ],
   "source": [
    "arr7 = np.insert(arr7,5,189)\n",
    "arr7"
   ]
  },
  {
   "cell_type": "code",
   "execution_count": 27,
   "id": "7b7a3bae",
   "metadata": {},
   "outputs": [
    {
     "data": {
      "text/plain": [
       "array([ 16,   1,   5,   6,   7,   8, 100,   1,   2, 189,   3,   4,   4,\n",
       "         4,   5,  16,   6,   2,   3,   4,   7,  19])"
      ]
     },
     "execution_count": 27,
     "metadata": {},
     "output_type": "execute_result"
    }
   ],
   "source": [
    "arr7 = np.insert(arr7,2,[5,6,7,8])\n",
    "arr7"
   ]
  },
  {
   "cell_type": "markdown",
   "id": "e991d526",
   "metadata": {},
   "source": [
    "##### To find the index of a element based on a condion -> where(condition)"
   ]
  },
  {
   "cell_type": "code",
   "execution_count": 28,
   "id": "161305f8",
   "metadata": {},
   "outputs": [
    {
     "data": {
      "text/plain": [
       "(array([10, 18], dtype=int64),)"
      ]
     },
     "execution_count": 28,
     "metadata": {},
     "output_type": "execute_result"
    }
   ],
   "source": [
    "np.where(arr7==3)"
   ]
  },
  {
   "cell_type": "raw",
   "id": "df94ca14",
   "metadata": {},
   "source": [
    "Return all the index's of elements which satisfies the condition"
   ]
  },
  {
   "cell_type": "code",
   "execution_count": 29,
   "id": "b98f598c",
   "metadata": {},
   "outputs": [
    {
     "data": {
      "text/plain": [
       "10"
      ]
     },
     "execution_count": 29,
     "metadata": {},
     "output_type": "execute_result"
    }
   ],
   "source": [
    "np.where(arr7==3)[0][0] # To get the first index of the element "
   ]
  },
  {
   "cell_type": "code",
   "execution_count": 30,
   "id": "1c5199ec",
   "metadata": {},
   "outputs": [
    {
     "data": {
      "text/plain": [
       "(array([ 1,  7,  8, 10, 11, 12, 13, 17, 18, 19], dtype=int64),)"
      ]
     },
     "execution_count": 30,
     "metadata": {},
     "output_type": "execute_result"
    }
   ],
   "source": [
    "np.where(arr7 < 5) # Index of elements whose value is less than 5"
   ]
  },
  {
   "cell_type": "code",
   "execution_count": 31,
   "id": "fa9c27e6",
   "metadata": {},
   "outputs": [
    {
     "data": {
      "text/plain": [
       "(array([ 1,  7,  8, 10, 11, 12, 13, 17, 18, 19], dtype=int64),)"
      ]
     },
     "execution_count": 31,
     "metadata": {},
     "output_type": "execute_result"
    }
   ],
   "source": [
    "np.where(arr7 < 5)"
   ]
  },
  {
   "cell_type": "markdown",
   "id": "a525d129",
   "metadata": {},
   "source": [
    "###### Delete an element from array (Based on Index)-> delete(array_name,index)"
   ]
  },
  {
   "cell_type": "code",
   "execution_count": 32,
   "id": "dd75cf1e",
   "metadata": {},
   "outputs": [
    {
     "data": {
      "text/plain": [
       "array([ 16,   5,   6,   7,   8, 100,   1,   2, 189,   3,   4,   4,   4,\n",
       "         5,  16,   6,   2,   3,   4,   7,  19])"
      ]
     },
     "execution_count": 32,
     "metadata": {},
     "output_type": "execute_result"
    }
   ],
   "source": [
    "np.delete(arr7,1) # Element at 1st Index is removed"
   ]
  },
  {
   "cell_type": "markdown",
   "id": "6d4bbfec",
   "metadata": {},
   "source": [
    "###### Delete an element from array (Based on Value)"
   ]
  },
  {
   "cell_type": "code",
   "execution_count": 33,
   "id": "77df634e",
   "metadata": {},
   "outputs": [
    {
     "data": {
      "text/plain": [
       "4"
      ]
     },
     "execution_count": 33,
     "metadata": {},
     "output_type": "execute_result"
    }
   ],
   "source": [
    "np.where(arr7 == 7)[0][0] "
   ]
  },
  {
   "cell_type": "code",
   "execution_count": 34,
   "id": "a3280ed1",
   "metadata": {},
   "outputs": [
    {
     "data": {
      "text/plain": [
       "array([ 16,   1,   5,   6,   8, 100,   1,   2, 189,   3,   4,   4,   4,\n",
       "         5,  16,   6,   2,   3,   4,   7,  19])"
      ]
     },
     "execution_count": 34,
     "metadata": {},
     "output_type": "execute_result"
    }
   ],
   "source": [
    "arr7=np.delete(arr7,np.where(arr7 == 7)[0][0]) #Delete a single element\n",
    "arr7"
   ]
  },
  {
   "cell_type": "code",
   "execution_count": 35,
   "id": "95faa094",
   "metadata": {},
   "outputs": [
    {
     "data": {
      "text/plain": [
       "array([ 16,   1,   5,   6,   8, 100,   1,   2, 189,   3,   5,  16,   6,\n",
       "         2,   3,   7,  19])"
      ]
     },
     "execution_count": 35,
     "metadata": {},
     "output_type": "execute_result"
    }
   ],
   "source": [
    "arr7=np.delete(arr7,np.where(arr7==4)) # Removing All the occurence of 4\n",
    "arr7"
   ]
  },
  {
   "cell_type": "markdown",
   "id": "aefe4a20",
   "metadata": {},
   "source": [
    "####  Boolean Indexing (Filters)"
   ]
  },
  {
   "cell_type": "code",
   "execution_count": 36,
   "id": "99fc830c",
   "metadata": {},
   "outputs": [],
   "source": [
    "arr8 = np.array([16,1,16,1,2,3,3,3,4,56,16])"
   ]
  },
  {
   "cell_type": "code",
   "execution_count": 37,
   "id": "e38981a1",
   "metadata": {},
   "outputs": [
    {
     "data": {
      "text/plain": [
       "array([ True, False,  True, False, False, False, False, False, False,\n",
       "       False,  True])"
      ]
     },
     "execution_count": 37,
     "metadata": {},
     "output_type": "execute_result"
    }
   ],
   "source": [
    "arr8 == 16 # Where ever we have 16 it returns True"
   ]
  },
  {
   "cell_type": "code",
   "execution_count": 38,
   "id": "debcd953",
   "metadata": {},
   "outputs": [
    {
     "data": {
      "text/plain": [
       "array([16, 16, 16])"
      ]
     },
     "execution_count": 38,
     "metadata": {},
     "output_type": "execute_result"
    }
   ],
   "source": [
    "arr8[arr8==16] # Gives value"
   ]
  },
  {
   "cell_type": "code",
   "execution_count": 39,
   "id": "43ff4ee8",
   "metadata": {},
   "outputs": [
    {
     "data": {
      "text/plain": [
       "array([False,  True, False,  True,  True,  True,  True,  True,  True,\n",
       "       False, False])"
      ]
     },
     "execution_count": 39,
     "metadata": {},
     "output_type": "execute_result"
    }
   ],
   "source": [
    "arr8<5  # Based On Condition Returns True for elements which is less than 5"
   ]
  },
  {
   "cell_type": "code",
   "execution_count": 40,
   "id": "59e21c3e",
   "metadata": {},
   "outputs": [
    {
     "data": {
      "text/plain": [
       "array([1, 1, 2, 3, 3, 3, 4])"
      ]
     },
     "execution_count": 40,
     "metadata": {},
     "output_type": "execute_result"
    }
   ],
   "source": [
    "arr8[arr8<5] # Gives elements which is less than 5"
   ]
  },
  {
   "cell_type": "markdown",
   "id": "7162ce3e",
   "metadata": {},
   "source": [
    "###### Multiple Condtion In Boolean Indexing"
   ]
  },
  {
   "cell_type": "raw",
   "id": "a8e54126",
   "metadata": {},
   "source": [
    "    Here in numpy Boolean Indexing\n",
    "    and ---> &\n",
    "    or ----> |"
   ]
  },
  {
   "cell_type": "code",
   "execution_count": 41,
   "id": "d4346186",
   "metadata": {},
   "outputs": [
    {
     "data": {
      "text/plain": [
       "array([False, False, False, False, False, False, False, False, False,\n",
       "        True, False])"
      ]
     },
     "execution_count": 41,
     "metadata": {},
     "output_type": "execute_result"
    }
   ],
   "source": [
    "(arr8 > 20) & (arr8 < 60) # Index of elements which are greater than 20 and less than 60"
   ]
  },
  {
   "cell_type": "code",
   "execution_count": 42,
   "id": "f962cc48",
   "metadata": {},
   "outputs": [
    {
     "data": {
      "text/plain": [
       "array([56])"
      ]
     },
     "execution_count": 42,
     "metadata": {},
     "output_type": "execute_result"
    }
   ],
   "source": [
    "arr8[(arr8 > 20) & (arr8 < 60)]"
   ]
  },
  {
   "cell_type": "markdown",
   "id": "57dcadb0",
   "metadata": {},
   "source": [
    "### 2D Array"
   ]
  },
  {
   "cell_type": "code",
   "execution_count": 43,
   "id": "9180d4c0",
   "metadata": {},
   "outputs": [],
   "source": [
    "arr9 = np.array([[1,2,3,4],[5,6,7,8],[9,10,11,12]])"
   ]
  },
  {
   "cell_type": "code",
   "execution_count": 44,
   "id": "791853c2",
   "metadata": {},
   "outputs": [
    {
     "data": {
      "text/plain": [
       "array([[ 1,  2,  3,  4],\n",
       "       [ 5,  6,  7,  8],\n",
       "       [ 9, 10, 11, 12]])"
      ]
     },
     "execution_count": 44,
     "metadata": {},
     "output_type": "execute_result"
    }
   ],
   "source": [
    "arr9"
   ]
  },
  {
   "cell_type": "code",
   "execution_count": 45,
   "id": "9d8bb7e4",
   "metadata": {},
   "outputs": [
    {
     "data": {
      "text/plain": [
       "2"
      ]
     },
     "execution_count": 45,
     "metadata": {},
     "output_type": "execute_result"
    }
   ],
   "source": [
    "arr9.ndim"
   ]
  },
  {
   "cell_type": "code",
   "execution_count": 46,
   "id": "c18e0f3f",
   "metadata": {},
   "outputs": [
    {
     "data": {
      "text/plain": [
       "(3, 4)"
      ]
     },
     "execution_count": 46,
     "metadata": {},
     "output_type": "execute_result"
    }
   ],
   "source": [
    "arr9.shape  "
   ]
  },
  {
   "cell_type": "raw",
   "id": "9def1a8f",
   "metadata": {},
   "source": [
    "(3,4) Indicates \n",
    "     \n",
    "     No of elements in first dimension is --> 3\n",
    "     No of elements in Second dimension is --> 4\n",
    "     \n",
    "      [[ 1,  2,  3,  4],\n",
    "       [ 5,  6,  7,  8],\n",
    "       [ 9, 10, 11, 12]])\n",
    "     "
   ]
  },
  {
   "cell_type": "code",
   "execution_count": 47,
   "id": "4c721405",
   "metadata": {},
   "outputs": [
    {
     "data": {
      "text/plain": [
       "12"
      ]
     },
     "execution_count": 47,
     "metadata": {},
     "output_type": "execute_result"
    }
   ],
   "source": [
    "arr9.size # Total Number of elements in the array"
   ]
  },
  {
   "cell_type": "code",
   "execution_count": 48,
   "id": "c9737391",
   "metadata": {},
   "outputs": [
    {
     "name": "stderr",
     "output_type": "stream",
     "text": [
      "C:\\Users\\MANU\\AppData\\Local\\Temp/ipykernel_7868/287533534.py:1: VisibleDeprecationWarning: Creating an ndarray from ragged nested sequences (which is a list-or-tuple of lists-or-tuples-or ndarrays with different lengths or shapes) is deprecated. If you meant to do this, you must specify 'dtype=object' when creating the ndarray.\n",
      "  arr10 =  np.array([[1,2,3,4],[5,6,7,8],[9,10,12],[1,2,3,4],[5,6,7,8],[9,11,12]])\n"
     ]
    }
   ],
   "source": [
    "arr10 =  np.array([[1,2,3,4],[5,6,7,8],[9,10,12],[1,2,3,4],[5,6,7,8],[9,11,12]])"
   ]
  },
  {
   "cell_type": "code",
   "execution_count": 49,
   "id": "a20538fc",
   "metadata": {},
   "outputs": [
    {
     "data": {
      "text/plain": [
       "array([list([1, 2, 3, 4]), list([5, 6, 7, 8]), list([9, 10, 12]),\n",
       "       list([1, 2, 3, 4]), list([5, 6, 7, 8]), list([9, 11, 12])],\n",
       "      dtype=object)"
      ]
     },
     "execution_count": 49,
     "metadata": {},
     "output_type": "execute_result"
    }
   ],
   "source": [
    "arr10"
   ]
  },
  {
   "cell_type": "raw",
   "id": "cd26ffdf",
   "metadata": {},
   "source": [
    "Here the all the inner arrays have the same number of elements\n",
    "Can they have different Number of elements for each array ?\n",
    "It is not possible \n",
    "Beacuse a 2D Array is treated as a matrix \n",
    "if the inner arrays have different number of elements then it is considered as a array of lists"
   ]
  },
  {
   "cell_type": "code",
   "execution_count": 50,
   "id": "be29b000",
   "metadata": {},
   "outputs": [
    {
     "data": {
      "text/plain": [
       "dtype('O')"
      ]
     },
     "execution_count": 50,
     "metadata": {},
     "output_type": "execute_result"
    }
   ],
   "source": [
    "arr10.dtype"
   ]
  },
  {
   "cell_type": "raw",
   "id": "b577a44a",
   "metadata": {},
   "source": [
    "By chance if data is missing then we can fill those places with np.nan "
   ]
  },
  {
   "cell_type": "code",
   "execution_count": 51,
   "id": "4d301259",
   "metadata": {},
   "outputs": [],
   "source": [
    "arr10 =  np.array([[1,2,3,4],[5,6,7,8],[9,10,12,np.nan],[1,2,3,4],[5,6,7,8],[9,11,12,np.nan]])"
   ]
  },
  {
   "cell_type": "code",
   "execution_count": 52,
   "id": "21e2e730",
   "metadata": {},
   "outputs": [
    {
     "data": {
      "text/plain": [
       "array([[ 1.,  2.,  3.,  4.],\n",
       "       [ 5.,  6.,  7.,  8.],\n",
       "       [ 9., 10., 12., nan],\n",
       "       [ 1.,  2.,  3.,  4.],\n",
       "       [ 5.,  6.,  7.,  8.],\n",
       "       [ 9., 11., 12., nan]])"
      ]
     },
     "execution_count": 52,
     "metadata": {},
     "output_type": "execute_result"
    }
   ],
   "source": [
    "arr10"
   ]
  },
  {
   "cell_type": "raw",
   "id": "1f60d73e",
   "metadata": {},
   "source": [
    "But It will Automatically converst the data type to float "
   ]
  },
  {
   "cell_type": "code",
   "execution_count": 53,
   "id": "64ede676",
   "metadata": {},
   "outputs": [
    {
     "data": {
      "text/plain": [
       "dtype('float64')"
      ]
     },
     "execution_count": 53,
     "metadata": {},
     "output_type": "execute_result"
    }
   ],
   "source": [
    "arr10.dtype"
   ]
  },
  {
   "cell_type": "markdown",
   "id": "e1067c06",
   "metadata": {},
   "source": [
    "###  Slicing of 2D Arrays"
   ]
  },
  {
   "cell_type": "code",
   "execution_count": 54,
   "id": "53fbef57",
   "metadata": {},
   "outputs": [
    {
     "data": {
      "text/plain": [
       "array([[ 1.,  2.,  3.,  4.],\n",
       "       [ 5.,  6.,  7.,  8.],\n",
       "       [ 9., 10., 12., nan],\n",
       "       [ 1.,  2.,  3.,  4.],\n",
       "       [ 5.,  6.,  7.,  8.],\n",
       "       [ 9., 11., 12., nan]])"
      ]
     },
     "execution_count": 54,
     "metadata": {},
     "output_type": "execute_result"
    }
   ],
   "source": [
    "arr10"
   ]
  },
  {
   "cell_type": "raw",
   "id": "93f0670b",
   "metadata": {},
   "source": [
    "Syntax -> arr[row,coloumn]"
   ]
  },
  {
   "cell_type": "code",
   "execution_count": 55,
   "id": "9186f1f8",
   "metadata": {},
   "outputs": [
    {
     "data": {
      "text/plain": [
       "3.0"
      ]
     },
     "execution_count": 55,
     "metadata": {},
     "output_type": "execute_result"
    }
   ],
   "source": [
    "arr10[3,2] # Specific Element ( Element in 4th row and 3rd Column)"
   ]
  },
  {
   "cell_type": "code",
   "execution_count": 56,
   "id": "c394de40",
   "metadata": {},
   "outputs": [
    {
     "data": {
      "text/plain": [
       "array([ 9., 10., 12., nan])"
      ]
     },
     "execution_count": 56,
     "metadata": {},
     "output_type": "execute_result"
    }
   ],
   "source": [
    "arr10[2] # Specific row (Getting the elements of 3rd row)"
   ]
  },
  {
   "cell_type": "code",
   "execution_count": 57,
   "id": "cc8ae9a7",
   "metadata": {},
   "outputs": [
    {
     "data": {
      "text/plain": [
       "array([ 9., 10.])"
      ]
     },
     "execution_count": 57,
     "metadata": {},
     "output_type": "execute_result"
    }
   ],
   "source": [
    "arr10[2,:2] # Slicing a specific row ( Here we are slicing the 3rd row)"
   ]
  },
  {
   "cell_type": "code",
   "execution_count": 58,
   "id": "2f1ac9ff",
   "metadata": {},
   "outputs": [
    {
     "data": {
      "text/plain": [
       "array([ 7., 12.])"
      ]
     },
     "execution_count": 58,
     "metadata": {},
     "output_type": "execute_result"
    }
   ],
   "source": [
    "arr10[1:3,2] # Slicing a specific column(Here slicing the 3rd column)"
   ]
  },
  {
   "cell_type": "code",
   "execution_count": 59,
   "id": "8528ea37",
   "metadata": {},
   "outputs": [
    {
     "data": {
      "text/plain": [
       "array([ 2.,  6., 10.,  2.,  6., 11.])"
      ]
     },
     "execution_count": 59,
     "metadata": {},
     "output_type": "execute_result"
    }
   ],
   "source": [
    "arr10[:,1] # Slicing the entire column from the array"
   ]
  },
  {
   "cell_type": "code",
   "execution_count": 60,
   "id": "fae774c0",
   "metadata": {},
   "outputs": [
    {
     "data": {
      "text/plain": [
       "array([1., 2., 3., 4.])"
      ]
     },
     "execution_count": 60,
     "metadata": {},
     "output_type": "execute_result"
    }
   ],
   "source": [
    "arr10[0,:] # Slicing the first row"
   ]
  },
  {
   "cell_type": "code",
   "execution_count": 61,
   "id": "45f178f6",
   "metadata": {},
   "outputs": [
    {
     "data": {
      "text/plain": [
       "array([ 9., 11., 12., nan])"
      ]
     },
     "execution_count": 61,
     "metadata": {},
     "output_type": "execute_result"
    }
   ],
   "source": [
    "arr10[-1,:] # Slicing the last row"
   ]
  },
  {
   "cell_type": "markdown",
   "id": "1946bd6b",
   "metadata": {},
   "source": [
    "### Handling Exponentional Values"
   ]
  },
  {
   "cell_type": "code",
   "execution_count": 62,
   "id": "8b8caa5f",
   "metadata": {},
   "outputs": [],
   "source": [
    "arr11 = np.array([[ 1,  2,  3,  4],\n",
    "       [ 5,  6,  7.54,  8],\n",
    "       [ 9, 10, 12.1, np.nan],\n",
    "       [ 1.456,  2,  3,  4],\n",
    "       [ 5,  6,  7,  8],\n",
    "       [ 9.542, 11, 12, np.nan],\n",
    "       [ 1456,4563,23,234.567],\n",
    "       [4453,6.78,25,78]])"
   ]
  },
  {
   "cell_type": "code",
   "execution_count": 63,
   "id": "19776429",
   "metadata": {},
   "outputs": [
    {
     "data": {
      "text/plain": [
       "array([[1.00000e+00, 2.00000e+00, 3.00000e+00, 4.00000e+00],\n",
       "       [5.00000e+00, 6.00000e+00, 7.54000e+00, 8.00000e+00],\n",
       "       [9.00000e+00, 1.00000e+01, 1.21000e+01,         nan],\n",
       "       [1.45600e+00, 2.00000e+00, 3.00000e+00, 4.00000e+00],\n",
       "       [5.00000e+00, 6.00000e+00, 7.00000e+00, 8.00000e+00],\n",
       "       [9.54200e+00, 1.10000e+01, 1.20000e+01,         nan],\n",
       "       [1.45600e+03, 4.56300e+03, 2.30000e+01, 2.34567e+02],\n",
       "       [4.45300e+03, 6.78000e+00, 2.50000e+01, 7.80000e+01]])"
      ]
     },
     "execution_count": 63,
     "metadata": {},
     "output_type": "execute_result"
    }
   ],
   "source": [
    "arr11"
   ]
  },
  {
   "cell_type": "code",
   "execution_count": 64,
   "id": "0834ed08",
   "metadata": {},
   "outputs": [],
   "source": [
    "np.set_printoptions(precision=2,suppress=True) \n",
    "\n",
    "# Here precision indicates the number of elements after decimal point\n",
    "# and suppress = True -> Supress all the remaining digits after the decimal point"
   ]
  },
  {
   "cell_type": "code",
   "execution_count": 65,
   "id": "9fd3c684",
   "metadata": {},
   "outputs": [
    {
     "data": {
      "text/plain": [
       "array([[   1.  ,    2.  ,    3.  ,    4.  ],\n",
       "       [   5.  ,    6.  ,    7.54,    8.  ],\n",
       "       [   9.  ,   10.  ,   12.1 ,     nan],\n",
       "       [   1.46,    2.  ,    3.  ,    4.  ],\n",
       "       [   5.  ,    6.  ,    7.  ,    8.  ],\n",
       "       [   9.54,   11.  ,   12.  ,     nan],\n",
       "       [1456.  , 4563.  ,   23.  ,  234.57],\n",
       "       [4453.  ,    6.78,   25.  ,   78.  ]])"
      ]
     },
     "execution_count": 65,
     "metadata": {},
     "output_type": "execute_result"
    }
   ],
   "source": [
    "arr11"
   ]
  },
  {
   "cell_type": "code",
   "execution_count": 66,
   "id": "0bf6056d",
   "metadata": {},
   "outputs": [
    {
     "data": {
      "text/plain": [
       "array([ 3.,  7., 12., 23.])"
      ]
     },
     "execution_count": 66,
     "metadata": {},
     "output_type": "execute_result"
    }
   ],
   "source": [
    "arr11[3:7,2]"
   ]
  },
  {
   "cell_type": "code",
   "execution_count": 67,
   "id": "32a32776",
   "metadata": {},
   "outputs": [],
   "source": [
    "# arr11[3:7,2] arr11[:3,0]"
   ]
  },
  {
   "cell_type": "markdown",
   "id": "a221ba65",
   "metadata": {},
   "source": [
    "### 3D Array"
   ]
  },
  {
   "cell_type": "code",
   "execution_count": 68,
   "id": "40c40ef2",
   "metadata": {},
   "outputs": [],
   "source": [
    "arr12 = np.array([\n",
    "    [[ 1,  2,  3,  4],\n",
    "     [ 5,  6,  7,  8],\n",
    "     [ 9, 10, 11, 12]],\n",
    "    \n",
    "    [[ 5,  2,  13,  4],\n",
    "     [ 6,  6,  7,  8],\n",
    "     [ 9, 15, 11, 12]],\n",
    "    \n",
    "    [[ 11,  2,  9,  4],\n",
    "     [ 5,  23,  17,  8],\n",
    "     [ 9, 10, 11, 12]]\n",
    "])"
   ]
  },
  {
   "cell_type": "code",
   "execution_count": 69,
   "id": "76ee21a9",
   "metadata": {},
   "outputs": [
    {
     "data": {
      "text/plain": [
       "array([[[ 1,  2,  3,  4],\n",
       "        [ 5,  6,  7,  8],\n",
       "        [ 9, 10, 11, 12]],\n",
       "\n",
       "       [[ 5,  2, 13,  4],\n",
       "        [ 6,  6,  7,  8],\n",
       "        [ 9, 15, 11, 12]],\n",
       "\n",
       "       [[11,  2,  9,  4],\n",
       "        [ 5, 23, 17,  8],\n",
       "        [ 9, 10, 11, 12]]])"
      ]
     },
     "execution_count": 69,
     "metadata": {},
     "output_type": "execute_result"
    }
   ],
   "source": [
    "arr12"
   ]
  },
  {
   "cell_type": "code",
   "execution_count": 70,
   "id": "ff0b5b0a",
   "metadata": {},
   "outputs": [
    {
     "data": {
      "text/plain": [
       "(3, 3, 4)"
      ]
     },
     "execution_count": 70,
     "metadata": {},
     "output_type": "execute_result"
    }
   ],
   "source": [
    "arr12.shape "
   ]
  },
  {
   "cell_type": "raw",
   "id": "d722df5a",
   "metadata": {},
   "source": [
    "Here the first dimension have 3 elements\n",
    "second dimension has 3 elements\n",
    "and third dimension has 4 elements\n",
    "\n",
    "array( \n",
    "       [1st Dimension\n",
    "       \n",
    "            [ 2nd Dimension\n",
    "\n",
    "                [ 3rd Dimesnion\n",
    "                    1, \n",
    "                    2,\n",
    "                    3,\n",
    "                    4\n",
    "                ],\n",
    "                [ 5,  6,  7,  8],\n",
    "                [ 9, 10, 11, 12]\n",
    "\n",
    "            ],\n",
    "\n",
    "\n",
    "\n",
    "            [ 2nd Dimension\n",
    "\n",
    "                [ 5,  2, 13,  4],\n",
    "                [ 6,  6,  7,  8],\n",
    "                [ 9, 15, 11, 12]\n",
    "\n",
    "            ],\n",
    "\n",
    "\n",
    "\n",
    "            [ 2nd Dimension\n",
    "\n",
    "                [11,  2,  9,  4],\n",
    "                [ 5, 23, 17,  8],\n",
    "                [ 9, 10, 11, 12]\n",
    "\n",
    "            ]\n",
    "        \n",
    "        \n",
    "       ])"
   ]
  },
  {
   "cell_type": "code",
   "execution_count": 71,
   "id": "2a659f4b",
   "metadata": {},
   "outputs": [
    {
     "data": {
      "text/plain": [
       "36"
      ]
     },
     "execution_count": 71,
     "metadata": {},
     "output_type": "execute_result"
    }
   ],
   "source": [
    "arr12.size"
   ]
  },
  {
   "cell_type": "code",
   "execution_count": 72,
   "id": "9444b63b",
   "metadata": {},
   "outputs": [
    {
     "data": {
      "text/plain": [
       "3"
      ]
     },
     "execution_count": 72,
     "metadata": {},
     "output_type": "execute_result"
    }
   ],
   "source": [
    "arr12.ndim"
   ]
  },
  {
   "cell_type": "markdown",
   "id": "ffdbde9f",
   "metadata": {},
   "source": [
    "###### Slicing 3D Array\n"
   ]
  },
  {
   "cell_type": "code",
   "execution_count": 73,
   "id": "33134d98",
   "metadata": {},
   "outputs": [
    {
     "data": {
      "text/plain": [
       "array([[ 7,  8],\n",
       "       [17,  8]])"
      ]
     },
     "execution_count": 73,
     "metadata": {},
     "output_type": "execute_result"
    }
   ],
   "source": [
    "# Syntax arr[1st Dimesnion,2nd Dimension,3rd Dimension]\n",
    "\n",
    "arr12[1:3,1,2:]"
   ]
  },
  {
   "cell_type": "markdown",
   "id": "00679d29",
   "metadata": {},
   "source": [
    "######  Convert  a Muti Dimensional Array to Single Dimensional - flatten()"
   ]
  },
  {
   "cell_type": "code",
   "execution_count": 74,
   "id": "67441226",
   "metadata": {},
   "outputs": [],
   "source": [
    "arr13 = np.array([[1,2,3,4],[5,6,7,8],[9,10,11,12]])"
   ]
  },
  {
   "cell_type": "code",
   "execution_count": 75,
   "id": "be62f972",
   "metadata": {},
   "outputs": [
    {
     "data": {
      "text/plain": [
       "array([[ 1,  2,  3,  4],\n",
       "       [ 5,  6,  7,  8],\n",
       "       [ 9, 10, 11, 12]])"
      ]
     },
     "execution_count": 75,
     "metadata": {},
     "output_type": "execute_result"
    }
   ],
   "source": [
    "arr13"
   ]
  },
  {
   "cell_type": "code",
   "execution_count": 76,
   "id": "fe2f2153",
   "metadata": {},
   "outputs": [
    {
     "data": {
      "text/plain": [
       "array([ 1,  2,  3,  4,  5,  6,  7,  8,  9, 10, 11, 12])"
      ]
     },
     "execution_count": 76,
     "metadata": {},
     "output_type": "execute_result"
    }
   ],
   "source": [
    "arr13.flatten()"
   ]
  },
  {
   "cell_type": "markdown",
   "id": "27e46621",
   "metadata": {},
   "source": [
    "###### Converting Any Dimension to Other Dimension - reshape()"
   ]
  },
  {
   "cell_type": "code",
   "execution_count": 77,
   "id": "b7263d2e",
   "metadata": {},
   "outputs": [
    {
     "data": {
      "text/plain": [
       "array([[ 1,  2,  3,  4],\n",
       "       [ 5,  6,  7,  8],\n",
       "       [ 9, 10, 11, 12]])"
      ]
     },
     "execution_count": 77,
     "metadata": {},
     "output_type": "execute_result"
    }
   ],
   "source": [
    "arr14 = np.array([[1,2,3,4],[5,6,7,8],[9,10,11,12]])\n",
    "arr14"
   ]
  },
  {
   "cell_type": "code",
   "execution_count": 78,
   "id": "48ba76e4",
   "metadata": {},
   "outputs": [
    {
     "data": {
      "text/plain": [
       "(3, 4)"
      ]
     },
     "execution_count": 78,
     "metadata": {},
     "output_type": "execute_result"
    }
   ],
   "source": [
    "arr14.shape"
   ]
  },
  {
   "cell_type": "code",
   "execution_count": 79,
   "id": "a6c1e635",
   "metadata": {},
   "outputs": [
    {
     "data": {
      "text/plain": [
       "12"
      ]
     },
     "execution_count": 79,
     "metadata": {},
     "output_type": "execute_result"
    }
   ],
   "source": [
    "arr14.size"
   ]
  },
  {
   "cell_type": "code",
   "execution_count": null,
   "id": "b79385e7",
   "metadata": {},
   "outputs": [],
   "source": []
  },
  {
   "cell_type": "code",
   "execution_count": 80,
   "id": "f7fb7ff0",
   "metadata": {},
   "outputs": [
    {
     "data": {
      "text/plain": [
       "array([[ 1,  2,  3,  4,  5,  6],\n",
       "       [ 7,  8,  9, 10, 11, 12]])"
      ]
     },
     "execution_count": 80,
     "metadata": {},
     "output_type": "execute_result"
    }
   ],
   "source": [
    "arr14.reshape(2,6)"
   ]
  },
  {
   "cell_type": "raw",
   "id": "9bb4a239",
   "metadata": {},
   "source": [
    "While using reshape the product of arguments should be equal to the number elements in the orginal array\n",
    "\n",
    "example:\n",
    "\n",
    "arr14 has 12 elements in it\n",
    "arr14.reshape(2,6) => 2*6 = 12\n",
    "\n",
    "We can't convert like reshape(2,7) beacuse 2*7 = 14 which is not equal to the number of elements in the orginal array\n",
    "\n",
    "We can convert to an array to any dimesnion but the product of number of elements in each dimension should be equal to the number of elements in the orginal array\n",
    "\n",
    "arr14.reshape(3,2,2) ===> 3*2*2 = 12\n",
    "\n"
   ]
  },
  {
   "cell_type": "code",
   "execution_count": 81,
   "id": "11d9ffe6",
   "metadata": {},
   "outputs": [
    {
     "data": {
      "text/plain": [
       "array([[[ 1,  2],\n",
       "        [ 3,  4]],\n",
       "\n",
       "       [[ 5,  6],\n",
       "        [ 7,  8]],\n",
       "\n",
       "       [[ 9, 10],\n",
       "        [11, 12]]])"
      ]
     },
     "execution_count": 81,
     "metadata": {},
     "output_type": "execute_result"
    }
   ],
   "source": [
    "arr14.reshape(3,2,2)"
   ]
  },
  {
   "cell_type": "markdown",
   "id": "71be1ce7",
   "metadata": {},
   "source": [
    "## arange()"
   ]
  },
  {
   "cell_type": "code",
   "execution_count": 82,
   "id": "ebd03589",
   "metadata": {},
   "outputs": [
    {
     "data": {
      "text/plain": [
       "[0, 2, 4, 6, 8]"
      ]
     },
     "execution_count": 82,
     "metadata": {},
     "output_type": "execute_result"
    }
   ],
   "source": [
    "list(range(0,10,2))"
   ]
  },
  {
   "cell_type": "markdown",
   "id": "368acdc6",
   "metadata": {},
   "source": [
    "###### Disadvantage of range() is we can't give float value as step size. Also we can give start(minimum) and end (maximum) value as a float number"
   ]
  },
  {
   "cell_type": "markdown",
   "id": "3bb13d34",
   "metadata": {},
   "source": [
    "###### range(1.3,5,.1) -> Raise an error"
   ]
  },
  {
   "cell_type": "markdown",
   "id": "79e969fa",
   "metadata": {},
   "source": [
    "######  arange(minimum_value,maximum_value,step_size)"
   ]
  },
  {
   "cell_type": "code",
   "execution_count": 83,
   "id": "99d89eb3",
   "metadata": {},
   "outputs": [
    {
     "data": {
      "text/plain": [
       "array([1.5, 1.6, 1.7, 1.8, 1.9, 2. , 2.1, 2.2])"
      ]
     },
     "execution_count": 83,
     "metadata": {},
     "output_type": "execute_result"
    }
   ],
   "source": [
    "np.arange(1.5,2.3,.1)"
   ]
  },
  {
   "cell_type": "raw",
   "id": "834b5f51",
   "metadata": {},
   "source": [
    "In arange it also support float numbers for max, min and step values"
   ]
  },
  {
   "cell_type": "code",
   "execution_count": 84,
   "id": "52b9c9fb",
   "metadata": {},
   "outputs": [
    {
     "data": {
      "text/plain": [
       "array([0. , 1.5, 3. , 4.5, 6. , 7.5, 9. ])"
      ]
     },
     "execution_count": 84,
     "metadata": {},
     "output_type": "execute_result"
    }
   ],
   "source": [
    "np.arange(0,10,1.5)"
   ]
  },
  {
   "cell_type": "markdown",
   "id": "2d7cfaeb",
   "metadata": {},
   "source": [
    "###### If we don't give any third parameter(step_size) in arange() , By default  value will be 1"
   ]
  },
  {
   "cell_type": "code",
   "execution_count": 85,
   "id": "8f3843ad",
   "metadata": {},
   "outputs": [
    {
     "data": {
      "text/plain": [
       "array([0, 1, 2, 3, 4, 5, 6, 7, 8, 9])"
      ]
     },
     "execution_count": 85,
     "metadata": {},
     "output_type": "execute_result"
    }
   ],
   "source": [
    "np.arange(0,10)"
   ]
  },
  {
   "cell_type": "markdown",
   "id": "0a3d086a",
   "metadata": {},
   "source": [
    "## linspace()"
   ]
  },
  {
   "cell_type": "markdown",
   "id": "4e8cebb5",
   "metadata": {},
   "source": [
    "###### syntax - > linspace(min_value,max_value,no_of_elements)\n",
    "\n",
    "Returns the specified number elemnets(no_of_elements) between max value and min value with equal difference(Equally Spaced) between elements. max_value is inclusive"
   ]
  },
  {
   "cell_type": "code",
   "execution_count": 86,
   "id": "ae3d787f",
   "metadata": {},
   "outputs": [
    {
     "data": {
      "text/plain": [
       "array([10., 12., 14., 16., 18., 20.])"
      ]
     },
     "execution_count": 86,
     "metadata": {},
     "output_type": "execute_result"
    }
   ],
   "source": [
    "np.linspace(10,20,6)"
   ]
  },
  {
   "cell_type": "code",
   "execution_count": 87,
   "id": "c66c6eef",
   "metadata": {},
   "outputs": [
    {
     "data": {
      "text/plain": [
       "array([10.  , 11.67, 13.33, 15.  , 16.67, 18.33, 20.  ])"
      ]
     },
     "execution_count": 87,
     "metadata": {},
     "output_type": "execute_result"
    }
   ],
   "source": [
    "np.linspace(10,20,7)"
   ]
  },
  {
   "cell_type": "code",
   "execution_count": 88,
   "id": "155a2b67",
   "metadata": {},
   "outputs": [
    {
     "data": {
      "text/plain": [
       "array([1.  , 1.01, 1.02, 1.03, 1.04, 1.05, 1.06, 1.07, 1.08, 1.09, 1.1 ,\n",
       "       1.11, 1.12, 1.13, 1.14, 1.15, 1.16, 1.17, 1.18, 1.19, 1.2 , 1.21,\n",
       "       1.22, 1.23, 1.24, 1.25, 1.26, 1.27, 1.28, 1.29, 1.3 , 1.31, 1.32,\n",
       "       1.33, 1.34, 1.35, 1.36, 1.37, 1.38, 1.39, 1.4 , 1.41, 1.42, 1.43,\n",
       "       1.44, 1.45, 1.46, 1.47, 1.48, 1.49, 1.51, 1.52, 1.53, 1.54, 1.55,\n",
       "       1.56, 1.57, 1.58, 1.59, 1.6 , 1.61, 1.62, 1.63, 1.64, 1.65, 1.66,\n",
       "       1.67, 1.68, 1.69, 1.7 , 1.71, 1.72, 1.73, 1.74, 1.75, 1.76, 1.77,\n",
       "       1.78, 1.79, 1.8 , 1.81, 1.82, 1.83, 1.84, 1.85, 1.86, 1.87, 1.88,\n",
       "       1.89, 1.9 , 1.91, 1.92, 1.93, 1.94, 1.95, 1.96, 1.97, 1.98, 1.99,\n",
       "       2.  ])"
      ]
     },
     "execution_count": 88,
     "metadata": {},
     "output_type": "execute_result"
    }
   ],
   "source": [
    "np.linspace(1,2,100)"
   ]
  },
  {
   "cell_type": "code",
   "execution_count": 89,
   "id": "8419a57f",
   "metadata": {},
   "outputs": [
    {
     "data": {
      "text/plain": [
       "array([10.  , 11.43, 12.86, 14.29, 15.71, 17.14, 18.57])"
      ]
     },
     "execution_count": 89,
     "metadata": {},
     "output_type": "execute_result"
    }
   ],
   "source": [
    "np.linspace(10,20,7,endpoint=False) # endpoint=False -> Then Upper Limit(Max Value) is not inculded"
   ]
  },
  {
   "cell_type": "markdown",
   "id": "304ac808",
   "metadata": {},
   "source": [
    "###### If we don't give any third parameter(No_of_elements) in linspace() , By default  value will be 50 "
   ]
  },
  {
   "cell_type": "code",
   "execution_count": 90,
   "id": "36232cfb",
   "metadata": {},
   "outputs": [
    {
     "data": {
      "text/plain": [
       "array([10.  , 10.2 , 10.41, 10.61, 10.82, 11.02, 11.22, 11.43, 11.63,\n",
       "       11.84, 12.04, 12.24, 12.45, 12.65, 12.86, 13.06, 13.27, 13.47,\n",
       "       13.67, 13.88, 14.08, 14.29, 14.49, 14.69, 14.9 , 15.1 , 15.31,\n",
       "       15.51, 15.71, 15.92, 16.12, 16.33, 16.53, 16.73, 16.94, 17.14,\n",
       "       17.35, 17.55, 17.76, 17.96, 18.16, 18.37, 18.57, 18.78, 18.98,\n",
       "       19.18, 19.39, 19.59, 19.8 , 20.  ])"
      ]
     },
     "execution_count": 90,
     "metadata": {},
     "output_type": "execute_result"
    }
   ],
   "source": [
    "np.linspace(10,20)"
   ]
  },
  {
   "cell_type": "markdown",
   "id": "88c463d5",
   "metadata": {},
   "source": [
    "## zeros()"
   ]
  },
  {
   "cell_type": "markdown",
   "id": "78c5c47a",
   "metadata": {},
   "source": [
    "###### To create a numpy array with all zeros"
   ]
  },
  {
   "cell_type": "code",
   "execution_count": 91,
   "id": "97a34f12",
   "metadata": {},
   "outputs": [
    {
     "data": {
      "text/plain": [
       "array([[[0., 0., 0., 0., 0.],\n",
       "        [0., 0., 0., 0., 0.],\n",
       "        [0., 0., 0., 0., 0.],\n",
       "        [0., 0., 0., 0., 0.]],\n",
       "\n",
       "       [[0., 0., 0., 0., 0.],\n",
       "        [0., 0., 0., 0., 0.],\n",
       "        [0., 0., 0., 0., 0.],\n",
       "        [0., 0., 0., 0., 0.]],\n",
       "\n",
       "       [[0., 0., 0., 0., 0.],\n",
       "        [0., 0., 0., 0., 0.],\n",
       "        [0., 0., 0., 0., 0.],\n",
       "        [0., 0., 0., 0., 0.]]])"
      ]
     },
     "execution_count": 91,
     "metadata": {},
     "output_type": "execute_result"
    }
   ],
   "source": [
    "np.zeros((3,4,5))"
   ]
  },
  {
   "cell_type": "code",
   "execution_count": 92,
   "id": "186ca1c6",
   "metadata": {},
   "outputs": [
    {
     "data": {
      "text/plain": [
       "array([[0., 0.],\n",
       "       [0., 0.],\n",
       "       [0., 0.]])"
      ]
     },
     "execution_count": 92,
     "metadata": {},
     "output_type": "execute_result"
    }
   ],
   "source": [
    "np.zeros((3,2))"
   ]
  },
  {
   "cell_type": "markdown",
   "id": "abc7b7ab",
   "metadata": {},
   "source": [
    "## ones()"
   ]
  },
  {
   "cell_type": "code",
   "execution_count": 93,
   "id": "4418134b",
   "metadata": {},
   "outputs": [
    {
     "data": {
      "text/plain": [
       "array([[1., 1., 1., 1.],\n",
       "       [1., 1., 1., 1.]])"
      ]
     },
     "execution_count": 93,
     "metadata": {},
     "output_type": "execute_result"
    }
   ],
   "source": [
    "np.ones((2,4))"
   ]
  },
  {
   "cell_type": "markdown",
   "id": "2e04494e",
   "metadata": {},
   "source": [
    "## eye()"
   ]
  },
  {
   "cell_type": "markdown",
   "id": "f5824f7b",
   "metadata": {},
   "source": [
    "######  For creating identity matrix"
   ]
  },
  {
   "cell_type": "code",
   "execution_count": 94,
   "id": "0be4caed",
   "metadata": {},
   "outputs": [
    {
     "data": {
      "text/plain": [
       "array([[1., 0.],\n",
       "       [0., 1.]])"
      ]
     },
     "execution_count": 94,
     "metadata": {},
     "output_type": "execute_result"
    }
   ],
   "source": [
    "np.eye(2,2)"
   ]
  },
  {
   "cell_type": "code",
   "execution_count": 95,
   "id": "3cf002a7",
   "metadata": {},
   "outputs": [
    {
     "data": {
      "text/plain": [
       "array([[1., 0.],\n",
       "       [0., 1.],\n",
       "       [0., 0.]])"
      ]
     },
     "execution_count": 95,
     "metadata": {},
     "output_type": "execute_result"
    }
   ],
   "source": [
    "np.eye(3,2)"
   ]
  },
  {
   "cell_type": "markdown",
   "id": "ce6d7eaf",
   "metadata": {},
   "source": [
    "## random.rand()\n"
   ]
  },
  {
   "cell_type": "markdown",
   "id": "e49e7b0a",
   "metadata": {},
   "source": [
    "###### For creating array with random elements"
   ]
  },
  {
   "cell_type": "code",
   "execution_count": 96,
   "id": "a1927481",
   "metadata": {},
   "outputs": [
    {
     "data": {
      "text/plain": [
       "1"
      ]
     },
     "execution_count": 96,
     "metadata": {},
     "output_type": "execute_result"
    }
   ],
   "source": [
    "np.random.randint(0,10) # Returns a random number between 0 and 10"
   ]
  },
  {
   "cell_type": "code",
   "execution_count": 97,
   "id": "871563e5",
   "metadata": {},
   "outputs": [
    {
     "data": {
      "text/plain": [
       "array([[6, 7, 9, 7],\n",
       "       [4, 0, 0, 4],\n",
       "       [2, 3, 7, 4]])"
      ]
     },
     "execution_count": 97,
     "metadata": {},
     "output_type": "execute_result"
    }
   ],
   "source": [
    "np.random.randint(0,10,size=(3,4))"
   ]
  },
  {
   "cell_type": "markdown",
   "id": "75b0f655",
   "metadata": {},
   "source": [
    "### Arithemetic operations on array"
   ]
  },
  {
   "cell_type": "markdown",
   "id": "40690880",
   "metadata": {},
   "source": [
    "###### For doing arithemetic operations arrays must be of same size"
   ]
  },
  {
   "cell_type": "code",
   "execution_count": 98,
   "id": "de08fd44",
   "metadata": {},
   "outputs": [],
   "source": [
    "a = np.array([[1,2,3,4],[13,12,33,43]])"
   ]
  },
  {
   "cell_type": "code",
   "execution_count": 99,
   "id": "c25a46a1",
   "metadata": {},
   "outputs": [],
   "source": [
    "b = np.array([[4,5,2,5],[2,4,5,7]])"
   ]
  },
  {
   "cell_type": "code",
   "execution_count": 100,
   "id": "2f31ad56",
   "metadata": {},
   "outputs": [
    {
     "data": {
      "text/plain": [
       "(2, 4)"
      ]
     },
     "execution_count": 100,
     "metadata": {},
     "output_type": "execute_result"
    }
   ],
   "source": [
    "a.shape"
   ]
  },
  {
   "cell_type": "code",
   "execution_count": 101,
   "id": "afe8d532",
   "metadata": {},
   "outputs": [
    {
     "data": {
      "text/plain": [
       "(2, 4)"
      ]
     },
     "execution_count": 101,
     "metadata": {},
     "output_type": "execute_result"
    }
   ],
   "source": [
    "b.shape"
   ]
  },
  {
   "cell_type": "code",
   "execution_count": 102,
   "id": "3de47f67",
   "metadata": {},
   "outputs": [
    {
     "data": {
      "text/plain": [
       "array([[ 5,  7,  5,  9],\n",
       "       [15, 16, 38, 50]])"
      ]
     },
     "execution_count": 102,
     "metadata": {},
     "output_type": "execute_result"
    }
   ],
   "source": [
    "a + b # Adding two elements"
   ]
  },
  {
   "cell_type": "code",
   "execution_count": 103,
   "id": "6a9d27bb",
   "metadata": {},
   "outputs": [
    {
     "data": {
      "text/plain": [
       "array([[-3, -3,  1, -1],\n",
       "       [11,  8, 28, 36]])"
      ]
     },
     "execution_count": 103,
     "metadata": {},
     "output_type": "execute_result"
    }
   ],
   "source": [
    "a - b"
   ]
  },
  {
   "cell_type": "code",
   "execution_count": 104,
   "id": "f88d15f2",
   "metadata": {},
   "outputs": [
    {
     "data": {
      "text/plain": [
       "array([[0.25, 0.4 , 1.5 , 0.8 ],\n",
       "       [6.5 , 3.  , 6.6 , 6.14]])"
      ]
     },
     "execution_count": 104,
     "metadata": {},
     "output_type": "execute_result"
    }
   ],
   "source": [
    "a /b"
   ]
  },
  {
   "cell_type": "code",
   "execution_count": 105,
   "id": "1e8b6e8c",
   "metadata": {},
   "outputs": [
    {
     "data": {
      "text/plain": [
       "array([[  4,  10,   6,  20],\n",
       "       [ 26,  48, 165, 301]])"
      ]
     },
     "execution_count": 105,
     "metadata": {},
     "output_type": "execute_result"
    }
   ],
   "source": [
    "a*b"
   ]
  },
  {
   "cell_type": "code",
   "execution_count": 106,
   "id": "7e46e6f3",
   "metadata": {},
   "outputs": [
    {
     "data": {
      "text/plain": [
       "array([[         1,         32,          9,       1024],\n",
       "       [       169,      20736,   39135393, 1235671459]], dtype=int32)"
      ]
     },
     "execution_count": 106,
     "metadata": {},
     "output_type": "execute_result"
    }
   ],
   "source": [
    "a**b"
   ]
  },
  {
   "cell_type": "markdown",
   "id": "8e4319dd",
   "metadata": {},
   "source": [
    "####  Cocatenate"
   ]
  },
  {
   "cell_type": "code",
   "execution_count": 107,
   "id": "356768a9",
   "metadata": {},
   "outputs": [
    {
     "data": {
      "text/plain": [
       "array([[ 1,  2,  3,  4],\n",
       "       [13, 12, 33, 43],\n",
       "       [ 4,  5,  2,  5],\n",
       "       [ 2,  4,  5,  7]])"
      ]
     },
     "execution_count": 107,
     "metadata": {},
     "output_type": "execute_result"
    }
   ],
   "source": [
    "np.concatenate([a,b]) # Cocatenating row wise"
   ]
  },
  {
   "cell_type": "code",
   "execution_count": 108,
   "id": "1974f7cb",
   "metadata": {},
   "outputs": [
    {
     "data": {
      "text/plain": [
       "array([[ 1,  2,  3,  4,  4,  5,  2,  5],\n",
       "       [13, 12, 33, 43,  2,  4,  5,  7]])"
      ]
     },
     "execution_count": 108,
     "metadata": {},
     "output_type": "execute_result"
    }
   ],
   "source": [
    "np.concatenate([a,b],axis=1) # Cocatenating column wise"
   ]
  },
  {
   "cell_type": "code",
   "execution_count": 109,
   "id": "df319956",
   "metadata": {},
   "outputs": [
    {
     "data": {
      "text/plain": [
       "array([[ 1,  2,  3,  4],\n",
       "       [13, 12, 33, 43]])"
      ]
     },
     "execution_count": 109,
     "metadata": {},
     "output_type": "execute_result"
    }
   ],
   "source": [
    "c = np.array([[1,2,3,4],[13,12,33,43]])\n",
    "c"
   ]
  },
  {
   "cell_type": "code",
   "execution_count": 110,
   "id": "4fc5fa55",
   "metadata": {},
   "outputs": [
    {
     "data": {
      "text/plain": [
       "array([[4, 5, 2, 5]])"
      ]
     },
     "execution_count": 110,
     "metadata": {},
     "output_type": "execute_result"
    }
   ],
   "source": [
    "d = np.array([[4,5,2,5]])\n",
    "d"
   ]
  },
  {
   "cell_type": "code",
   "execution_count": 111,
   "id": "3d2b11c0",
   "metadata": {},
   "outputs": [
    {
     "data": {
      "text/plain": [
       "array([[ 1,  2,  3,  4],\n",
       "       [13, 12, 33, 43],\n",
       "       [ 4,  5,  2,  5]])"
      ]
     },
     "execution_count": 111,
     "metadata": {},
     "output_type": "execute_result"
    }
   ],
   "source": [
    "np.concatenate([c,d])"
   ]
  },
  {
   "cell_type": "raw",
   "id": "2c1ff9d4",
   "metadata": {},
   "source": [
    "It is not possible do column wise concatenation on a and d"
   ]
  },
  {
   "cell_type": "code",
   "execution_count": 112,
   "id": "d61b59f4",
   "metadata": {},
   "outputs": [],
   "source": [
    "# np.concatenate([c,d],axis=1) -> it will raise an error Becacuse we have different number of rows"
   ]
  },
  {
   "cell_type": "markdown",
   "id": "c0512878",
   "metadata": {},
   "source": [
    "###  Transpose of a matrix"
   ]
  },
  {
   "cell_type": "code",
   "execution_count": 113,
   "id": "e2f76e2f",
   "metadata": {},
   "outputs": [
    {
     "data": {
      "text/plain": [
       "array([[ 1, 13],\n",
       "       [ 2, 12],\n",
       "       [ 3, 33],\n",
       "       [ 4, 43]])"
      ]
     },
     "execution_count": 113,
     "metadata": {},
     "output_type": "execute_result"
    }
   ],
   "source": [
    "a.T # Gives the Transpose of the array"
   ]
  },
  {
   "cell_type": "code",
   "execution_count": 114,
   "id": "29ea88f2",
   "metadata": {},
   "outputs": [
    {
     "data": {
      "text/plain": [
       "array([[ 1, 13],\n",
       "       [ 2, 12],\n",
       "       [ 3, 33],\n",
       "       [ 4, 43]])"
      ]
     },
     "execution_count": 114,
     "metadata": {},
     "output_type": "execute_result"
    }
   ],
   "source": [
    "np.transpose(a) # Gives the transpose of array"
   ]
  },
  {
   "cell_type": "code",
   "execution_count": null,
   "id": "3dba3fa7",
   "metadata": {},
   "outputs": [],
   "source": []
  }
 ],
 "metadata": {
  "kernelspec": {
   "display_name": "Python 3 (ipykernel)",
   "language": "python",
   "name": "python3"
  },
  "language_info": {
   "codemirror_mode": {
    "name": "ipython",
    "version": 3
   },
   "file_extension": ".py",
   "mimetype": "text/x-python",
   "name": "python",
   "nbconvert_exporter": "python",
   "pygments_lexer": "ipython3",
   "version": "3.9.7"
  }
 },
 "nbformat": 4,
 "nbformat_minor": 5
}
