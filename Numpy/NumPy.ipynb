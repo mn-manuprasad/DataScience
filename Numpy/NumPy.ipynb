{
 "cells": [
  {
   "cell_type": "code",
   "execution_count": 1,
   "id": "e44548bc",
   "metadata": {},
   "outputs": [],
   "source": [
    "import numpy as np"
   ]
  },
  {
   "cell_type": "markdown",
   "id": "e4d56d7f",
   "metadata": {},
   "source": [
    "### Functions For Creating Arrays in Numpy\n",
    "#### 1. array()\n",
    "#### 2. linspace()\n",
    "#### 3. logspace()\n",
    "#### 4. arange()\n",
    "#### 5. zeros()\n",
    "#### 6. omes()\n",
    "#### 7. eye()\n",
    "#### 8. random.rand()\n"
   ]
  },
  {
   "cell_type": "markdown",
   "id": "5e05420e",
   "metadata": {
    "pycharm": {
     "name": "#%% md\n"
    }
   },
   "source": [
    "### 1. array()"
   ]
  },
  {
   "cell_type": "markdown",
   "id": "ba08625d",
   "metadata": {},
   "source": [
    "###### Array is a group of Similar elements\n",
    "\n",
    "###### Array Supports indexing, Slicing , Duplicate Values, \n",
    "###### Arrays are muttable\n"
   ]
  },
  {
   "cell_type": "code",
   "execution_count": 2,
   "id": "1b876b86",
   "metadata": {
    "pycharm": {
     "name": "#%%\n"
    }
   },
   "outputs": [
    {
     "data": {
      "text/plain": [
       "array([1, 2, 3, 4, 5])"
      ]
     },
     "execution_count": 2,
     "metadata": {},
     "output_type": "execute_result"
    }
   ],
   "source": [
    "np.array([1,2,3,4,5])"
   ]
  },
  {
   "cell_type": "code",
   "execution_count": 3,
   "id": "7d2e1100",
   "metadata": {
    "pycharm": {
     "name": "#%%\n"
    }
   },
   "outputs": [
    {
     "data": {
      "text/plain": [
       "array([1, 2, 3])"
      ]
     },
     "execution_count": 3,
     "metadata": {},
     "output_type": "execute_result"
    }
   ],
   "source": [
    "arr = np.array([1,2,3,4,5])\n",
    "arr[0:3]"
   ]
  },
  {
   "cell_type": "markdown",
   "id": "1f70713c",
   "metadata": {
    "pycharm": {
     "name": "#%% md\n"
    }
   },
   "source": [
    "### Properties Of Numpy Array"
   ]
  },
  {
   "cell_type": "code",
   "execution_count": 4,
   "id": "0b7098a7",
   "metadata": {
    "pycharm": {
     "name": "#%%\n"
    }
   },
   "outputs": [
    {
     "data": {
      "text/plain": [
       "1"
      ]
     },
     "execution_count": 4,
     "metadata": {},
     "output_type": "execute_result"
    }
   ],
   "source": [
    "arr.ndim  # Dimension of numpy Array"
   ]
  },
  {
   "cell_type": "code",
   "execution_count": 5,
   "id": "ecba7342",
   "metadata": {
    "pycharm": {
     "name": "#%%\n"
    }
   },
   "outputs": [
    {
     "data": {
      "text/plain": [
       "(5,)"
      ]
     },
     "execution_count": 5,
     "metadata": {},
     "output_type": "execute_result"
    }
   ],
   "source": [
    "arr.shape # How many elements present in each dimension"
   ]
  },
  {
   "cell_type": "code",
   "execution_count": 6,
   "id": "682feaaa",
   "metadata": {
    "pycharm": {
     "name": "#%%\n"
    }
   },
   "outputs": [
    {
     "data": {
      "text/plain": [
       "5"
      ]
     },
     "execution_count": 6,
     "metadata": {},
     "output_type": "execute_result"
    }
   ],
   "source": [
    "arr.size #No. of elements in entire array"
   ]
  },
  {
   "cell_type": "code",
   "execution_count": 7,
   "id": "ac98e994",
   "metadata": {
    "pycharm": {
     "name": "#%%\n"
    }
   },
   "outputs": [
    {
     "data": {
      "text/plain": [
       "dtype('int32')"
      ]
     },
     "execution_count": 7,
     "metadata": {},
     "output_type": "execute_result"
    }
   ],
   "source": [
    "arr.dtype # Data type of elements"
   ]
  },
  {
   "cell_type": "raw",
   "id": "e710ba5c",
   "metadata": {
    "pycharm": {
     "name": "#%% raw\n"
    }
   },
   "source": [
    " Number of Bits       Min.Value      Max.Value\n",
    "\n",
    "    08 bit             -128           127\n",
    "    16 bit            -32768         32767\n",
    "    32 bit          -2147483648     2147483647"
   ]
  },
  {
   "cell_type": "markdown",
   "id": "0daa0778",
   "metadata": {
    "pycharm": {
     "name": "#%% md\n"
    }
   },
   "source": [
    "##### So if we know the capacity or maximum value of the data then change the type of data accordingly which can help reducing the size of data"
   ]
  },
  {
   "cell_type": "code",
   "execution_count": 8,
   "id": "c03d9ddb",
   "metadata": {
    "pycharm": {
     "name": "#%%\n"
    }
   },
   "outputs": [
    {
     "data": {
      "text/plain": [
       "20"
      ]
     },
     "execution_count": 8,
     "metadata": {},
     "output_type": "execute_result"
    }
   ],
   "source": [
    "arr.nbytes # Gives the total number of bytes consumed by the elements of the numpy array"
   ]
  },
  {
   "cell_type": "markdown",
   "id": "ff1edb26",
   "metadata": {},
   "source": [
    "##### If we change int32 to int8 we can see the difference"
   ]
  },
  {
   "cell_type": "code",
   "execution_count": 9,
   "id": "7655cf2c",
   "metadata": {
    "pycharm": {
     "name": "#%%\n"
    }
   },
   "outputs": [],
   "source": [
    "arr = arr.astype(\"int8\") #Converts one Data type to another Data type"
   ]
  },
  {
   "cell_type": "code",
   "execution_count": 10,
   "id": "90b581fa",
   "metadata": {},
   "outputs": [
    {
     "data": {
      "text/plain": [
       "5"
      ]
     },
     "execution_count": 10,
     "metadata": {},
     "output_type": "execute_result"
    }
   ],
   "source": [
    "arr.nbytes"
   ]
  },
  {
   "cell_type": "markdown",
   "id": "3613f4de",
   "metadata": {},
   "source": [
    "##### Previously it had taken 20 bytes,But when we changed int32 to int8 . now its only taking 5 bytes"
   ]
  },
  {
   "cell_type": "code",
   "execution_count": 11,
   "id": "5ac39bcd",
   "metadata": {},
   "outputs": [],
   "source": [
    "arr2 = np.array([5,6,8,8,10],dtype=\"int8\") #We can also specify the datatype during the assignment"
   ]
  },
  {
   "cell_type": "raw",
   "id": "fa2317e4",
   "metadata": {},
   "source": [
    "But what if the array contains a value that is not in the range of a particular data type \n",
    "\n",
    "for Example:\n",
    "\n",
    "arr = np.array([4,5,6,7,8,400],dtype=\"int8\")\n",
    "\n",
    "Here int8 can only hold values in the range of -128 - 127\n",
    "\n",
    "Here what happens is the 400 will be converted to some arbitory number\n",
    "\n"
   ]
  },
  {
   "cell_type": "markdown",
   "id": "ca415b65",
   "metadata": {},
   "source": [
    "##### This is called quantization( Reducing the number of bytes data taking in the memmory)"
   ]
  },
  {
   "cell_type": "code",
   "execution_count": 12,
   "id": "78d2d345",
   "metadata": {},
   "outputs": [
    {
     "data": {
      "text/plain": [
       "array([1, 2, 3, 4, 5], dtype=int8)"
      ]
     },
     "execution_count": 12,
     "metadata": {},
     "output_type": "execute_result"
    }
   ],
   "source": [
    "# Example\n",
    "arr3 = np.array([4,5,6,7,8,400],dtype=\"int8\")\n",
    "arr"
   ]
  },
  {
   "cell_type": "code",
   "execution_count": 13,
   "id": "96a7d975",
   "metadata": {},
   "outputs": [
    {
     "data": {
      "text/plain": [
       "dtype('float64')"
      ]
     },
     "execution_count": 13,
     "metadata": {},
     "output_type": "execute_result"
    }
   ],
   "source": [
    "arr4 = np.array([4.3,5,6,7,8,400])\n",
    "arr4.dtype\n"
   ]
  },
  {
   "cell_type": "markdown",
   "id": "8af8b8b2",
   "metadata": {},
   "source": [
    "##### Array is a collection of similar elements . So if there is one disimilar element in the array then all the elements in the array will be converted to the largest datatype"
   ]
  },
  {
   "cell_type": "code",
   "execution_count": 14,
   "id": "cd8e46a4",
   "metadata": {},
   "outputs": [
    {
     "data": {
      "text/plain": [
       "array(['1', '2', '3', 'manu'], dtype='<U11')"
      ]
     },
     "execution_count": 14,
     "metadata": {},
     "output_type": "execute_result"
    }
   ],
   "source": [
    "arr5  = np.array([1,2,3,\"manu\"])\n",
    "arr5"
   ]
  },
  {
   "cell_type": "code",
   "execution_count": 15,
   "id": "2748a5b4",
   "metadata": {},
   "outputs": [
    {
     "data": {
      "text/plain": [
       "dtype('<U11')"
      ]
     },
     "execution_count": 15,
     "metadata": {},
     "output_type": "execute_result"
    }
   ],
   "source": [
    "arr5.dtype"
   ]
  },
  {
   "cell_type": "raw",
   "id": "a087d178",
   "metadata": {},
   "source": [
    "Here U -> Unicode String \n",
    "\n",
    "<U11 Means \n",
    "\n",
    "Following symbols indicate how data is stored in the from of bytes in memory\n",
    "\n",
    "     < --- Little Endian\n",
    "     > --- Big Endian\n",
    "     = --- Default Hardware\n",
    "     \n",
    "    11 -> No of bytes it taking to store each value"
   ]
  },
  {
   "cell_type": "raw",
   "id": "1652047e",
   "metadata": {},
   "source": [
    "By deafult it is taking it is taking 11 bytes But we can change that"
   ]
  },
  {
   "cell_type": "code",
   "execution_count": 16,
   "id": "16ea0036",
   "metadata": {},
   "outputs": [
    {
     "data": {
      "text/plain": [
       "array(['1', '2', '3', 'manu'], dtype='<U4')"
      ]
     },
     "execution_count": 16,
     "metadata": {},
     "output_type": "execute_result"
    }
   ],
   "source": [
    "arr5.astype(\"<U4\")"
   ]
  },
  {
   "cell_type": "markdown",
   "id": "6d4e6747",
   "metadata": {},
   "source": [
    "###### It only need the number of bytes , that is needed for the largest element in the array to store in memory, Here largest element is \"manu\" which requires only 4 bytes "
   ]
  },
  {
   "cell_type": "raw",
   "id": "0caf8257",
   "metadata": {},
   "source": [
    "So if we change <U4 to <U3. It automatically remove one character(Most Probably the Last Character"
   ]
  },
  {
   "cell_type": "code",
   "execution_count": 17,
   "id": "4ca9e792",
   "metadata": {},
   "outputs": [
    {
     "data": {
      "text/plain": [
       "array(['1', '2', '3', 'man'], dtype='<U3')"
      ]
     },
     "execution_count": 17,
     "metadata": {},
     "output_type": "execute_result"
    }
   ],
   "source": [
    "arr5 = arr5.astype(\"<U3\")\n",
    "arr5"
   ]
  },
  {
   "cell_type": "code",
   "execution_count": 18,
   "id": "38acf62f",
   "metadata": {},
   "outputs": [],
   "source": [
    "# Another Example\n",
    "arr6 = np.array([\"Python\",\"Java\",\"Ruby\",\"Rust\"])"
   ]
  },
  {
   "cell_type": "code",
   "execution_count": 19,
   "id": "4f408651",
   "metadata": {},
   "outputs": [
    {
     "data": {
      "text/plain": [
       "dtype('<U6')"
      ]
     },
     "execution_count": 19,
     "metadata": {},
     "output_type": "execute_result"
    }
   ],
   "source": [
    "arr6.dtype"
   ]
  },
  {
   "cell_type": "code",
   "execution_count": 20,
   "id": "8adf535e",
   "metadata": {},
   "outputs": [],
   "source": [
    "arr7 = np.array([16,1,16,1,2,3,4,4,4,5,16])"
   ]
  },
  {
   "cell_type": "markdown",
   "id": "49763bce",
   "metadata": {},
   "source": [
    "###  Array Slicing & Indexing"
   ]
  },
  {
   "cell_type": "code",
   "execution_count": 21,
   "id": "e6478189",
   "metadata": {},
   "outputs": [
    {
     "data": {
      "text/plain": [
       "16"
      ]
     },
     "execution_count": 21,
     "metadata": {},
     "output_type": "execute_result"
    }
   ],
   "source": [
    "arr7[-1] #last Index"
   ]
  },
  {
   "cell_type": "code",
   "execution_count": 22,
   "id": "eec31fdc",
   "metadata": {},
   "outputs": [
    {
     "data": {
      "text/plain": [
       "array([ 1, 16,  1,  2,  3])"
      ]
     },
     "execution_count": 22,
     "metadata": {},
     "output_type": "execute_result"
    }
   ],
   "source": [
    "arr7[1:6]"
   ]
  },
  {
   "cell_type": "code",
   "execution_count": 23,
   "id": "49dcf9cf",
   "metadata": {},
   "outputs": [
    {
     "data": {
      "text/plain": [
       "array([ 16,   1, 100,   1,   2,   3,   4,   4,   4,   5,  16])"
      ]
     },
     "execution_count": 23,
     "metadata": {},
     "output_type": "execute_result"
    }
   ],
   "source": [
    "arr7[2] = 100 # Array is muttable\n",
    "arr7"
   ]
  },
  {
   "cell_type": "markdown",
   "id": "d224ea6a",
   "metadata": {},
   "source": [
    "### Adding and Deleting Elements"
   ]
  },
  {
   "cell_type": "markdown",
   "id": "69605af7",
   "metadata": {},
   "source": [
    "##### append() add elements to the end of the array"
   ]
  },
  {
   "cell_type": "code",
   "execution_count": 24,
   "id": "9979b646",
   "metadata": {},
   "outputs": [
    {
     "data": {
      "text/plain": [
       "array([ 16,   1, 100,   1,   2,   3,   4,   4,   4,   5,  16,   6])"
      ]
     },
     "execution_count": 24,
     "metadata": {},
     "output_type": "execute_result"
    }
   ],
   "source": [
    "arr7 = np.append(arr7, 6) # Appending one element \n",
    "arr7"
   ]
  },
  {
   "cell_type": "code",
   "execution_count": 25,
   "id": "e6819cd2",
   "metadata": {},
   "outputs": [
    {
     "data": {
      "text/plain": [
       "array([ 16,   1, 100,   1,   2,   3,   4,   4,   4,   5,  16,   6,   2,\n",
       "         3,   4,   7,  19])"
      ]
     },
     "execution_count": 25,
     "metadata": {},
     "output_type": "execute_result"
    }
   ],
   "source": [
    "arr7 = np.append(arr7,[2,3,4,7,19]) # Appeding multiple elements\n",
    "arr7"
   ]
  },
  {
   "cell_type": "markdown",
   "id": "8dc053fa",
   "metadata": {},
   "source": [
    "###### To Insert element at a particular position -> insert(arr,index,value)"
   ]
  },
  {
   "cell_type": "code",
   "execution_count": 26,
   "id": "97b84e0f",
   "metadata": {},
   "outputs": [
    {
     "data": {
      "text/plain": [
       "array([ 16,   1, 100,   1,   2, 189,   3,   4,   4,   4,   5,  16,   6,\n",
       "         2,   3,   4,   7,  19])"
      ]
     },
     "execution_count": 26,
     "metadata": {},
     "output_type": "execute_result"
    }
   ],
   "source": [
    "arr7 = np.insert(arr7,5,189)\n",
    "arr7"
   ]
  },
  {
   "cell_type": "code",
   "execution_count": 27,
   "id": "7b7a3bae",
   "metadata": {},
   "outputs": [
    {
     "data": {
      "text/plain": [
       "array([ 16,   1,   5,   6,   7,   8, 100,   1,   2, 189,   3,   4,   4,\n",
       "         4,   5,  16,   6,   2,   3,   4,   7,  19])"
      ]
     },
     "execution_count": 27,
     "metadata": {},
     "output_type": "execute_result"
    }
   ],
   "source": [
    "arr7 = np.insert(arr7,2,[5,6,7,8])\n",
    "arr7"
   ]
  },
  {
   "cell_type": "markdown",
   "id": "e991d526",
   "metadata": {},
   "source": [
    "##### To find the index of a element based on a condion -> where(condition)"
   ]
  },
  {
   "cell_type": "code",
   "execution_count": 28,
   "id": "161305f8",
   "metadata": {},
   "outputs": [
    {
     "data": {
      "text/plain": [
       "(array([10, 18], dtype=int64),)"
      ]
     },
     "execution_count": 28,
     "metadata": {},
     "output_type": "execute_result"
    }
   ],
   "source": [
    "np.where(arr7==3)"
   ]
  },
  {
   "cell_type": "raw",
   "id": "df94ca14",
   "metadata": {},
   "source": [
    "Return all the index's of elements which satisfies the condition"
   ]
  },
  {
   "cell_type": "code",
   "execution_count": 29,
   "id": "b98f598c",
   "metadata": {},
   "outputs": [
    {
     "data": {
      "text/plain": [
       "10"
      ]
     },
     "execution_count": 29,
     "metadata": {},
     "output_type": "execute_result"
    }
   ],
   "source": [
    "np.where(arr7==3)[0][0] # To get the first index of the element "
   ]
  },
  {
   "cell_type": "code",
   "execution_count": 30,
   "id": "1c5199ec",
   "metadata": {},
   "outputs": [
    {
     "data": {
      "text/plain": [
       "(array([ 1,  7,  8, 10, 11, 12, 13, 17, 18, 19], dtype=int64),)"
      ]
     },
     "execution_count": 30,
     "metadata": {},
     "output_type": "execute_result"
    }
   ],
   "source": [
    "np.where(arr7 < 5) # Index of elements whose value is less than 5"
   ]
  },
  {
   "cell_type": "code",
   "execution_count": 31,
   "id": "fa9c27e6",
   "metadata": {},
   "outputs": [
    {
     "data": {
      "text/plain": [
       "(array([ 1,  7,  8, 10, 11, 12, 13, 17, 18, 19], dtype=int64),)"
      ]
     },
     "execution_count": 31,
     "metadata": {},
     "output_type": "execute_result"
    }
   ],
   "source": [
    "np.where(arr7 < 5)"
   ]
  },
  {
   "cell_type": "markdown",
   "id": "a525d129",
   "metadata": {},
   "source": [
    "###### Delete an element from array (Based on Index)-> delete(array_name,index)"
   ]
  },
  {
   "cell_type": "code",
   "execution_count": 32,
   "id": "dd75cf1e",
   "metadata": {},
   "outputs": [
    {
     "data": {
      "text/plain": [
       "array([ 16,   5,   6,   7,   8, 100,   1,   2, 189,   3,   4,   4,   4,\n",
       "         5,  16,   6,   2,   3,   4,   7,  19])"
      ]
     },
     "execution_count": 32,
     "metadata": {},
     "output_type": "execute_result"
    }
   ],
   "source": [
    "np.delete(arr7,1) # Element at 1st Index is removed"
   ]
  },
  {
   "cell_type": "markdown",
   "id": "6d4bbfec",
   "metadata": {},
   "source": [
    "###### Delete an element from array (Based on Value)"
   ]
  },
  {
   "cell_type": "code",
   "execution_count": 33,
   "id": "77df634e",
   "metadata": {},
   "outputs": [
    {
     "data": {
      "text/plain": [
       "4"
      ]
     },
     "execution_count": 33,
     "metadata": {},
     "output_type": "execute_result"
    }
   ],
   "source": [
    "np.where(arr7 == 7)[0][0] "
   ]
  },
  {
   "cell_type": "code",
   "execution_count": 34,
   "id": "a3280ed1",
   "metadata": {},
   "outputs": [
    {
     "data": {
      "text/plain": [
       "array([ 16,   1,   5,   6,   8, 100,   1,   2, 189,   3,   4,   4,   4,\n",
       "         5,  16,   6,   2,   3,   4,   7,  19])"
      ]
     },
     "execution_count": 34,
     "metadata": {},
     "output_type": "execute_result"
    }
   ],
   "source": [
    "arr7=np.delete(arr7,np.where(arr7 == 7)[0][0]) #Delete a single element\n",
    "arr7"
   ]
  },
  {
   "cell_type": "code",
   "execution_count": 35,
   "id": "95faa094",
   "metadata": {},
   "outputs": [
    {
     "data": {
      "text/plain": [
       "array([ 16,   1,   5,   6,   8, 100,   1,   2, 189,   3,   5,  16,   6,\n",
       "         2,   3,   7,  19])"
      ]
     },
     "execution_count": 35,
     "metadata": {},
     "output_type": "execute_result"
    }
   ],
   "source": [
    "arr7=np.delete(arr7,np.where(arr7==4)) # Removing All the occurence of 4\n",
    "arr7"
   ]
  },
  {
   "cell_type": "markdown",
   "id": "aefe4a20",
   "metadata": {},
   "source": [
    "####  Boolean Indexing (Filters)"
   ]
  },
  {
   "cell_type": "code",
   "execution_count": 36,
   "id": "99fc830c",
   "metadata": {},
   "outputs": [],
   "source": [
    "arr8 = np.array([16,1,16,1,2,3,3,3,4,56,16])"
   ]
  },
  {
   "cell_type": "code",
   "execution_count": 37,
   "id": "e38981a1",
   "metadata": {},
   "outputs": [
    {
     "data": {
      "text/plain": [
       "array([ True, False,  True, False, False, False, False, False, False,\n",
       "       False,  True])"
      ]
     },
     "execution_count": 37,
     "metadata": {},
     "output_type": "execute_result"
    }
   ],
   "source": [
    "arr8 == 16 # Where ever we have 16 it returns True"
   ]
  },
  {
   "cell_type": "code",
   "execution_count": 38,
   "id": "debcd953",
   "metadata": {},
   "outputs": [
    {
     "data": {
      "text/plain": [
       "array([16, 16, 16])"
      ]
     },
     "execution_count": 38,
     "metadata": {},
     "output_type": "execute_result"
    }
   ],
   "source": [
    "arr8[arr8==16] # Gives value"
   ]
  },
  {
   "cell_type": "code",
   "execution_count": 39,
   "id": "43ff4ee8",
   "metadata": {},
   "outputs": [
    {
     "data": {
      "text/plain": [
       "array([False,  True, False,  True,  True,  True,  True,  True,  True,\n",
       "       False, False])"
      ]
     },
     "execution_count": 39,
     "metadata": {},
     "output_type": "execute_result"
    }
   ],
   "source": [
    "arr8<5  # Based On Condition Returns True for elements which is less than 5"
   ]
  },
  {
   "cell_type": "code",
   "execution_count": 40,
   "id": "59e21c3e",
   "metadata": {},
   "outputs": [
    {
     "data": {
      "text/plain": [
       "array([1, 1, 2, 3, 3, 3, 4])"
      ]
     },
     "execution_count": 40,
     "metadata": {},
     "output_type": "execute_result"
    }
   ],
   "source": [
    "arr8[arr8<5] # Gives elements which is less than 5"
   ]
  },
  {
   "cell_type": "markdown",
   "id": "7162ce3e",
   "metadata": {},
   "source": [
    "###### Multiple Condtion In Boolean Indexing"
   ]
  },
  {
   "cell_type": "raw",
   "id": "a8e54126",
   "metadata": {},
   "source": [
    "    Here in numpy Boolean Indexing\n",
    "    and ---> &\n",
    "    or ----> |"
   ]
  },
  {
   "cell_type": "code",
   "execution_count": 41,
   "id": "d4346186",
   "metadata": {},
   "outputs": [
    {
     "data": {
      "text/plain": [
       "array([False, False, False, False, False, False, False, False, False,\n",
       "        True, False])"
      ]
     },
     "execution_count": 41,
     "metadata": {},
     "output_type": "execute_result"
    }
   ],
   "source": [
    "(arr8 > 20) & (arr8 < 60) # Index of elements which are greater than 20 and less than 60"
   ]
  },
  {
   "cell_type": "code",
   "execution_count": 42,
   "id": "f962cc48",
   "metadata": {},
   "outputs": [
    {
     "data": {
      "text/plain": [
       "array([56])"
      ]
     },
     "execution_count": 42,
     "metadata": {},
     "output_type": "execute_result"
    }
   ],
   "source": [
    "arr8[(arr8 > 20) & (arr8 < 60)]"
   ]
  },
  {
   "cell_type": "markdown",
   "id": "57dcadb0",
   "metadata": {},
   "source": [
    "### 2D Array"
   ]
  },
  {
   "cell_type": "code",
   "execution_count": 43,
   "id": "9180d4c0",
   "metadata": {},
   "outputs": [],
   "source": [
    "arr9 = np.array([[1,2,3,4],[5,6,7,8],[9,10,11,12]])"
   ]
  },
  {
   "cell_type": "code",
   "execution_count": 44,
   "id": "791853c2",
   "metadata": {},
   "outputs": [
    {
     "data": {
      "text/plain": [
       "array([[ 1,  2,  3,  4],\n",
       "       [ 5,  6,  7,  8],\n",
       "       [ 9, 10, 11, 12]])"
      ]
     },
     "execution_count": 44,
     "metadata": {},
     "output_type": "execute_result"
    }
   ],
   "source": [
    "arr9"
   ]
  },
  {
   "cell_type": "code",
   "execution_count": 45,
   "id": "9d8bb7e4",
   "metadata": {},
   "outputs": [
    {
     "data": {
      "text/plain": [
       "2"
      ]
     },
     "execution_count": 45,
     "metadata": {},
     "output_type": "execute_result"
    }
   ],
   "source": [
    "arr9.ndim"
   ]
  },
  {
   "cell_type": "code",
   "execution_count": 46,
   "id": "c18e0f3f",
   "metadata": {},
   "outputs": [
    {
     "data": {
      "text/plain": [
       "(3, 4)"
      ]
     },
     "execution_count": 46,
     "metadata": {},
     "output_type": "execute_result"
    }
   ],
   "source": [
    "arr9.shape  "
   ]
  },
  {
   "cell_type": "raw",
   "id": "9def1a8f",
   "metadata": {},
   "source": [
    "(3,4) Indicates \n",
    "     \n",
    "     No of elements in first dimension is --> 3\n",
    "     No of elements in Second dimension is --> 4\n",
    "     \n",
    "      [[ 1,  2,  3,  4],\n",
    "       [ 5,  6,  7,  8],\n",
    "       [ 9, 10, 11, 12]])\n",
    "     "
   ]
  },
  {
   "cell_type": "code",
   "execution_count": 47,
   "id": "4c721405",
   "metadata": {},
   "outputs": [
    {
     "data": {
      "text/plain": [
       "12"
      ]
     },
     "execution_count": 47,
     "metadata": {},
     "output_type": "execute_result"
    }
   ],
   "source": [
    "arr9.size # Total Number of elements in the array"
   ]
  },
  {
   "cell_type": "code",
   "execution_count": 48,
   "id": "c9737391",
   "metadata": {},
   "outputs": [
    {
     "name": "stderr",
     "output_type": "stream",
     "text": [
      "C:\\Users\\MANU\\AppData\\Local\\Temp/ipykernel_6968/287533534.py:1: VisibleDeprecationWarning: Creating an ndarray from ragged nested sequences (which is a list-or-tuple of lists-or-tuples-or ndarrays with different lengths or shapes) is deprecated. If you meant to do this, you must specify 'dtype=object' when creating the ndarray.\n",
      "  arr10 =  np.array([[1,2,3,4],[5,6,7,8],[9,10,12],[1,2,3,4],[5,6,7,8],[9,11,12]])\n"
     ]
    }
   ],
   "source": [
    "arr10 =  np.array([[1,2,3,4],[5,6,7,8],[9,10,12],[1,2,3,4],[5,6,7,8],[9,11,12]])"
   ]
  },
  {
   "cell_type": "code",
   "execution_count": 49,
   "id": "a20538fc",
   "metadata": {},
   "outputs": [
    {
     "data": {
      "text/plain": [
       "array([list([1, 2, 3, 4]), list([5, 6, 7, 8]), list([9, 10, 12]),\n",
       "       list([1, 2, 3, 4]), list([5, 6, 7, 8]), list([9, 11, 12])],\n",
       "      dtype=object)"
      ]
     },
     "execution_count": 49,
     "metadata": {},
     "output_type": "execute_result"
    }
   ],
   "source": [
    "arr10"
   ]
  },
  {
   "cell_type": "raw",
   "id": "cd26ffdf",
   "metadata": {},
   "source": [
    "Here the all the inner arrays have the same number of elements\n",
    "Can they have different Number of elements for each array ?\n",
    "It is not possible \n",
    "Beacuse a 2D Array is treated as a matrix \n",
    "if the inner arrays have different number of elements then it is considered as a array of lists"
   ]
  },
  {
   "cell_type": "code",
   "execution_count": 50,
   "id": "be29b000",
   "metadata": {},
   "outputs": [
    {
     "data": {
      "text/plain": [
       "dtype('O')"
      ]
     },
     "execution_count": 50,
     "metadata": {},
     "output_type": "execute_result"
    }
   ],
   "source": [
    "arr10.dtype"
   ]
  },
  {
   "cell_type": "raw",
   "id": "b577a44a",
   "metadata": {},
   "source": [
    "By chance if data is missing then we can fill those places with np.nan "
   ]
  },
  {
   "cell_type": "code",
   "execution_count": 51,
   "id": "4d301259",
   "metadata": {},
   "outputs": [],
   "source": [
    "arr10 =  np.array([[1,2,3,4],[5,6,7,8],[9,10,12,np.nan],[1,2,3,4],[5,6,7,8],[9,11,12,np.nan]])"
   ]
  },
  {
   "cell_type": "code",
   "execution_count": 52,
   "id": "21e2e730",
   "metadata": {},
   "outputs": [
    {
     "data": {
      "text/plain": [
       "array([[ 1.,  2.,  3.,  4.],\n",
       "       [ 5.,  6.,  7.,  8.],\n",
       "       [ 9., 10., 12., nan],\n",
       "       [ 1.,  2.,  3.,  4.],\n",
       "       [ 5.,  6.,  7.,  8.],\n",
       "       [ 9., 11., 12., nan]])"
      ]
     },
     "execution_count": 52,
     "metadata": {},
     "output_type": "execute_result"
    }
   ],
   "source": [
    "arr10"
   ]
  },
  {
   "cell_type": "raw",
   "id": "1f60d73e",
   "metadata": {},
   "source": [
    "But It will Automatically converst the data type to float "
   ]
  },
  {
   "cell_type": "code",
   "execution_count": 53,
   "id": "64ede676",
   "metadata": {},
   "outputs": [
    {
     "data": {
      "text/plain": [
       "dtype('float64')"
      ]
     },
     "execution_count": 53,
     "metadata": {},
     "output_type": "execute_result"
    }
   ],
   "source": [
    "arr10.dtype"
   ]
  },
  {
   "cell_type": "code",
   "execution_count": null,
   "id": "390fbd44",
   "metadata": {},
   "outputs": [],
   "source": [
    " "
   ]
  }
 ],
 "metadata": {
  "kernelspec": {
   "display_name": "Python 3 (ipykernel)",
   "language": "python",
   "name": "python3"
  },
  "language_info": {
   "codemirror_mode": {
    "name": "ipython",
    "version": 3
   },
   "file_extension": ".py",
   "mimetype": "text/x-python",
   "name": "python",
   "nbconvert_exporter": "python",
   "pygments_lexer": "ipython3",
   "version": "3.9.7"
  }
 },
 "nbformat": 4,
 "nbformat_minor": 5
}
